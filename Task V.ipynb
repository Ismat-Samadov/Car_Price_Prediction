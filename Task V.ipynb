{
 "cells": [
  {
   "cell_type": "markdown",
   "id": "4d61ec07",
   "metadata": {},
   "source": [
    "####  1 -  Turboaz datasını scrape edin"
   ]
  },
  {
   "cell_type": "markdown",
   "id": "c38b9098",
   "metadata": {},
   "source": [
    "#### 2 - Ən yüksək nəticə verən modeli qurun"
   ]
  },
  {
   "cell_type": "markdown",
   "id": "f93bc42a",
   "metadata": {},
   "source": [
    "#### 3 - Maşının bazar dəyərini proqnoz edən  funksiya yazın ( inputlar - make, model, engine, year )"
   ]
  },
  {
   "cell_type": "code",
   "execution_count": 1,
   "id": "2739a21b-4bb2-46fe-b7ae-d119c846e3fe",
   "metadata": {},
   "outputs": [
    {
     "name": "stdout",
     "output_type": "stream",
     "text": [
      "Setup Complete\n"
     ]
    }
   ],
   "source": [
    "from selenium import webdriver\n",
    "import pandas as pd\n",
    "import pandas as pd\n",
    "import numpy as np\n",
    "from bs4 import BeautifulSoup\n",
    "import requests\n",
    "import re \n",
    "from matplotlib import pyplot as plt\n",
    "import seaborn as sns\n",
    "pd.plotting.register_matplotlib_converters()\n",
    "# %matplotlib inline\n",
    "print(\"Setup Complete\")"
   ]
  },
  {
   "cell_type": "markdown",
   "id": "754fa3c3-7d25-436a-9f6e-5fe2af74ffd5",
   "metadata": {},
   "source": [
    "## another method from github"
   ]
  },
  {
   "cell_type": "code",
   "execution_count": null,
   "id": "9c0bc441-70d0-4cbf-9525-c87c2317b874",
   "metadata": {},
   "outputs": [],
   "source": [
    "from selenium import webdriver\n",
    "from selenium.webdriver.common.by import By\n",
    "from selenium.common.exceptions import NoSuchElementException\n",
    "from csv import writer\n",
    "from time import sleep\n",
    "\n",
    "driver = webdriver.Chrome('/Users/nijatjafarov/Downloads/chromedriver')\n",
    "\n",
    "driver.get('https://turbo.az/autos?utf8=%E2%9C%93&q%5Bsort%5D=&q%5Bmake%5D%5B%5D=&q%5Bmake%5D%5B%5D=23&q%5Bmodel%5D%5B%5D=&q%5Bmodel%5D%5B%5D=946')\n",
    "\n",
    "with open('turbo.csv', 'w') as turbo_csv:\n",
    "    csv_writer = writer(turbo_csv)\n",
    "    csv_writer.writerow(['Price', 'Year', 'Engine', 'Distance'])\n",
    "    while True:\n",
    "        cars = driver.find_elements(By.CLASS_NAME, 'products-i__bottom')\n",
    "        for car in cars:\n",
    "            price = car.find_element(By.CLASS_NAME, 'product-price').text\n",
    "            year, engine, distance = car.find_element(By.CLASS_NAME, 'products-i__attributes').text.split(', ')\n",
    "            \n",
    "            csv_writer.writerow([price, year, engine, distance])\n",
    "        try:\n",
    "            next_button = driver.find_element(By.LINK_TEXT, 'Növbəti')\n",
    "            next_button.click()\n",
    "            sleep(5)\n",
    "        except NoSuchElementException:\n",
    "            driver.quit()\n",
    "#driver.quit()"
   ]
  },
  {
   "cell_type": "markdown",
   "id": "5103ddf8-d12f-486e-8d54-3ac155259e3b",
   "metadata": {},
   "source": [
    "## main method for me"
   ]
  },
  {
   "cell_type": "code",
   "execution_count": 65,
   "id": "0d1324cd-18ca-4672-aa77-94ddbfabf45d",
   "metadata": {},
   "outputs": [],
   "source": [
    "turboaz = pd.DataFrame()"
   ]
  },
  {
   "cell_type": "code",
   "execution_count": 68,
   "id": "db6c38e8-7161-476a-a804-b252dd887608",
   "metadata": {},
   "outputs": [
    {
     "name": "stdout",
     "output_type": "stream",
     "text": [
      "Wall time: 47min 22s\n"
     ]
    }
   ],
   "source": [
    "%%time\n",
    "\n",
    "for page_num in range(1,4000):\n",
    "    url = f'https://turbo.az/autos?page={page_num}'\n",
    "    \n",
    "    page = requests.get(url)\n",
    "\n",
    "    html = BeautifulSoup(page.content, 'html.parser')\n",
    "\n",
    "    html_result = html.find_all('div', class_ = 'products-i__bottom')\n",
    "\n",
    "    # sub - substitute\n",
    "    for i in range(len(html_result)):   \n",
    "        car_info = re.sub('<[^>]+>' , ' ', str(html_result[i]))\n",
    "        price = int(car_info.strip().split('  ')[0].replace(' ',''))\n",
    "        currency = car_info.strip().split('  ')[1]\n",
    "        make_model = car_info.strip().split('  ')[3]\n",
    "        year = int(car_info.strip().split('  ')[4].split(',')[0])\n",
    "        engine = car_info.strip().split('  ')[4].split(',')[1].strip()\n",
    "        km = car_info.strip().split('  ')[4].split(',')[2].strip()\n",
    "        city = car_info.strip().split('  ')[5].split(',')[0]\n",
    "        date = car_info.strip().split('  ')[5].split(',')[1].strip()\n",
    "\n",
    "\n",
    "        turboaz = turboaz.append({\n",
    "            'Price':price,\n",
    "            'Currency':currency,\n",
    "            'Make_and_Model':make_model,\n",
    "            'Production_Year':year,\n",
    "            'Engine_Power':engine,\n",
    "            'KM_Driven':km,\n",
    "            'City':city,\n",
    "            'Date':date\n",
    "        }, ignore_index=True)"
   ]
  },
  {
   "cell_type": "code",
   "execution_count": 69,
   "id": "58ca232d-08d9-40e0-8823-facccadc96a5",
   "metadata": {},
   "outputs": [
    {
     "data": {
      "text/html": [
       "<div>\n",
       "<style scoped>\n",
       "    .dataframe tbody tr th:only-of-type {\n",
       "        vertical-align: middle;\n",
       "    }\n",
       "\n",
       "    .dataframe tbody tr th {\n",
       "        vertical-align: top;\n",
       "    }\n",
       "\n",
       "    .dataframe thead th {\n",
       "        text-align: right;\n",
       "    }\n",
       "</style>\n",
       "<table border=\"1\" class=\"dataframe\">\n",
       "  <thead>\n",
       "    <tr style=\"text-align: right;\">\n",
       "      <th></th>\n",
       "      <th>Price</th>\n",
       "      <th>Currency</th>\n",
       "      <th>Make_and_Model</th>\n",
       "      <th>Production_Year</th>\n",
       "      <th>Engine_Power</th>\n",
       "      <th>KM_Driven</th>\n",
       "      <th>City</th>\n",
       "      <th>Date</th>\n",
       "    </tr>\n",
       "  </thead>\n",
       "  <tbody>\n",
       "    <tr>\n",
       "      <th>0</th>\n",
       "      <td>77000.0</td>\n",
       "      <td>$</td>\n",
       "      <td>Maserati Levante</td>\n",
       "      <td>2018.0</td>\n",
       "      <td>3.0 L</td>\n",
       "      <td>35 000 km</td>\n",
       "      <td>Bakı</td>\n",
       "      <td>12.09.2022 16:34</td>\n",
       "    </tr>\n",
       "    <tr>\n",
       "      <th>1</th>\n",
       "      <td>37900.0</td>\n",
       "      <td>AZN</td>\n",
       "      <td>Changan CS 35</td>\n",
       "      <td>2022.0</td>\n",
       "      <td>1.4 L</td>\n",
       "      <td>0 km</td>\n",
       "      <td>Bakı</td>\n",
       "      <td>17.09.2022 15:06</td>\n",
       "    </tr>\n",
       "    <tr>\n",
       "      <th>2</th>\n",
       "      <td>34300.0</td>\n",
       "      <td>AZN</td>\n",
       "      <td>Hyundai Santa Fe</td>\n",
       "      <td>2016.0</td>\n",
       "      <td>2.0 L</td>\n",
       "      <td>35 000 km</td>\n",
       "      <td>Bakı</td>\n",
       "      <td>dünən 17:49</td>\n",
       "    </tr>\n",
       "    <tr>\n",
       "      <th>3</th>\n",
       "      <td>30542.0</td>\n",
       "      <td>AZN</td>\n",
       "      <td>Toyota Prado</td>\n",
       "      <td>2008.0</td>\n",
       "      <td>2.7 L</td>\n",
       "      <td>157 000 km</td>\n",
       "      <td>Bakı</td>\n",
       "      <td>dünən 23:01</td>\n",
       "    </tr>\n",
       "    <tr>\n",
       "      <th>4</th>\n",
       "      <td>11500.0</td>\n",
       "      <td>AZN</td>\n",
       "      <td>Volkswagen Passat</td>\n",
       "      <td>2005.0</td>\n",
       "      <td>2.0 L</td>\n",
       "      <td>423 000 km</td>\n",
       "      <td>Lənkəran</td>\n",
       "      <td>17.09.2022 16:30</td>\n",
       "    </tr>\n",
       "    <tr>\n",
       "      <th>...</th>\n",
       "      <td>...</td>\n",
       "      <td>...</td>\n",
       "      <td>...</td>\n",
       "      <td>...</td>\n",
       "      <td>...</td>\n",
       "      <td>...</td>\n",
       "      <td>...</td>\n",
       "      <td>...</td>\n",
       "    </tr>\n",
       "    <tr>\n",
       "      <th>15043</th>\n",
       "      <td>25600.0</td>\n",
       "      <td>AZN</td>\n",
       "      <td>Chery Tiggo 2</td>\n",
       "      <td>2020.0</td>\n",
       "      <td>1.5 L</td>\n",
       "      <td>10 350 km</td>\n",
       "      <td>Bakı</td>\n",
       "      <td>15.09.2022 19:39</td>\n",
       "    </tr>\n",
       "    <tr>\n",
       "      <th>15044</th>\n",
       "      <td>8400.0</td>\n",
       "      <td>AZN</td>\n",
       "      <td>Subaru Forester</td>\n",
       "      <td>2007.0</td>\n",
       "      <td>2.0 L</td>\n",
       "      <td>270 000 km</td>\n",
       "      <td>Bakı</td>\n",
       "      <td>15.09.2022 19:56</td>\n",
       "    </tr>\n",
       "    <tr>\n",
       "      <th>15045</th>\n",
       "      <td>6900.0</td>\n",
       "      <td>AZN</td>\n",
       "      <td>LADA (VAZ) Kalina</td>\n",
       "      <td>2005.0</td>\n",
       "      <td>1.6 L</td>\n",
       "      <td>267 000 km</td>\n",
       "      <td>Bakı</td>\n",
       "      <td>15.09.2022 19:37</td>\n",
       "    </tr>\n",
       "    <tr>\n",
       "      <th>15046</th>\n",
       "      <td>17500.0</td>\n",
       "      <td>AZN</td>\n",
       "      <td>Kia Sportage</td>\n",
       "      <td>2008.0</td>\n",
       "      <td>2.0 L</td>\n",
       "      <td>251 568 km</td>\n",
       "      <td>Sumqayıt</td>\n",
       "      <td>15.09.2022 19:36</td>\n",
       "    </tr>\n",
       "    <tr>\n",
       "      <th>15047</th>\n",
       "      <td>14700.0</td>\n",
       "      <td>AZN</td>\n",
       "      <td>Chevrolet Cruze</td>\n",
       "      <td>2013.0</td>\n",
       "      <td>1.4 L</td>\n",
       "      <td>228 000 km</td>\n",
       "      <td>Bakı</td>\n",
       "      <td>15.09.2022 19:36</td>\n",
       "    </tr>\n",
       "  </tbody>\n",
       "</table>\n",
       "<p>15048 rows × 8 columns</p>\n",
       "</div>"
      ],
      "text/plain": [
       "         Price Currency     Make_and_Model  Production_Year Engine_Power  \\\n",
       "0      77000.0        $   Maserati Levante           2018.0        3.0 L   \n",
       "1      37900.0      AZN      Changan CS 35           2022.0        1.4 L   \n",
       "2      34300.0      AZN   Hyundai Santa Fe           2016.0        2.0 L   \n",
       "3      30542.0      AZN       Toyota Prado           2008.0        2.7 L   \n",
       "4      11500.0      AZN  Volkswagen Passat           2005.0        2.0 L   \n",
       "...        ...      ...                ...              ...          ...   \n",
       "15043  25600.0      AZN      Chery Tiggo 2           2020.0        1.5 L   \n",
       "15044   8400.0      AZN    Subaru Forester           2007.0        2.0 L   \n",
       "15045   6900.0      AZN  LADA (VAZ) Kalina           2005.0        1.6 L   \n",
       "15046  17500.0      AZN       Kia Sportage           2008.0        2.0 L   \n",
       "15047  14700.0      AZN    Chevrolet Cruze           2013.0        1.4 L   \n",
       "\n",
       "        KM_Driven      City              Date  \n",
       "0       35 000 km      Bakı  12.09.2022 16:34  \n",
       "1            0 km      Bakı  17.09.2022 15:06  \n",
       "2       35 000 km      Bakı       dünən 17:49  \n",
       "3      157 000 km      Bakı       dünən 23:01  \n",
       "4      423 000 km  Lənkəran  17.09.2022 16:30  \n",
       "...           ...       ...               ...  \n",
       "15043   10 350 km      Bakı  15.09.2022 19:39  \n",
       "15044  270 000 km      Bakı  15.09.2022 19:56  \n",
       "15045  267 000 km      Bakı  15.09.2022 19:37  \n",
       "15046  251 568 km  Sumqayıt  15.09.2022 19:36  \n",
       "15047  228 000 km      Bakı  15.09.2022 19:36  \n",
       "\n",
       "[15048 rows x 8 columns]"
      ]
     },
     "execution_count": 69,
     "metadata": {},
     "output_type": "execute_result"
    }
   ],
   "source": [
    "turboaz"
   ]
  },
  {
   "cell_type": "code",
   "execution_count": 8,
   "id": "93928852-edba-4dbb-ba29-dec03893f189",
   "metadata": {},
   "outputs": [],
   "source": [
    "#turboaz=pd.read_excel(r'C:\\Users\\Ismat\\OneDrive\\Рабочий стол\\document\\etc\\kurslar\\lesson_course\\data\\turbo.xlsx')"
   ]
  },
  {
   "cell_type": "code",
   "execution_count": 6,
   "id": "fc2ed05a-c579-44c2-b47a-8daf1d2e23eb",
   "metadata": {},
   "outputs": [
    {
     "data": {
      "text/plain": [
       "array(['USD', 'AZN', 'EUR', '$', '€'], dtype=object)"
      ]
     },
     "execution_count": 6,
     "metadata": {},
     "output_type": "execute_result"
    }
   ],
   "source": [
    "turboaz['Currency'].unique()"
   ]
  },
  {
   "cell_type": "code",
   "execution_count": 10,
   "id": "b7c4e825-86fe-485d-9fe8-a631662f2bef",
   "metadata": {},
   "outputs": [
    {
     "data": {
      "text/html": [
       "<div>\n",
       "<style scoped>\n",
       "    .dataframe tbody tr th:only-of-type {\n",
       "        vertical-align: middle;\n",
       "    }\n",
       "\n",
       "    .dataframe tbody tr th {\n",
       "        vertical-align: top;\n",
       "    }\n",
       "\n",
       "    .dataframe thead th {\n",
       "        text-align: right;\n",
       "    }\n",
       "</style>\n",
       "<table border=\"1\" class=\"dataframe\">\n",
       "  <thead>\n",
       "    <tr style=\"text-align: right;\">\n",
       "      <th></th>\n",
       "      <th>Unnamed: 0</th>\n",
       "      <th>Price</th>\n",
       "      <th>Currency</th>\n",
       "      <th>Make_and_Model</th>\n",
       "      <th>Production_Year</th>\n",
       "      <th>Engine_Power</th>\n",
       "      <th>KM_Driven</th>\n",
       "      <th>City</th>\n",
       "      <th>Date</th>\n",
       "      <th>Date1</th>\n",
       "      <th>Time</th>\n",
       "      <th>Date2</th>\n",
       "      <th>Engine</th>\n",
       "      <th>km</th>\n",
       "    </tr>\n",
       "  </thead>\n",
       "  <tbody>\n",
       "    <tr>\n",
       "      <th>0</th>\n",
       "      <td>0</td>\n",
       "      <td>1007165.0</td>\n",
       "      <td>USD</td>\n",
       "      <td>Mercedes GLS 580</td>\n",
       "      <td>2022</td>\n",
       "      <td>4.0 L</td>\n",
       "      <td>0 km</td>\n",
       "      <td>Bakı</td>\n",
       "      <td>25.08.2022 11:26</td>\n",
       "      <td>25.08.2022</td>\n",
       "      <td>11:26</td>\n",
       "      <td>25.08.2022</td>\n",
       "      <td>4.0</td>\n",
       "      <td>0</td>\n",
       "    </tr>\n",
       "    <tr>\n",
       "      <th>1</th>\n",
       "      <td>1</td>\n",
       "      <td>410235.5</td>\n",
       "      <td>USD</td>\n",
       "      <td>Mercedes E 300</td>\n",
       "      <td>2022</td>\n",
       "      <td>2.0 L</td>\n",
       "      <td>0 km</td>\n",
       "      <td>Bakı</td>\n",
       "      <td>25.08.2022 11:27</td>\n",
       "      <td>25.08.2022</td>\n",
       "      <td>11:27</td>\n",
       "      <td>25.08.2022</td>\n",
       "      <td>2.0</td>\n",
       "      <td>0</td>\n",
       "    </tr>\n",
       "    <tr>\n",
       "      <th>2</th>\n",
       "      <td>2</td>\n",
       "      <td>37200.0</td>\n",
       "      <td>AZN</td>\n",
       "      <td>KAIYI X3 Pro</td>\n",
       "      <td>2022</td>\n",
       "      <td>1.5 L</td>\n",
       "      <td>0 km</td>\n",
       "      <td>Bakı</td>\n",
       "      <td>08.08.2022 14:01</td>\n",
       "      <td>08.08.2022</td>\n",
       "      <td>14:01</td>\n",
       "      <td>08.08.2022</td>\n",
       "      <td>1.5</td>\n",
       "      <td>0</td>\n",
       "    </tr>\n",
       "    <tr>\n",
       "      <th>3</th>\n",
       "      <td>3</td>\n",
       "      <td>200941.7</td>\n",
       "      <td>USD</td>\n",
       "      <td>Subaru Forester</td>\n",
       "      <td>2022</td>\n",
       "      <td>2.5 L</td>\n",
       "      <td>0 km</td>\n",
       "      <td>Bakı</td>\n",
       "      <td>26.08.2022 09:15</td>\n",
       "      <td>26.08.2022</td>\n",
       "      <td>09:15</td>\n",
       "      <td>26.08.2022</td>\n",
       "      <td>2.5</td>\n",
       "      <td>0</td>\n",
       "    </tr>\n",
       "    <tr>\n",
       "      <th>4</th>\n",
       "      <td>4</td>\n",
       "      <td>14400.0</td>\n",
       "      <td>AZN</td>\n",
       "      <td>Nissan Tiida</td>\n",
       "      <td>2012</td>\n",
       "      <td>1.5 L</td>\n",
       "      <td>39 000 km</td>\n",
       "      <td>Bakı</td>\n",
       "      <td>27.08.2022 10:22</td>\n",
       "      <td>27.08.2022</td>\n",
       "      <td>10:22</td>\n",
       "      <td>27.08.2022</td>\n",
       "      <td>1.5</td>\n",
       "      <td>39</td>\n",
       "    </tr>\n",
       "    <tr>\n",
       "      <th>...</th>\n",
       "      <td>...</td>\n",
       "      <td>...</td>\n",
       "      <td>...</td>\n",
       "      <td>...</td>\n",
       "      <td>...</td>\n",
       "      <td>...</td>\n",
       "      <td>...</td>\n",
       "      <td>...</td>\n",
       "      <td>...</td>\n",
       "      <td>...</td>\n",
       "      <td>...</td>\n",
       "      <td>...</td>\n",
       "      <td>...</td>\n",
       "      <td>...</td>\n",
       "    </tr>\n",
       "    <tr>\n",
       "      <th>17493</th>\n",
       "      <td>25512</td>\n",
       "      <td>89590.0</td>\n",
       "      <td>USD</td>\n",
       "      <td>Jeep Grand Cherokee</td>\n",
       "      <td>2014</td>\n",
       "      <td>3.6 L</td>\n",
       "      <td>102 000 km</td>\n",
       "      <td>Bakı</td>\n",
       "      <td>27.08.2022 19:01</td>\n",
       "      <td>27.08.2022</td>\n",
       "      <td>19:01</td>\n",
       "      <td>27.08.2022</td>\n",
       "      <td>3.6</td>\n",
       "      <td>102</td>\n",
       "    </tr>\n",
       "    <tr>\n",
       "      <th>17494</th>\n",
       "      <td>25515</td>\n",
       "      <td>184960.0</td>\n",
       "      <td>USD</td>\n",
       "      <td>Lexus RX 300</td>\n",
       "      <td>2020</td>\n",
       "      <td>2.0 L</td>\n",
       "      <td>39 000 km</td>\n",
       "      <td>Bakı</td>\n",
       "      <td>27.08.2022 19:56</td>\n",
       "      <td>27.08.2022</td>\n",
       "      <td>19:56</td>\n",
       "      <td>27.08.2022</td>\n",
       "      <td>2.0</td>\n",
       "      <td>39</td>\n",
       "    </tr>\n",
       "    <tr>\n",
       "      <th>17495</th>\n",
       "      <td>25517</td>\n",
       "      <td>69360.0</td>\n",
       "      <td>USD</td>\n",
       "      <td>BMW 528</td>\n",
       "      <td>2013</td>\n",
       "      <td>2.0 L</td>\n",
       "      <td>185 000 km</td>\n",
       "      <td>Bakı</td>\n",
       "      <td>27.08.2022 19:03</td>\n",
       "      <td>27.08.2022</td>\n",
       "      <td>19:03</td>\n",
       "      <td>27.08.2022</td>\n",
       "      <td>2.0</td>\n",
       "      <td>185</td>\n",
       "    </tr>\n",
       "    <tr>\n",
       "      <th>17496</th>\n",
       "      <td>25518</td>\n",
       "      <td>95370.0</td>\n",
       "      <td>USD</td>\n",
       "      <td>Toyota Land Cruiser</td>\n",
       "      <td>2011</td>\n",
       "      <td>4.0 L</td>\n",
       "      <td>147 629 km</td>\n",
       "      <td>Bakı</td>\n",
       "      <td>27.08.2022 19:36</td>\n",
       "      <td>27.08.2022</td>\n",
       "      <td>19:36</td>\n",
       "      <td>27.08.2022</td>\n",
       "      <td>4.0</td>\n",
       "      <td>147</td>\n",
       "    </tr>\n",
       "    <tr>\n",
       "      <th>17497</th>\n",
       "      <td>25537</td>\n",
       "      <td>2300.0</td>\n",
       "      <td>AZN</td>\n",
       "      <td>Hyundai Accent</td>\n",
       "      <td>1995</td>\n",
       "      <td>1.5 L</td>\n",
       "      <td>250 000 km</td>\n",
       "      <td>Bakı</td>\n",
       "      <td>dünən 16:52</td>\n",
       "      <td>dünən</td>\n",
       "      <td>16:52</td>\n",
       "      <td>2022-08-31</td>\n",
       "      <td>1.5</td>\n",
       "      <td>250</td>\n",
       "    </tr>\n",
       "  </tbody>\n",
       "</table>\n",
       "<p>17498 rows × 14 columns</p>\n",
       "</div>"
      ],
      "text/plain": [
       "       Unnamed: 0      Price Currency       Make_and_Model  Production_Year  \\\n",
       "0               0  1007165.0      USD     Mercedes GLS 580             2022   \n",
       "1               1   410235.5      USD       Mercedes E 300             2022   \n",
       "2               2    37200.0      AZN         KAIYI X3 Pro             2022   \n",
       "3               3   200941.7      USD      Subaru Forester             2022   \n",
       "4               4    14400.0      AZN         Nissan Tiida             2012   \n",
       "...           ...        ...      ...                  ...              ...   \n",
       "17493       25512    89590.0      USD  Jeep Grand Cherokee             2014   \n",
       "17494       25515   184960.0      USD         Lexus RX 300             2020   \n",
       "17495       25517    69360.0      USD              BMW 528             2013   \n",
       "17496       25518    95370.0      USD  Toyota Land Cruiser             2011   \n",
       "17497       25537     2300.0      AZN       Hyundai Accent             1995   \n",
       "\n",
       "      Engine_Power   KM_Driven  City              Date       Date1   Time  \\\n",
       "0            4.0 L        0 km  Bakı  25.08.2022 11:26  25.08.2022  11:26   \n",
       "1            2.0 L        0 km  Bakı  25.08.2022 11:27  25.08.2022  11:27   \n",
       "2            1.5 L        0 km  Bakı  08.08.2022 14:01  08.08.2022  14:01   \n",
       "3            2.5 L        0 km  Bakı  26.08.2022 09:15  26.08.2022  09:15   \n",
       "4            1.5 L   39 000 km  Bakı  27.08.2022 10:22  27.08.2022  10:22   \n",
       "...            ...         ...   ...               ...         ...    ...   \n",
       "17493        3.6 L  102 000 km  Bakı  27.08.2022 19:01  27.08.2022  19:01   \n",
       "17494        2.0 L   39 000 km  Bakı  27.08.2022 19:56  27.08.2022  19:56   \n",
       "17495        2.0 L  185 000 km  Bakı  27.08.2022 19:03  27.08.2022  19:03   \n",
       "17496        4.0 L  147 629 km  Bakı  27.08.2022 19:36  27.08.2022  19:36   \n",
       "17497        1.5 L  250 000 km  Bakı       dünən 16:52       dünən  16:52   \n",
       "\n",
       "            Date2  Engine   km  \n",
       "0      25.08.2022     4.0    0  \n",
       "1      25.08.2022     2.0    0  \n",
       "2      08.08.2022     1.5    0  \n",
       "3      26.08.2022     2.5    0  \n",
       "4      27.08.2022     1.5   39  \n",
       "...           ...     ...  ...  \n",
       "17493  27.08.2022     3.6  102  \n",
       "17494  27.08.2022     2.0   39  \n",
       "17495  27.08.2022     2.0  185  \n",
       "17496  27.08.2022     4.0  147  \n",
       "17497  2022-08-31     1.5  250  \n",
       "\n",
       "[17498 rows x 14 columns]"
      ]
     },
     "execution_count": 10,
     "metadata": {},
     "output_type": "execute_result"
    }
   ],
   "source": [
    "turboaz['Currency'] = turboaz['Currency'].replace('$','USD').replace('€','EUR')\n",
    "turboaz"
   ]
  },
  {
   "cell_type": "code",
   "execution_count": 11,
   "id": "79711a99-ed91-4e88-899e-009f2ff7b523",
   "metadata": {},
   "outputs": [],
   "source": [
    "url = 'https://www.cbar.az/'\n",
    "page = requests.get(url)"
   ]
  },
  {
   "cell_type": "code",
   "execution_count": 12,
   "id": "9915d346-0679-4cb0-a349-65ffe77dc329",
   "metadata": {},
   "outputs": [],
   "source": [
    "html = BeautifulSoup(page.content, 'html.parser')"
   ]
  },
  {
   "cell_type": "code",
   "execution_count": 13,
   "id": "99690de8-0d82-4a4b-9b16-5a7f2143de74",
   "metadata": {},
   "outputs": [],
   "source": [
    "html_result = html.find_all('div', class_ = 'relize_item')"
   ]
  },
  {
   "cell_type": "code",
   "execution_count": 14,
   "id": "dd644def-0f04-4df5-b375-7d84c10f420f",
   "metadata": {},
   "outputs": [],
   "source": [
    "usd_html = re.sub('<[^>]+>' , ' ', str(html_result[3])).split('   ')[1]"
   ]
  },
  {
   "cell_type": "code",
   "execution_count": 15,
   "id": "3884ac88-69c2-424a-8e93-07618acec0d2",
   "metadata": {},
   "outputs": [],
   "source": [
    "euro_html = re.sub('<[^>]+>' , ' ', str(html_result[3])).split('   ')[2]"
   ]
  },
  {
   "cell_type": "code",
   "execution_count": 16,
   "id": "4e965bfa-abed-4681-90b7-911bb435ecf4",
   "metadata": {},
   "outputs": [],
   "source": [
    "currencies_in_cbar = {}"
   ]
  },
  {
   "cell_type": "code",
   "execution_count": 17,
   "id": "01d7fab2-2ceb-48af-a955-cd4cc84781f1",
   "metadata": {},
   "outputs": [],
   "source": [
    "currencies_in_cbar[ usd_html.split('-')[0].replace('1','').strip() ] = float(usd_html.split('-')[1].strip())"
   ]
  },
  {
   "cell_type": "code",
   "execution_count": 18,
   "id": "1c4c653d-1c8b-4969-8f83-d44d491b2e25",
   "metadata": {},
   "outputs": [],
   "source": [
    "currencies_in_cbar[ euro_html.split('-')[0].replace('1','').strip() ] = float(euro_html.split('-')[1].strip())"
   ]
  },
  {
   "cell_type": "code",
   "execution_count": 19,
   "id": "1841b3b0-8297-4bfd-81b3-0b16bcf873d6",
   "metadata": {},
   "outputs": [
    {
     "data": {
      "text/plain": [
       "{'USD': 1.7, 'EUR': 1.6986}"
      ]
     },
     "execution_count": 19,
     "metadata": {},
     "output_type": "execute_result"
    }
   ],
   "source": [
    "currencies_in_cbar"
   ]
  },
  {
   "cell_type": "code",
   "execution_count": 20,
   "id": "d42a9577-6cbe-48f6-9c74-6491e8fff8fb",
   "metadata": {},
   "outputs": [],
   "source": [
    "for i in currencies_in_cbar:\n",
    "    turboaz.loc[turboaz['Currency'] == i,'Price'] = turboaz['Price'] * currencies_in_cbar[i]"
   ]
  },
  {
   "cell_type": "code",
   "execution_count": 21,
   "id": "36e71b8c-2c9b-4274-9bb4-3d900ef36f51",
   "metadata": {},
   "outputs": [
    {
     "data": {
      "text/plain": [
       "(17498, 14)"
      ]
     },
     "execution_count": 21,
     "metadata": {},
     "output_type": "execute_result"
    }
   ],
   "source": [
    "turboaz.shape"
   ]
  },
  {
   "cell_type": "code",
   "execution_count": 22,
   "id": "2fa33398-d4ba-4d28-85b1-ad37c4f4eaf0",
   "metadata": {},
   "outputs": [],
   "source": [
    "turboaz['Date1'] = turboaz['Date'].str.split(' ',expand=True)[0]\n",
    "turboaz['Time'] = turboaz['Date'].str.split(' ',expand = True)[1]"
   ]
  },
  {
   "cell_type": "code",
   "execution_count": 23,
   "id": "b51414f8-bccb-4270-a948-6c98c344c84a",
   "metadata": {},
   "outputs": [
    {
     "name": "stderr",
     "output_type": "stream",
     "text": [
      "C:\\Users\\Ismat\\AppData\\Local\\Temp/ipykernel_14372/2442265563.py:1: FutureWarning: The pandas.datetime class is deprecated and will be removed from pandas in a future version. Import from datetime module instead.\n",
      "  turboaz['Date2'] = turboaz['Date1'].str.replace('bugün', str(pd.datetime.today())[:10])\n"
     ]
    }
   ],
   "source": [
    "turboaz['Date2'] = turboaz['Date1'].str.replace('bugün', str(pd.datetime.today())[:10])"
   ]
  },
  {
   "cell_type": "code",
   "execution_count": 24,
   "id": "aa404183-ce8e-49e4-8ff8-890fdc2d0172",
   "metadata": {},
   "outputs": [
    {
     "name": "stderr",
     "output_type": "stream",
     "text": [
      "C:\\Users\\Ismat\\AppData\\Local\\Temp/ipykernel_14372/2678653825.py:1: FutureWarning: The pandas.datetime class is deprecated and will be removed from pandas in a future version. Import from datetime module instead.\n",
      "  turboaz['Date2'] = turboaz['Date2'].str.replace('dünən', str(pd.datetime.today() - pd.DateOffset(days=1))[:10])\n"
     ]
    }
   ],
   "source": [
    "turboaz['Date2'] = turboaz['Date2'].str.replace('dünən', str(pd.datetime.today() - pd.DateOffset(days=1))[:10])"
   ]
  },
  {
   "cell_type": "code",
   "execution_count": 25,
   "id": "f7ad90e8-2183-4f53-ae98-494963251269",
   "metadata": {},
   "outputs": [
    {
     "data": {
      "text/plain": [
       "0        25.08.2022\n",
       "1        25.08.2022\n",
       "2        08.08.2022\n",
       "3        26.08.2022\n",
       "4        27.08.2022\n",
       "            ...    \n",
       "17493    27.08.2022\n",
       "17494    27.08.2022\n",
       "17495    27.08.2022\n",
       "17496    27.08.2022\n",
       "17497    2022-09-18\n",
       "Name: Date2, Length: 17498, dtype: object"
      ]
     },
     "execution_count": 25,
     "metadata": {},
     "output_type": "execute_result"
    }
   ],
   "source": [
    "turboaz['Date2']"
   ]
  },
  {
   "cell_type": "code",
   "execution_count": 26,
   "id": "758682f2-f5be-4339-9975-9e05cc4ac785",
   "metadata": {},
   "outputs": [],
   "source": [
    "#turboaz['Date2']=pd.to_datetime(turboaz['Date2'])"
   ]
  },
  {
   "cell_type": "code",
   "execution_count": 27,
   "id": "af36ce88-82e4-4f37-ba13-2ef26f54a194",
   "metadata": {},
   "outputs": [
    {
     "data": {
      "text/plain": [
       "0        1712180.50\n",
       "1         697400.35\n",
       "2          37200.00\n",
       "3         341600.89\n",
       "4          14400.00\n",
       "            ...    \n",
       "17493     152303.00\n",
       "17494     314432.00\n",
       "17495     117912.00\n",
       "17496     162129.00\n",
       "17497       2300.00\n",
       "Name: Price, Length: 17498, dtype: float64"
      ]
     },
     "execution_count": 27,
     "metadata": {},
     "output_type": "execute_result"
    }
   ],
   "source": [
    "turboaz['Price']"
   ]
  },
  {
   "cell_type": "code",
   "execution_count": 28,
   "id": "212685d6-85d4-4aea-94d7-b94eebce475e",
   "metadata": {},
   "outputs": [
    {
     "data": {
      "text/plain": [
       "<AxesSubplot:xlabel='Production_Year', ylabel='Price'>"
      ]
     },
     "execution_count": 28,
     "metadata": {},
     "output_type": "execute_result"
    },
    {
     "data": {
      "image/png": "[encoded data removed]",
      "text/plain": [
       "<Figure size 432x288 with 1 Axes>"
      ]
     },
     "metadata": {
      "needs_background": "light"
     },
     "output_type": "display_data"
    }
   ],
   "source": [
    "sns.scatterplot(data=turboaz,y='Price',x='Production_Year')"
   ]
  },
  {
   "cell_type": "code",
   "execution_count": 29,
   "id": "eb33d288-280b-40ef-ae31-2e519aac22ce",
   "metadata": {},
   "outputs": [
    {
     "data": {
      "text/plain": [
       "<AxesSubplot:xlabel='Production_Year', ylabel='Price'>"
      ]
     },
     "execution_count": 29,
     "metadata": {},
     "output_type": "execute_result"
    },
    {
     "data": {
      "image/png": "[encoded data removed]",
      "text/plain": [
       "<Figure size 432x288 with 1 Axes>"
      ]
     },
     "metadata": {
      "needs_background": "light"
     },
     "output_type": "display_data"
    }
   ],
   "source": [
    "sns.histplot(data=turboaz,y='Price',x='Production_Year')"
   ]
  },
  {
   "cell_type": "code",
   "execution_count": 31,
   "id": "e5a7bf07-9eb9-4a2c-9d83-773affa829cf",
   "metadata": {},
   "outputs": [],
   "source": [
    "turboaz['km']=turboaz.KM_Driven.str.split(expand=True)[0]"
   ]
  },
  {
   "cell_type": "code",
   "execution_count": 32,
   "id": "249f0aec-bf5f-42ab-8823-b8760d6ee27e",
   "metadata": {},
   "outputs": [],
   "source": [
    "turboaz['Engine']=turboaz.Engine_Power.str.split(expand=True)[0]"
   ]
  },
  {
   "cell_type": "code",
   "execution_count": 33,
   "id": "8d67cbc5-de94-493d-9fce-05f4dd5404e5",
   "metadata": {},
   "outputs": [
    {
     "data": {
      "text/html": [
       "<div>\n",
       "<style scoped>\n",
       "    .dataframe tbody tr th:only-of-type {\n",
       "        vertical-align: middle;\n",
       "    }\n",
       "\n",
       "    .dataframe tbody tr th {\n",
       "        vertical-align: top;\n",
       "    }\n",
       "\n",
       "    .dataframe thead th {\n",
       "        text-align: right;\n",
       "    }\n",
       "</style>\n",
       "<table border=\"1\" class=\"dataframe\">\n",
       "  <thead>\n",
       "    <tr style=\"text-align: right;\">\n",
       "      <th></th>\n",
       "      <th>Unnamed: 0</th>\n",
       "      <th>Price</th>\n",
       "      <th>Currency</th>\n",
       "      <th>Make_and_Model</th>\n",
       "      <th>Production_Year</th>\n",
       "      <th>Engine_Power</th>\n",
       "      <th>KM_Driven</th>\n",
       "      <th>City</th>\n",
       "      <th>Date</th>\n",
       "      <th>Date1</th>\n",
       "      <th>Time</th>\n",
       "      <th>Date2</th>\n",
       "      <th>Engine</th>\n",
       "      <th>km</th>\n",
       "    </tr>\n",
       "  </thead>\n",
       "  <tbody>\n",
       "    <tr>\n",
       "      <th>0</th>\n",
       "      <td>0</td>\n",
       "      <td>1712180.50</td>\n",
       "      <td>USD</td>\n",
       "      <td>Mercedes GLS 580</td>\n",
       "      <td>2022</td>\n",
       "      <td>4.0 L</td>\n",
       "      <td>0 km</td>\n",
       "      <td>Bakı</td>\n",
       "      <td>25.08.2022 11:26</td>\n",
       "      <td>25.08.2022</td>\n",
       "      <td>11:26</td>\n",
       "      <td>25.08.2022</td>\n",
       "      <td>4.0</td>\n",
       "      <td>0</td>\n",
       "    </tr>\n",
       "    <tr>\n",
       "      <th>1</th>\n",
       "      <td>1</td>\n",
       "      <td>697400.35</td>\n",
       "      <td>USD</td>\n",
       "      <td>Mercedes E 300</td>\n",
       "      <td>2022</td>\n",
       "      <td>2.0 L</td>\n",
       "      <td>0 km</td>\n",
       "      <td>Bakı</td>\n",
       "      <td>25.08.2022 11:27</td>\n",
       "      <td>25.08.2022</td>\n",
       "      <td>11:27</td>\n",
       "      <td>25.08.2022</td>\n",
       "      <td>2.0</td>\n",
       "      <td>0</td>\n",
       "    </tr>\n",
       "    <tr>\n",
       "      <th>2</th>\n",
       "      <td>2</td>\n",
       "      <td>37200.00</td>\n",
       "      <td>AZN</td>\n",
       "      <td>KAIYI X3 Pro</td>\n",
       "      <td>2022</td>\n",
       "      <td>1.5 L</td>\n",
       "      <td>0 km</td>\n",
       "      <td>Bakı</td>\n",
       "      <td>08.08.2022 14:01</td>\n",
       "      <td>08.08.2022</td>\n",
       "      <td>14:01</td>\n",
       "      <td>08.08.2022</td>\n",
       "      <td>1.5</td>\n",
       "      <td>0</td>\n",
       "    </tr>\n",
       "    <tr>\n",
       "      <th>3</th>\n",
       "      <td>3</td>\n",
       "      <td>341600.89</td>\n",
       "      <td>USD</td>\n",
       "      <td>Subaru Forester</td>\n",
       "      <td>2022</td>\n",
       "      <td>2.5 L</td>\n",
       "      <td>0 km</td>\n",
       "      <td>Bakı</td>\n",
       "      <td>26.08.2022 09:15</td>\n",
       "      <td>26.08.2022</td>\n",
       "      <td>09:15</td>\n",
       "      <td>26.08.2022</td>\n",
       "      <td>2.5</td>\n",
       "      <td>0</td>\n",
       "    </tr>\n",
       "    <tr>\n",
       "      <th>4</th>\n",
       "      <td>4</td>\n",
       "      <td>14400.00</td>\n",
       "      <td>AZN</td>\n",
       "      <td>Nissan Tiida</td>\n",
       "      <td>2012</td>\n",
       "      <td>1.5 L</td>\n",
       "      <td>39 000 km</td>\n",
       "      <td>Bakı</td>\n",
       "      <td>27.08.2022 10:22</td>\n",
       "      <td>27.08.2022</td>\n",
       "      <td>10:22</td>\n",
       "      <td>27.08.2022</td>\n",
       "      <td>1.5</td>\n",
       "      <td>39</td>\n",
       "    </tr>\n",
       "    <tr>\n",
       "      <th>...</th>\n",
       "      <td>...</td>\n",
       "      <td>...</td>\n",
       "      <td>...</td>\n",
       "      <td>...</td>\n",
       "      <td>...</td>\n",
       "      <td>...</td>\n",
       "      <td>...</td>\n",
       "      <td>...</td>\n",
       "      <td>...</td>\n",
       "      <td>...</td>\n",
       "      <td>...</td>\n",
       "      <td>...</td>\n",
       "      <td>...</td>\n",
       "      <td>...</td>\n",
       "    </tr>\n",
       "    <tr>\n",
       "      <th>17493</th>\n",
       "      <td>25512</td>\n",
       "      <td>152303.00</td>\n",
       "      <td>USD</td>\n",
       "      <td>Jeep Grand Cherokee</td>\n",
       "      <td>2014</td>\n",
       "      <td>3.6 L</td>\n",
       "      <td>102 000 km</td>\n",
       "      <td>Bakı</td>\n",
       "      <td>27.08.2022 19:01</td>\n",
       "      <td>27.08.2022</td>\n",
       "      <td>19:01</td>\n",
       "      <td>27.08.2022</td>\n",
       "      <td>3.6</td>\n",
       "      <td>102</td>\n",
       "    </tr>\n",
       "    <tr>\n",
       "      <th>17494</th>\n",
       "      <td>25515</td>\n",
       "      <td>314432.00</td>\n",
       "      <td>USD</td>\n",
       "      <td>Lexus RX 300</td>\n",
       "      <td>2020</td>\n",
       "      <td>2.0 L</td>\n",
       "      <td>39 000 km</td>\n",
       "      <td>Bakı</td>\n",
       "      <td>27.08.2022 19:56</td>\n",
       "      <td>27.08.2022</td>\n",
       "      <td>19:56</td>\n",
       "      <td>27.08.2022</td>\n",
       "      <td>2.0</td>\n",
       "      <td>39</td>\n",
       "    </tr>\n",
       "    <tr>\n",
       "      <th>17495</th>\n",
       "      <td>25517</td>\n",
       "      <td>117912.00</td>\n",
       "      <td>USD</td>\n",
       "      <td>BMW 528</td>\n",
       "      <td>2013</td>\n",
       "      <td>2.0 L</td>\n",
       "      <td>185 000 km</td>\n",
       "      <td>Bakı</td>\n",
       "      <td>27.08.2022 19:03</td>\n",
       "      <td>27.08.2022</td>\n",
       "      <td>19:03</td>\n",
       "      <td>27.08.2022</td>\n",
       "      <td>2.0</td>\n",
       "      <td>185</td>\n",
       "    </tr>\n",
       "    <tr>\n",
       "      <th>17496</th>\n",
       "      <td>25518</td>\n",
       "      <td>162129.00</td>\n",
       "      <td>USD</td>\n",
       "      <td>Toyota Land Cruiser</td>\n",
       "      <td>2011</td>\n",
       "      <td>4.0 L</td>\n",
       "      <td>147 629 km</td>\n",
       "      <td>Bakı</td>\n",
       "      <td>27.08.2022 19:36</td>\n",
       "      <td>27.08.2022</td>\n",
       "      <td>19:36</td>\n",
       "      <td>27.08.2022</td>\n",
       "      <td>4.0</td>\n",
       "      <td>147</td>\n",
       "    </tr>\n",
       "    <tr>\n",
       "      <th>17497</th>\n",
       "      <td>25537</td>\n",
       "      <td>2300.00</td>\n",
       "      <td>AZN</td>\n",
       "      <td>Hyundai Accent</td>\n",
       "      <td>1995</td>\n",
       "      <td>1.5 L</td>\n",
       "      <td>250 000 km</td>\n",
       "      <td>Bakı</td>\n",
       "      <td>dünən 16:52</td>\n",
       "      <td>dünən</td>\n",
       "      <td>16:52</td>\n",
       "      <td>2022-09-18</td>\n",
       "      <td>1.5</td>\n",
       "      <td>250</td>\n",
       "    </tr>\n",
       "  </tbody>\n",
       "</table>\n",
       "<p>17498 rows × 14 columns</p>\n",
       "</div>"
      ],
      "text/plain": [
       "       Unnamed: 0       Price Currency       Make_and_Model  Production_Year  \\\n",
       "0               0  1712180.50      USD     Mercedes GLS 580             2022   \n",
       "1               1   697400.35      USD       Mercedes E 300             2022   \n",
       "2               2    37200.00      AZN         KAIYI X3 Pro             2022   \n",
       "3               3   341600.89      USD      Subaru Forester             2022   \n",
       "4               4    14400.00      AZN         Nissan Tiida             2012   \n",
       "...           ...         ...      ...                  ...              ...   \n",
       "17493       25512   152303.00      USD  Jeep Grand Cherokee             2014   \n",
       "17494       25515   314432.00      USD         Lexus RX 300             2020   \n",
       "17495       25517   117912.00      USD              BMW 528             2013   \n",
       "17496       25518   162129.00      USD  Toyota Land Cruiser             2011   \n",
       "17497       25537     2300.00      AZN       Hyundai Accent             1995   \n",
       "\n",
       "      Engine_Power   KM_Driven  City              Date       Date1   Time  \\\n",
       "0            4.0 L        0 km  Bakı  25.08.2022 11:26  25.08.2022  11:26   \n",
       "1            2.0 L        0 km  Bakı  25.08.2022 11:27  25.08.2022  11:27   \n",
       "2            1.5 L        0 km  Bakı  08.08.2022 14:01  08.08.2022  14:01   \n",
       "3            2.5 L        0 km  Bakı  26.08.2022 09:15  26.08.2022  09:15   \n",
       "4            1.5 L   39 000 km  Bakı  27.08.2022 10:22  27.08.2022  10:22   \n",
       "...            ...         ...   ...               ...         ...    ...   \n",
       "17493        3.6 L  102 000 km  Bakı  27.08.2022 19:01  27.08.2022  19:01   \n",
       "17494        2.0 L   39 000 km  Bakı  27.08.2022 19:56  27.08.2022  19:56   \n",
       "17495        2.0 L  185 000 km  Bakı  27.08.2022 19:03  27.08.2022  19:03   \n",
       "17496        4.0 L  147 629 km  Bakı  27.08.2022 19:36  27.08.2022  19:36   \n",
       "17497        1.5 L  250 000 km  Bakı       dünən 16:52       dünən  16:52   \n",
       "\n",
       "            Date2 Engine   km  \n",
       "0      25.08.2022    4.0    0  \n",
       "1      25.08.2022    2.0    0  \n",
       "2      08.08.2022    1.5    0  \n",
       "3      26.08.2022    2.5    0  \n",
       "4      27.08.2022    1.5   39  \n",
       "...           ...    ...  ...  \n",
       "17493  27.08.2022    3.6  102  \n",
       "17494  27.08.2022    2.0   39  \n",
       "17495  27.08.2022    2.0  185  \n",
       "17496  27.08.2022    4.0  147  \n",
       "17497  2022-09-18    1.5  250  \n",
       "\n",
       "[17498 rows x 14 columns]"
      ]
     },
     "execution_count": 33,
     "metadata": {},
     "output_type": "execute_result"
    }
   ],
   "source": [
    "turboaz"
   ]
  },
  {
   "cell_type": "code",
   "execution_count": 34,
   "id": "dd5c22bc-a353-4162-a4df-c15dd874f823",
   "metadata": {},
   "outputs": [
    {
     "data": {
      "text/plain": [
       "Unnamed: 0         0\n",
       "Price              0\n",
       "Currency           0\n",
       "Make_and_Model     0\n",
       "Production_Year    0\n",
       "Engine_Power       0\n",
       "KM_Driven          0\n",
       "City               0\n",
       "Date               0\n",
       "Date1              0\n",
       "Time               0\n",
       "Date2              0\n",
       "Engine             0\n",
       "km                 0\n",
       "dtype: int64"
      ]
     },
     "execution_count": 34,
     "metadata": {},
     "output_type": "execute_result"
    }
   ],
   "source": [
    "turboaz.isna().sum()"
   ]
  },
  {
   "cell_type": "code",
   "execution_count": 35,
   "id": "0ac2161d-a7c5-4058-af50-bdad41bd3ac5",
   "metadata": {},
   "outputs": [
    {
     "data": {
      "text/plain": [
       "0"
      ]
     },
     "execution_count": 35,
     "metadata": {},
     "output_type": "execute_result"
    }
   ],
   "source": [
    "turboaz.duplicated().sum()"
   ]
  },
  {
   "cell_type": "code",
   "execution_count": 36,
   "id": "705b4904-9c2a-4d28-98dc-c12c24d706ec",
   "metadata": {},
   "outputs": [],
   "source": [
    "turboaz=turboaz.drop_duplicates()"
   ]
  },
  {
   "cell_type": "code",
   "execution_count": 37,
   "id": "b3e90c96-151b-4a19-9c5b-612846b5782c",
   "metadata": {},
   "outputs": [
    {
     "data": {
      "text/plain": [
       "0"
      ]
     },
     "execution_count": 37,
     "metadata": {},
     "output_type": "execute_result"
    }
   ],
   "source": [
    "turboaz.duplicated().sum()"
   ]
  },
  {
   "cell_type": "code",
   "execution_count": 38,
   "id": "2e0e3634-b810-4591-bab9-35fecea88fc9",
   "metadata": {},
   "outputs": [
    {
     "data": {
      "text/plain": [
       "3048516.5"
      ]
     },
     "execution_count": 38,
     "metadata": {},
     "output_type": "execute_result"
    }
   ],
   "source": [
    "turboaz['Price'].max()"
   ]
  },
  {
   "cell_type": "code",
   "execution_count": 39,
   "id": "cb8897c7-3296-4b56-8de2-35423b11b87a",
   "metadata": {},
   "outputs": [
    {
     "data": {
      "text/plain": [
       "700.0"
      ]
     },
     "execution_count": 39,
     "metadata": {},
     "output_type": "execute_result"
    }
   ],
   "source": [
    "turboaz['Price'].min()"
   ]
  },
  {
   "cell_type": "code",
   "execution_count": 40,
   "id": "dbea5752-fc8c-42cc-b9d2-f18aca374f5e",
   "metadata": {},
   "outputs": [
    {
     "data": {
      "text/plain": [
       "AZN    13084\n",
       "USD     4396\n",
       "EUR       18\n",
       "Name: Currency, dtype: int64"
      ]
     },
     "execution_count": 40,
     "metadata": {},
     "output_type": "execute_result"
    }
   ],
   "source": [
    "turboaz['Currency'].value_counts()"
   ]
  },
  {
   "cell_type": "code",
   "execution_count": 41,
   "id": "5fab998c-ce45-4f44-bcf7-6dabe6a62a3e",
   "metadata": {},
   "outputs": [
    {
     "data": {
      "text/plain": [
       "Opel Astra         674\n",
       "LADA (VAZ) 2107    600\n",
       "Chevrolet Cruze    446\n",
       "LADA (VAZ) 2106    388\n",
       "Toyota Prado       353\n",
       "                  ... \n",
       "GAZ 330232-744       1\n",
       "Nissan NV200         1\n",
       "Peugeot 206          1\n",
       "Isuzu NPR 71         1\n",
       "Hyundai HD-120       1\n",
       "Name: Make_and_Model, Length: 945, dtype: int64"
      ]
     },
     "execution_count": 41,
     "metadata": {},
     "output_type": "execute_result"
    }
   ],
   "source": [
    "turboaz['Make_and_Model'].value_counts()"
   ]
  },
  {
   "cell_type": "code",
   "execution_count": 42,
   "id": "264fa2a2-07ac-4546-9d8f-5d6890323c39",
   "metadata": {},
   "outputs": [
    {
     "data": {
      "text/plain": [
       "1955"
      ]
     },
     "execution_count": 42,
     "metadata": {},
     "output_type": "execute_result"
    }
   ],
   "source": [
    "turboaz['Production_Year'].min()"
   ]
  },
  {
   "cell_type": "code",
   "execution_count": 43,
   "id": "b63f24f7-b5c4-45fe-b2f4-80178d5b4646",
   "metadata": {},
   "outputs": [
    {
     "data": {
      "text/plain": [
       "<seaborn.axisgrid.FacetGrid at 0x205bb7bfa60>"
      ]
     },
     "execution_count": 43,
     "metadata": {},
     "output_type": "execute_result"
    },
    {
     "data": {
      "image/png": "[encoded data removed]",
      "text/plain": [
       "<Figure size 360x360 with 1 Axes>"
      ]
     },
     "metadata": {
      "needs_background": "light"
     },
     "output_type": "display_data"
    }
   ],
   "source": [
    "sns.displot(turboaz['Production_Year'],kde=True)"
   ]
  },
  {
   "cell_type": "code",
   "execution_count": 44,
   "id": "39d88739-7b37-47d1-8ae4-0c49478569a8",
   "metadata": {},
   "outputs": [
    {
     "data": {
      "text/plain": [
       "Bakı        12996\n",
       "Sumqayıt     1515\n",
       "Gəncə         513\n",
       "Lənkəran      194\n",
       "Xırdalan      127\n",
       "            ...  \n",
       "Liman           2\n",
       "Yardımlı        2\n",
       "Göytəpə         1\n",
       "Xızı            1\n",
       "Horadiz         1\n",
       "Name: City, Length: 62, dtype: int64"
      ]
     },
     "execution_count": 44,
     "metadata": {},
     "output_type": "execute_result"
    }
   ],
   "source": [
    "turboaz['City'].value_counts()"
   ]
  },
  {
   "cell_type": "code",
   "execution_count": 45,
   "id": "da121964-dcba-4fe8-8dbb-2c88d7299d83",
   "metadata": {},
   "outputs": [
    {
     "data": {
      "text/plain": [
       "array(['Bakı', 'Göyçay', 'Şirvan', 'Şəki', 'Sumqayıt', 'Gəncə', 'Salyan',\n",
       "       'Ucar', 'Qusar', 'Masallı', 'İsmayıllı', 'Qazax', 'İmişli',\n",
       "       'Şəmkir', 'Xırdalan', 'Goranboy', 'Quba', 'Mingəçevir', 'Yevlax',\n",
       "       'Naxçıvan', 'Balakən', 'Xaçmaz', 'Bərdə', 'Zaqatala', 'Biləsuvar',\n",
       "       'Lənkəran', 'Astara', 'Samux', 'Naftalan', 'Beyləqan', 'Sabirabad',\n",
       "       'Qəbələ', 'Şamaxı', 'Ağcabədi', 'Saatlı', 'Qax', 'Ağstafa',\n",
       "       'Zərdab', 'Tərtər', 'Göygöl', 'Cəlilabad', 'Füzuli', 'Kürdəmir',\n",
       "       'Ağsu', 'Tovuz', 'Hacıqabul', 'Ağdaş', 'Neftçala', 'Şabran',\n",
       "       'Xudat', 'Siyəzən', 'Ağdam', 'Oğuz', 'Gədəbəy', 'Lerik',\n",
       "       'Cəbrayıl', 'Liman', 'Qobustan', 'Göytəpə', 'Yardımlı', 'Xızı',\n",
       "       'Horadiz'], dtype=object)"
      ]
     },
     "execution_count": 45,
     "metadata": {},
     "output_type": "execute_result"
    }
   ],
   "source": [
    "turboaz['City'].unique()"
   ]
  },
  {
   "cell_type": "code",
   "execution_count": 46,
   "id": "31827663-8674-41de-9926-e613992d7bdd",
   "metadata": {},
   "outputs": [
    {
     "name": "stderr",
     "output_type": "stream",
     "text": [
      "C:\\Users\\Ismat\\anaconda3\\lib\\site-packages\\seaborn\\distributions.py:2619: FutureWarning: `distplot` is a deprecated function and will be removed in a future version. Please adapt your code to use either `displot` (a figure-level function with similar flexibility) or `histplot` (an axes-level function for histograms).\n",
      "  warnings.warn(msg, FutureWarning)\n",
      "C:\\Users\\Ismat\\anaconda3\\lib\\site-packages\\seaborn\\distributions.py:2619: FutureWarning: `distplot` is a deprecated function and will be removed in a future version. Please adapt your code to use either `displot` (a figure-level function with similar flexibility) or `histplot` (an axes-level function for histograms).\n",
      "  warnings.warn(msg, FutureWarning)\n",
      "C:\\Users\\Ismat\\anaconda3\\lib\\site-packages\\seaborn\\distributions.py:2619: FutureWarning: `distplot` is a deprecated function and will be removed in a future version. Please adapt your code to use either `displot` (a figure-level function with similar flexibility) or `histplot` (an axes-level function for histograms).\n",
      "  warnings.warn(msg, FutureWarning)\n"
     ]
    },
    {
     "data": {
      "text/plain": [
       "<seaborn.axisgrid.PairGrid at 0x205bafa4b50>"
      ]
     },
     "execution_count": 46,
     "metadata": {},
     "output_type": "execute_result"
    },
    {
     "data": {
      "image/png": "[encoded data removed]",
      "text/plain": [
       "<Figure size 540x540 with 12 Axes>"
      ]
     },
     "metadata": {
      "needs_background": "light"
     },
     "output_type": "display_data"
    }
   ],
   "source": [
    "g=sns.PairGrid(turboaz)\n",
    "g.map_diag(sns.distplot)\n",
    "g.map_lower(plt.scatter)\n",
    "g.map_upper(sns.kdeplot)"
   ]
  },
  {
   "cell_type": "code",
   "execution_count": 47,
   "id": "d48f0589-b2dc-4a25-ab96-c2387110bd7d",
   "metadata": {},
   "outputs": [
    {
     "data": {
      "text/plain": [
       "<AxesSubplot:>"
      ]
     },
     "execution_count": 47,
     "metadata": {},
     "output_type": "execute_result"
    },
    {
     "data": {
      "image/png": "[encoded data removed]",
      "text/plain": [
       "<Figure size 432x288 with 2 Axes>"
      ]
     },
     "metadata": {
      "needs_background": "light"
     },
     "output_type": "display_data"
    }
   ],
   "source": [
    "sns.heatmap(turboaz.corr(),annot=True,cmap='coolwarm',linecolor='white',linewidth=9)"
   ]
  },
  {
   "cell_type": "code",
   "execution_count": 48,
   "id": "bbd23b49-8e3c-46f3-ad17-8e249b542f47",
   "metadata": {},
   "outputs": [
    {
     "data": {
      "text/html": [
       "<div>\n",
       "<style scoped>\n",
       "    .dataframe tbody tr th:only-of-type {\n",
       "        vertical-align: middle;\n",
       "    }\n",
       "\n",
       "    .dataframe tbody tr th {\n",
       "        vertical-align: top;\n",
       "    }\n",
       "\n",
       "    .dataframe thead th {\n",
       "        text-align: right;\n",
       "    }\n",
       "</style>\n",
       "<table border=\"1\" class=\"dataframe\">\n",
       "  <thead>\n",
       "    <tr style=\"text-align: right;\">\n",
       "      <th></th>\n",
       "      <th>Unnamed: 0</th>\n",
       "      <th>Price</th>\n",
       "      <th>Currency</th>\n",
       "      <th>Make_and_Model</th>\n",
       "      <th>Production_Year</th>\n",
       "      <th>Engine_Power</th>\n",
       "      <th>KM_Driven</th>\n",
       "      <th>City</th>\n",
       "      <th>Date</th>\n",
       "      <th>Date1</th>\n",
       "      <th>Time</th>\n",
       "      <th>Date2</th>\n",
       "      <th>Engine</th>\n",
       "      <th>km</th>\n",
       "    </tr>\n",
       "  </thead>\n",
       "  <tbody>\n",
       "    <tr>\n",
       "      <th>0</th>\n",
       "      <td>0</td>\n",
       "      <td>1712180.50</td>\n",
       "      <td>USD</td>\n",
       "      <td>Mercedes GLS 580</td>\n",
       "      <td>2022</td>\n",
       "      <td>4.0 L</td>\n",
       "      <td>0 km</td>\n",
       "      <td>Bakı</td>\n",
       "      <td>25.08.2022 11:26</td>\n",
       "      <td>25.08.2022</td>\n",
       "      <td>11:26</td>\n",
       "      <td>25.08.2022</td>\n",
       "      <td>4.0</td>\n",
       "      <td>0</td>\n",
       "    </tr>\n",
       "    <tr>\n",
       "      <th>1</th>\n",
       "      <td>1</td>\n",
       "      <td>697400.35</td>\n",
       "      <td>USD</td>\n",
       "      <td>Mercedes E 300</td>\n",
       "      <td>2022</td>\n",
       "      <td>2.0 L</td>\n",
       "      <td>0 km</td>\n",
       "      <td>Bakı</td>\n",
       "      <td>25.08.2022 11:27</td>\n",
       "      <td>25.08.2022</td>\n",
       "      <td>11:27</td>\n",
       "      <td>25.08.2022</td>\n",
       "      <td>2.0</td>\n",
       "      <td>0</td>\n",
       "    </tr>\n",
       "    <tr>\n",
       "      <th>2</th>\n",
       "      <td>2</td>\n",
       "      <td>37200.00</td>\n",
       "      <td>AZN</td>\n",
       "      <td>KAIYI X3 Pro</td>\n",
       "      <td>2022</td>\n",
       "      <td>1.5 L</td>\n",
       "      <td>0 km</td>\n",
       "      <td>Bakı</td>\n",
       "      <td>08.08.2022 14:01</td>\n",
       "      <td>08.08.2022</td>\n",
       "      <td>14:01</td>\n",
       "      <td>08.08.2022</td>\n",
       "      <td>1.5</td>\n",
       "      <td>0</td>\n",
       "    </tr>\n",
       "    <tr>\n",
       "      <th>3</th>\n",
       "      <td>3</td>\n",
       "      <td>341600.89</td>\n",
       "      <td>USD</td>\n",
       "      <td>Subaru Forester</td>\n",
       "      <td>2022</td>\n",
       "      <td>2.5 L</td>\n",
       "      <td>0 km</td>\n",
       "      <td>Bakı</td>\n",
       "      <td>26.08.2022 09:15</td>\n",
       "      <td>26.08.2022</td>\n",
       "      <td>09:15</td>\n",
       "      <td>26.08.2022</td>\n",
       "      <td>2.5</td>\n",
       "      <td>0</td>\n",
       "    </tr>\n",
       "    <tr>\n",
       "      <th>4</th>\n",
       "      <td>4</td>\n",
       "      <td>14400.00</td>\n",
       "      <td>AZN</td>\n",
       "      <td>Nissan Tiida</td>\n",
       "      <td>2012</td>\n",
       "      <td>1.5 L</td>\n",
       "      <td>39 000 km</td>\n",
       "      <td>Bakı</td>\n",
       "      <td>27.08.2022 10:22</td>\n",
       "      <td>27.08.2022</td>\n",
       "      <td>10:22</td>\n",
       "      <td>27.08.2022</td>\n",
       "      <td>1.5</td>\n",
       "      <td>39</td>\n",
       "    </tr>\n",
       "    <tr>\n",
       "      <th>...</th>\n",
       "      <td>...</td>\n",
       "      <td>...</td>\n",
       "      <td>...</td>\n",
       "      <td>...</td>\n",
       "      <td>...</td>\n",
       "      <td>...</td>\n",
       "      <td>...</td>\n",
       "      <td>...</td>\n",
       "      <td>...</td>\n",
       "      <td>...</td>\n",
       "      <td>...</td>\n",
       "      <td>...</td>\n",
       "      <td>...</td>\n",
       "      <td>...</td>\n",
       "    </tr>\n",
       "    <tr>\n",
       "      <th>17493</th>\n",
       "      <td>25512</td>\n",
       "      <td>152303.00</td>\n",
       "      <td>USD</td>\n",
       "      <td>Jeep Grand Cherokee</td>\n",
       "      <td>2014</td>\n",
       "      <td>3.6 L</td>\n",
       "      <td>102 000 km</td>\n",
       "      <td>Bakı</td>\n",
       "      <td>27.08.2022 19:01</td>\n",
       "      <td>27.08.2022</td>\n",
       "      <td>19:01</td>\n",
       "      <td>27.08.2022</td>\n",
       "      <td>3.6</td>\n",
       "      <td>102</td>\n",
       "    </tr>\n",
       "    <tr>\n",
       "      <th>17494</th>\n",
       "      <td>25515</td>\n",
       "      <td>314432.00</td>\n",
       "      <td>USD</td>\n",
       "      <td>Lexus RX 300</td>\n",
       "      <td>2020</td>\n",
       "      <td>2.0 L</td>\n",
       "      <td>39 000 km</td>\n",
       "      <td>Bakı</td>\n",
       "      <td>27.08.2022 19:56</td>\n",
       "      <td>27.08.2022</td>\n",
       "      <td>19:56</td>\n",
       "      <td>27.08.2022</td>\n",
       "      <td>2.0</td>\n",
       "      <td>39</td>\n",
       "    </tr>\n",
       "    <tr>\n",
       "      <th>17495</th>\n",
       "      <td>25517</td>\n",
       "      <td>117912.00</td>\n",
       "      <td>USD</td>\n",
       "      <td>BMW 528</td>\n",
       "      <td>2013</td>\n",
       "      <td>2.0 L</td>\n",
       "      <td>185 000 km</td>\n",
       "      <td>Bakı</td>\n",
       "      <td>27.08.2022 19:03</td>\n",
       "      <td>27.08.2022</td>\n",
       "      <td>19:03</td>\n",
       "      <td>27.08.2022</td>\n",
       "      <td>2.0</td>\n",
       "      <td>185</td>\n",
       "    </tr>\n",
       "    <tr>\n",
       "      <th>17496</th>\n",
       "      <td>25518</td>\n",
       "      <td>162129.00</td>\n",
       "      <td>USD</td>\n",
       "      <td>Toyota Land Cruiser</td>\n",
       "      <td>2011</td>\n",
       "      <td>4.0 L</td>\n",
       "      <td>147 629 km</td>\n",
       "      <td>Bakı</td>\n",
       "      <td>27.08.2022 19:36</td>\n",
       "      <td>27.08.2022</td>\n",
       "      <td>19:36</td>\n",
       "      <td>27.08.2022</td>\n",
       "      <td>4.0</td>\n",
       "      <td>147</td>\n",
       "    </tr>\n",
       "    <tr>\n",
       "      <th>17497</th>\n",
       "      <td>25537</td>\n",
       "      <td>2300.00</td>\n",
       "      <td>AZN</td>\n",
       "      <td>Hyundai Accent</td>\n",
       "      <td>1995</td>\n",
       "      <td>1.5 L</td>\n",
       "      <td>250 000 km</td>\n",
       "      <td>Bakı</td>\n",
       "      <td>dünən 16:52</td>\n",
       "      <td>dünən</td>\n",
       "      <td>16:52</td>\n",
       "      <td>2022-09-18</td>\n",
       "      <td>1.5</td>\n",
       "      <td>250</td>\n",
       "    </tr>\n",
       "  </tbody>\n",
       "</table>\n",
       "<p>17498 rows × 14 columns</p>\n",
       "</div>"
      ],
      "text/plain": [
       "       Unnamed: 0       Price Currency       Make_and_Model  Production_Year  \\\n",
       "0               0  1712180.50      USD     Mercedes GLS 580             2022   \n",
       "1               1   697400.35      USD       Mercedes E 300             2022   \n",
       "2               2    37200.00      AZN         KAIYI X3 Pro             2022   \n",
       "3               3   341600.89      USD      Subaru Forester             2022   \n",
       "4               4    14400.00      AZN         Nissan Tiida             2012   \n",
       "...           ...         ...      ...                  ...              ...   \n",
       "17493       25512   152303.00      USD  Jeep Grand Cherokee             2014   \n",
       "17494       25515   314432.00      USD         Lexus RX 300             2020   \n",
       "17495       25517   117912.00      USD              BMW 528             2013   \n",
       "17496       25518   162129.00      USD  Toyota Land Cruiser             2011   \n",
       "17497       25537     2300.00      AZN       Hyundai Accent             1995   \n",
       "\n",
       "      Engine_Power   KM_Driven  City              Date       Date1   Time  \\\n",
       "0            4.0 L        0 km  Bakı  25.08.2022 11:26  25.08.2022  11:26   \n",
       "1            2.0 L        0 km  Bakı  25.08.2022 11:27  25.08.2022  11:27   \n",
       "2            1.5 L        0 km  Bakı  08.08.2022 14:01  08.08.2022  14:01   \n",
       "3            2.5 L        0 km  Bakı  26.08.2022 09:15  26.08.2022  09:15   \n",
       "4            1.5 L   39 000 km  Bakı  27.08.2022 10:22  27.08.2022  10:22   \n",
       "...            ...         ...   ...               ...         ...    ...   \n",
       "17493        3.6 L  102 000 km  Bakı  27.08.2022 19:01  27.08.2022  19:01   \n",
       "17494        2.0 L   39 000 km  Bakı  27.08.2022 19:56  27.08.2022  19:56   \n",
       "17495        2.0 L  185 000 km  Bakı  27.08.2022 19:03  27.08.2022  19:03   \n",
       "17496        4.0 L  147 629 km  Bakı  27.08.2022 19:36  27.08.2022  19:36   \n",
       "17497        1.5 L  250 000 km  Bakı       dünən 16:52       dünən  16:52   \n",
       "\n",
       "            Date2 Engine   km  \n",
       "0      25.08.2022    4.0    0  \n",
       "1      25.08.2022    2.0    0  \n",
       "2      08.08.2022    1.5    0  \n",
       "3      26.08.2022    2.5    0  \n",
       "4      27.08.2022    1.5   39  \n",
       "...           ...    ...  ...  \n",
       "17493  27.08.2022    3.6  102  \n",
       "17494  27.08.2022    2.0   39  \n",
       "17495  27.08.2022    2.0  185  \n",
       "17496  27.08.2022    4.0  147  \n",
       "17497  2022-09-18    1.5  250  \n",
       "\n",
       "[17498 rows x 14 columns]"
      ]
     },
     "execution_count": 48,
     "metadata": {},
     "output_type": "execute_result"
    }
   ],
   "source": [
    "turboaz"
   ]
  },
  {
   "cell_type": "code",
   "execution_count": 49,
   "id": "8383890b-c54d-49b0-8a22-a2ac2b5f9878",
   "metadata": {},
   "outputs": [],
   "source": [
    "from sklearn.preprocessing import LabelEncoder\n",
    "le = LabelEncoder()\n",
    "turboaz['Currency_Encode'] = le.fit_transform(turboaz['Currency'])\n",
    "turboaz['Make_and_Model_Encode'] = le.fit_transform(turboaz['Make_and_Model'])\n",
    "turboaz['Production_Year_Encode'] = le.fit_transform(turboaz['Production_Year'])\n",
    "turboaz['Engine_Encode'] = le.fit_transform(turboaz['Engine'])\n",
    "turboaz['km_Encode'] = le.fit_transform(turboaz['km'])\n",
    "turboaz['City_Encode'] = le.fit_transform(turboaz['City'])"
   ]
  },
  {
   "cell_type": "code",
   "execution_count": 50,
   "id": "2464ab68-c578-4164-b24f-3ebdd9e75ff1",
   "metadata": {},
   "outputs": [
    {
     "data": {
      "text/html": [
       "<div>\n",
       "<style scoped>\n",
       "    .dataframe tbody tr th:only-of-type {\n",
       "        vertical-align: middle;\n",
       "    }\n",
       "\n",
       "    .dataframe tbody tr th {\n",
       "        vertical-align: top;\n",
       "    }\n",
       "\n",
       "    .dataframe thead th {\n",
       "        text-align: right;\n",
       "    }\n",
       "</style>\n",
       "<table border=\"1\" class=\"dataframe\">\n",
       "  <thead>\n",
       "    <tr style=\"text-align: right;\">\n",
       "      <th></th>\n",
       "      <th>Unnamed: 0</th>\n",
       "      <th>Price</th>\n",
       "      <th>Currency</th>\n",
       "      <th>Make_and_Model</th>\n",
       "      <th>Production_Year</th>\n",
       "      <th>Engine_Power</th>\n",
       "      <th>KM_Driven</th>\n",
       "      <th>City</th>\n",
       "      <th>Date</th>\n",
       "      <th>Date1</th>\n",
       "      <th>Time</th>\n",
       "      <th>Date2</th>\n",
       "      <th>Engine</th>\n",
       "      <th>km</th>\n",
       "      <th>Currency_Encode</th>\n",
       "      <th>Make_and_Model_Encode</th>\n",
       "      <th>Production_Year_Encode</th>\n",
       "      <th>Engine_Encode</th>\n",
       "      <th>km_Encode</th>\n",
       "      <th>City_Encode</th>\n",
       "    </tr>\n",
       "  </thead>\n",
       "  <tbody>\n",
       "    <tr>\n",
       "      <th>0</th>\n",
       "      <td>0</td>\n",
       "      <td>1712180.50</td>\n",
       "      <td>USD</td>\n",
       "      <td>Mercedes GLS 580</td>\n",
       "      <td>2022</td>\n",
       "      <td>4.0 L</td>\n",
       "      <td>0 km</td>\n",
       "      <td>Bakı</td>\n",
       "      <td>25.08.2022 11:26</td>\n",
       "      <td>25.08.2022</td>\n",
       "      <td>11:26</td>\n",
       "      <td>25.08.2022</td>\n",
       "      <td>4.0</td>\n",
       "      <td>0</td>\n",
       "      <td>2</td>\n",
       "      <td>647</td>\n",
       "      <td>58</td>\n",
       "      <td>45</td>\n",
       "      <td>0</td>\n",
       "      <td>6</td>\n",
       "    </tr>\n",
       "    <tr>\n",
       "      <th>1</th>\n",
       "      <td>1</td>\n",
       "      <td>697400.35</td>\n",
       "      <td>USD</td>\n",
       "      <td>Mercedes E 300</td>\n",
       "      <td>2022</td>\n",
       "      <td>2.0 L</td>\n",
       "      <td>0 km</td>\n",
       "      <td>Bakı</td>\n",
       "      <td>25.08.2022 11:27</td>\n",
       "      <td>25.08.2022</td>\n",
       "      <td>11:27</td>\n",
       "      <td>25.08.2022</td>\n",
       "      <td>2.0</td>\n",
       "      <td>0</td>\n",
       "      <td>2</td>\n",
       "      <td>601</td>\n",
       "      <td>58</td>\n",
       "      <td>26</td>\n",
       "      <td>0</td>\n",
       "      <td>6</td>\n",
       "    </tr>\n",
       "    <tr>\n",
       "      <th>2</th>\n",
       "      <td>2</td>\n",
       "      <td>37200.00</td>\n",
       "      <td>AZN</td>\n",
       "      <td>KAIYI X3 Pro</td>\n",
       "      <td>2022</td>\n",
       "      <td>1.5 L</td>\n",
       "      <td>0 km</td>\n",
       "      <td>Bakı</td>\n",
       "      <td>08.08.2022 14:01</td>\n",
       "      <td>08.08.2022</td>\n",
       "      <td>14:01</td>\n",
       "      <td>08.08.2022</td>\n",
       "      <td>1.5</td>\n",
       "      <td>0</td>\n",
       "      <td>0</td>\n",
       "      <td>375</td>\n",
       "      <td>58</td>\n",
       "      <td>14</td>\n",
       "      <td>0</td>\n",
       "      <td>6</td>\n",
       "    </tr>\n",
       "    <tr>\n",
       "      <th>3</th>\n",
       "      <td>3</td>\n",
       "      <td>341600.89</td>\n",
       "      <td>USD</td>\n",
       "      <td>Subaru Forester</td>\n",
       "      <td>2022</td>\n",
       "      <td>2.5 L</td>\n",
       "      <td>0 km</td>\n",
       "      <td>Bakı</td>\n",
       "      <td>26.08.2022 09:15</td>\n",
       "      <td>26.08.2022</td>\n",
       "      <td>09:15</td>\n",
       "      <td>26.08.2022</td>\n",
       "      <td>2.5</td>\n",
       "      <td>0</td>\n",
       "      <td>2</td>\n",
       "      <td>843</td>\n",
       "      <td>58</td>\n",
       "      <td>31</td>\n",
       "      <td>0</td>\n",
       "      <td>6</td>\n",
       "    </tr>\n",
       "    <tr>\n",
       "      <th>4</th>\n",
       "      <td>4</td>\n",
       "      <td>14400.00</td>\n",
       "      <td>AZN</td>\n",
       "      <td>Nissan Tiida</td>\n",
       "      <td>2012</td>\n",
       "      <td>1.5 L</td>\n",
       "      <td>39 000 km</td>\n",
       "      <td>Bakı</td>\n",
       "      <td>27.08.2022 10:22</td>\n",
       "      <td>27.08.2022</td>\n",
       "      <td>10:22</td>\n",
       "      <td>27.08.2022</td>\n",
       "      <td>1.5</td>\n",
       "      <td>39</td>\n",
       "      <td>0</td>\n",
       "      <td>747</td>\n",
       "      <td>48</td>\n",
       "      <td>14</td>\n",
       "      <td>322</td>\n",
       "      <td>6</td>\n",
       "    </tr>\n",
       "    <tr>\n",
       "      <th>...</th>\n",
       "      <td>...</td>\n",
       "      <td>...</td>\n",
       "      <td>...</td>\n",
       "      <td>...</td>\n",
       "      <td>...</td>\n",
       "      <td>...</td>\n",
       "      <td>...</td>\n",
       "      <td>...</td>\n",
       "      <td>...</td>\n",
       "      <td>...</td>\n",
       "      <td>...</td>\n",
       "      <td>...</td>\n",
       "      <td>...</td>\n",
       "      <td>...</td>\n",
       "      <td>...</td>\n",
       "      <td>...</td>\n",
       "      <td>...</td>\n",
       "      <td>...</td>\n",
       "      <td>...</td>\n",
       "      <td>...</td>\n",
       "    </tr>\n",
       "    <tr>\n",
       "      <th>17493</th>\n",
       "      <td>25512</td>\n",
       "      <td>152303.00</td>\n",
       "      <td>USD</td>\n",
       "      <td>Jeep Grand Cherokee</td>\n",
       "      <td>2014</td>\n",
       "      <td>3.6 L</td>\n",
       "      <td>102 000 km</td>\n",
       "      <td>Bakı</td>\n",
       "      <td>27.08.2022 19:01</td>\n",
       "      <td>27.08.2022</td>\n",
       "      <td>19:01</td>\n",
       "      <td>27.08.2022</td>\n",
       "      <td>3.6</td>\n",
       "      <td>102</td>\n",
       "      <td>2</td>\n",
       "      <td>370</td>\n",
       "      <td>50</td>\n",
       "      <td>41</td>\n",
       "      <td>5</td>\n",
       "      <td>6</td>\n",
       "    </tr>\n",
       "    <tr>\n",
       "      <th>17494</th>\n",
       "      <td>25515</td>\n",
       "      <td>314432.00</td>\n",
       "      <td>USD</td>\n",
       "      <td>Lexus RX 300</td>\n",
       "      <td>2020</td>\n",
       "      <td>2.0 L</td>\n",
       "      <td>39 000 km</td>\n",
       "      <td>Bakı</td>\n",
       "      <td>27.08.2022 19:56</td>\n",
       "      <td>27.08.2022</td>\n",
       "      <td>19:56</td>\n",
       "      <td>27.08.2022</td>\n",
       "      <td>2.0</td>\n",
       "      <td>39</td>\n",
       "      <td>2</td>\n",
       "      <td>491</td>\n",
       "      <td>56</td>\n",
       "      <td>26</td>\n",
       "      <td>322</td>\n",
       "      <td>6</td>\n",
       "    </tr>\n",
       "    <tr>\n",
       "      <th>17495</th>\n",
       "      <td>25517</td>\n",
       "      <td>117912.00</td>\n",
       "      <td>USD</td>\n",
       "      <td>BMW 528</td>\n",
       "      <td>2013</td>\n",
       "      <td>2.0 L</td>\n",
       "      <td>185 000 km</td>\n",
       "      <td>Bakı</td>\n",
       "      <td>27.08.2022 19:03</td>\n",
       "      <td>27.08.2022</td>\n",
       "      <td>19:03</td>\n",
       "      <td>27.08.2022</td>\n",
       "      <td>2.0</td>\n",
       "      <td>185</td>\n",
       "      <td>2</td>\n",
       "      <td>39</td>\n",
       "      <td>49</td>\n",
       "      <td>26</td>\n",
       "      <td>96</td>\n",
       "      <td>6</td>\n",
       "    </tr>\n",
       "    <tr>\n",
       "      <th>17496</th>\n",
       "      <td>25518</td>\n",
       "      <td>162129.00</td>\n",
       "      <td>USD</td>\n",
       "      <td>Toyota Land Cruiser</td>\n",
       "      <td>2011</td>\n",
       "      <td>4.0 L</td>\n",
       "      <td>147 629 km</td>\n",
       "      <td>Bakı</td>\n",
       "      <td>27.08.2022 19:36</td>\n",
       "      <td>27.08.2022</td>\n",
       "      <td>19:36</td>\n",
       "      <td>27.08.2022</td>\n",
       "      <td>4.0</td>\n",
       "      <td>147</td>\n",
       "      <td>2</td>\n",
       "      <td>870</td>\n",
       "      <td>47</td>\n",
       "      <td>45</td>\n",
       "      <td>54</td>\n",
       "      <td>6</td>\n",
       "    </tr>\n",
       "    <tr>\n",
       "      <th>17497</th>\n",
       "      <td>25537</td>\n",
       "      <td>2300.00</td>\n",
       "      <td>AZN</td>\n",
       "      <td>Hyundai Accent</td>\n",
       "      <td>1995</td>\n",
       "      <td>1.5 L</td>\n",
       "      <td>250 000 km</td>\n",
       "      <td>Bakı</td>\n",
       "      <td>dünən 16:52</td>\n",
       "      <td>dünən</td>\n",
       "      <td>16:52</td>\n",
       "      <td>2022-09-18</td>\n",
       "      <td>1.5</td>\n",
       "      <td>250</td>\n",
       "      <td>0</td>\n",
       "      <td>286</td>\n",
       "      <td>31</td>\n",
       "      <td>14</td>\n",
       "      <td>169</td>\n",
       "      <td>6</td>\n",
       "    </tr>\n",
       "  </tbody>\n",
       "</table>\n",
       "<p>17498 rows × 20 columns</p>\n",
       "</div>"
      ],
      "text/plain": [
       "       Unnamed: 0       Price Currency       Make_and_Model  Production_Year  \\\n",
       "0               0  1712180.50      USD     Mercedes GLS 580             2022   \n",
       "1               1   697400.35      USD       Mercedes E 300             2022   \n",
       "2               2    37200.00      AZN         KAIYI X3 Pro             2022   \n",
       "3               3   341600.89      USD      Subaru Forester             2022   \n",
       "4               4    14400.00      AZN         Nissan Tiida             2012   \n",
       "...           ...         ...      ...                  ...              ...   \n",
       "17493       25512   152303.00      USD  Jeep Grand Cherokee             2014   \n",
       "17494       25515   314432.00      USD         Lexus RX 300             2020   \n",
       "17495       25517   117912.00      USD              BMW 528             2013   \n",
       "17496       25518   162129.00      USD  Toyota Land Cruiser             2011   \n",
       "17497       25537     2300.00      AZN       Hyundai Accent             1995   \n",
       "\n",
       "      Engine_Power   KM_Driven  City              Date       Date1   Time  \\\n",
       "0            4.0 L        0 km  Bakı  25.08.2022 11:26  25.08.2022  11:26   \n",
       "1            2.0 L        0 km  Bakı  25.08.2022 11:27  25.08.2022  11:27   \n",
       "2            1.5 L        0 km  Bakı  08.08.2022 14:01  08.08.2022  14:01   \n",
       "3            2.5 L        0 km  Bakı  26.08.2022 09:15  26.08.2022  09:15   \n",
       "4            1.5 L   39 000 km  Bakı  27.08.2022 10:22  27.08.2022  10:22   \n",
       "...            ...         ...   ...               ...         ...    ...   \n",
       "17493        3.6 L  102 000 km  Bakı  27.08.2022 19:01  27.08.2022  19:01   \n",
       "17494        2.0 L   39 000 km  Bakı  27.08.2022 19:56  27.08.2022  19:56   \n",
       "17495        2.0 L  185 000 km  Bakı  27.08.2022 19:03  27.08.2022  19:03   \n",
       "17496        4.0 L  147 629 km  Bakı  27.08.2022 19:36  27.08.2022  19:36   \n",
       "17497        1.5 L  250 000 km  Bakı       dünən 16:52       dünən  16:52   \n",
       "\n",
       "            Date2 Engine   km  Currency_Encode  Make_and_Model_Encode  \\\n",
       "0      25.08.2022    4.0    0                2                    647   \n",
       "1      25.08.2022    2.0    0                2                    601   \n",
       "2      08.08.2022    1.5    0                0                    375   \n",
       "3      26.08.2022    2.5    0                2                    843   \n",
       "4      27.08.2022    1.5   39                0                    747   \n",
       "...           ...    ...  ...              ...                    ...   \n",
       "17493  27.08.2022    3.6  102                2                    370   \n",
       "17494  27.08.2022    2.0   39                2                    491   \n",
       "17495  27.08.2022    2.0  185                2                     39   \n",
       "17496  27.08.2022    4.0  147                2                    870   \n",
       "17497  2022-09-18    1.5  250                0                    286   \n",
       "\n",
       "       Production_Year_Encode  Engine_Encode  km_Encode  City_Encode  \n",
       "0                          58             45          0            6  \n",
       "1                          58             26          0            6  \n",
       "2                          58             14          0            6  \n",
       "3                          58             31          0            6  \n",
       "4                          48             14        322            6  \n",
       "...                       ...            ...        ...          ...  \n",
       "17493                      50             41          5            6  \n",
       "17494                      56             26        322            6  \n",
       "17495                      49             26         96            6  \n",
       "17496                      47             45         54            6  \n",
       "17497                      31             14        169            6  \n",
       "\n",
       "[17498 rows x 20 columns]"
      ]
     },
     "execution_count": 50,
     "metadata": {},
     "output_type": "execute_result"
    }
   ],
   "source": [
    "turboaz"
   ]
  },
  {
   "cell_type": "code",
   "execution_count": 53,
   "id": "bc648650-7c00-48f3-a923-4bf3aaaae1c5",
   "metadata": {},
   "outputs": [],
   "source": [
    "features=['Make_and_Model_Encode','Production_Year_Encode','Engine_Encode','km_Encode','City_Encode']\n",
    "target=['Price']\n",
    "features_2=['Make_and_Model','Production_Year','Engine','km','City']"
   ]
  },
  {
   "cell_type": "code",
   "execution_count": 54,
   "id": "6965574f-70cf-426e-ab73-56e0a2ab0411",
   "metadata": {},
   "outputs": [],
   "source": [
    "x=turboaz[features]\n",
    "y=turboaz[target]\n",
    "x_2=turboaz[features_2]"
   ]
  },
  {
   "cell_type": "code",
   "execution_count": 55,
   "id": "1c2e41cb-b140-41ae-be66-0c83ffd01ca0",
   "metadata": {},
   "outputs": [
    {
     "data": {
      "text/html": [
       "<div>\n",
       "<style scoped>\n",
       "    .dataframe tbody tr th:only-of-type {\n",
       "        vertical-align: middle;\n",
       "    }\n",
       "\n",
       "    .dataframe tbody tr th {\n",
       "        vertical-align: top;\n",
       "    }\n",
       "\n",
       "    .dataframe thead th {\n",
       "        text-align: right;\n",
       "    }\n",
       "</style>\n",
       "<table border=\"1\" class=\"dataframe\">\n",
       "  <thead>\n",
       "    <tr style=\"text-align: right;\">\n",
       "      <th></th>\n",
       "      <th>Make_and_Model</th>\n",
       "      <th>Production_Year</th>\n",
       "      <th>Engine</th>\n",
       "      <th>km</th>\n",
       "      <th>City</th>\n",
       "    </tr>\n",
       "  </thead>\n",
       "  <tbody>\n",
       "    <tr>\n",
       "      <th>0</th>\n",
       "      <td>Mercedes GLS 580</td>\n",
       "      <td>2022</td>\n",
       "      <td>4.0</td>\n",
       "      <td>0</td>\n",
       "      <td>Bakı</td>\n",
       "    </tr>\n",
       "    <tr>\n",
       "      <th>1</th>\n",
       "      <td>Mercedes E 300</td>\n",
       "      <td>2022</td>\n",
       "      <td>2.0</td>\n",
       "      <td>0</td>\n",
       "      <td>Bakı</td>\n",
       "    </tr>\n",
       "    <tr>\n",
       "      <th>2</th>\n",
       "      <td>KAIYI X3 Pro</td>\n",
       "      <td>2022</td>\n",
       "      <td>1.5</td>\n",
       "      <td>0</td>\n",
       "      <td>Bakı</td>\n",
       "    </tr>\n",
       "    <tr>\n",
       "      <th>3</th>\n",
       "      <td>Subaru Forester</td>\n",
       "      <td>2022</td>\n",
       "      <td>2.5</td>\n",
       "      <td>0</td>\n",
       "      <td>Bakı</td>\n",
       "    </tr>\n",
       "    <tr>\n",
       "      <th>4</th>\n",
       "      <td>Nissan Tiida</td>\n",
       "      <td>2012</td>\n",
       "      <td>1.5</td>\n",
       "      <td>39</td>\n",
       "      <td>Bakı</td>\n",
       "    </tr>\n",
       "    <tr>\n",
       "      <th>...</th>\n",
       "      <td>...</td>\n",
       "      <td>...</td>\n",
       "      <td>...</td>\n",
       "      <td>...</td>\n",
       "      <td>...</td>\n",
       "    </tr>\n",
       "    <tr>\n",
       "      <th>17493</th>\n",
       "      <td>Jeep Grand Cherokee</td>\n",
       "      <td>2014</td>\n",
       "      <td>3.6</td>\n",
       "      <td>102</td>\n",
       "      <td>Bakı</td>\n",
       "    </tr>\n",
       "    <tr>\n",
       "      <th>17494</th>\n",
       "      <td>Lexus RX 300</td>\n",
       "      <td>2020</td>\n",
       "      <td>2.0</td>\n",
       "      <td>39</td>\n",
       "      <td>Bakı</td>\n",
       "    </tr>\n",
       "    <tr>\n",
       "      <th>17495</th>\n",
       "      <td>BMW 528</td>\n",
       "      <td>2013</td>\n",
       "      <td>2.0</td>\n",
       "      <td>185</td>\n",
       "      <td>Bakı</td>\n",
       "    </tr>\n",
       "    <tr>\n",
       "      <th>17496</th>\n",
       "      <td>Toyota Land Cruiser</td>\n",
       "      <td>2011</td>\n",
       "      <td>4.0</td>\n",
       "      <td>147</td>\n",
       "      <td>Bakı</td>\n",
       "    </tr>\n",
       "    <tr>\n",
       "      <th>17497</th>\n",
       "      <td>Hyundai Accent</td>\n",
       "      <td>1995</td>\n",
       "      <td>1.5</td>\n",
       "      <td>250</td>\n",
       "      <td>Bakı</td>\n",
       "    </tr>\n",
       "  </tbody>\n",
       "</table>\n",
       "<p>17498 rows × 5 columns</p>\n",
       "</div>"
      ],
      "text/plain": [
       "            Make_and_Model  Production_Year Engine   km  City\n",
       "0         Mercedes GLS 580             2022    4.0    0  Bakı\n",
       "1           Mercedes E 300             2022    2.0    0  Bakı\n",
       "2             KAIYI X3 Pro             2022    1.5    0  Bakı\n",
       "3          Subaru Forester             2022    2.5    0  Bakı\n",
       "4             Nissan Tiida             2012    1.5   39  Bakı\n",
       "...                    ...              ...    ...  ...   ...\n",
       "17493  Jeep Grand Cherokee             2014    3.6  102  Bakı\n",
       "17494         Lexus RX 300             2020    2.0   39  Bakı\n",
       "17495              BMW 528             2013    2.0  185  Bakı\n",
       "17496  Toyota Land Cruiser             2011    4.0  147  Bakı\n",
       "17497       Hyundai Accent             1995    1.5  250  Bakı\n",
       "\n",
       "[17498 rows x 5 columns]"
      ]
     },
     "execution_count": 55,
     "metadata": {},
     "output_type": "execute_result"
    }
   ],
   "source": [
    "x_2"
   ]
  },
  {
   "cell_type": "code",
   "execution_count": 56,
   "id": "10bb0e9d-1d3b-4522-a43b-95497887f2ee",
   "metadata": {},
   "outputs": [
    {
     "data": {
      "text/html": [
       "<div>\n",
       "<style scoped>\n",
       "    .dataframe tbody tr th:only-of-type {\n",
       "        vertical-align: middle;\n",
       "    }\n",
       "\n",
       "    .dataframe tbody tr th {\n",
       "        vertical-align: top;\n",
       "    }\n",
       "\n",
       "    .dataframe thead th {\n",
       "        text-align: right;\n",
       "    }\n",
       "</style>\n",
       "<table border=\"1\" class=\"dataframe\">\n",
       "  <thead>\n",
       "    <tr style=\"text-align: right;\">\n",
       "      <th></th>\n",
       "      <th>Price</th>\n",
       "    </tr>\n",
       "  </thead>\n",
       "  <tbody>\n",
       "    <tr>\n",
       "      <th>0</th>\n",
       "      <td>1712180.50</td>\n",
       "    </tr>\n",
       "    <tr>\n",
       "      <th>1</th>\n",
       "      <td>697400.35</td>\n",
       "    </tr>\n",
       "    <tr>\n",
       "      <th>2</th>\n",
       "      <td>37200.00</td>\n",
       "    </tr>\n",
       "    <tr>\n",
       "      <th>3</th>\n",
       "      <td>341600.89</td>\n",
       "    </tr>\n",
       "    <tr>\n",
       "      <th>4</th>\n",
       "      <td>14400.00</td>\n",
       "    </tr>\n",
       "    <tr>\n",
       "      <th>...</th>\n",
       "      <td>...</td>\n",
       "    </tr>\n",
       "    <tr>\n",
       "      <th>17493</th>\n",
       "      <td>152303.00</td>\n",
       "    </tr>\n",
       "    <tr>\n",
       "      <th>17494</th>\n",
       "      <td>314432.00</td>\n",
       "    </tr>\n",
       "    <tr>\n",
       "      <th>17495</th>\n",
       "      <td>117912.00</td>\n",
       "    </tr>\n",
       "    <tr>\n",
       "      <th>17496</th>\n",
       "      <td>162129.00</td>\n",
       "    </tr>\n",
       "    <tr>\n",
       "      <th>17497</th>\n",
       "      <td>2300.00</td>\n",
       "    </tr>\n",
       "  </tbody>\n",
       "</table>\n",
       "<p>17498 rows × 1 columns</p>\n",
       "</div>"
      ],
      "text/plain": [
       "            Price\n",
       "0      1712180.50\n",
       "1       697400.35\n",
       "2        37200.00\n",
       "3       341600.89\n",
       "4        14400.00\n",
       "...           ...\n",
       "17493   152303.00\n",
       "17494   314432.00\n",
       "17495   117912.00\n",
       "17496   162129.00\n",
       "17497     2300.00\n",
       "\n",
       "[17498 rows x 1 columns]"
      ]
     },
     "execution_count": 56,
     "metadata": {},
     "output_type": "execute_result"
    }
   ],
   "source": [
    "y"
   ]
  },
  {
   "cell_type": "code",
   "execution_count": 57,
   "id": "326b03e7-a8da-4623-9346-16dfac26669f",
   "metadata": {},
   "outputs": [
    {
     "data": {
      "text/plain": [
       "(17498, 1696)"
      ]
     },
     "execution_count": 57,
     "metadata": {},
     "output_type": "execute_result"
    }
   ],
   "source": [
    "x_3=pd.get_dummies(x_2)\n",
    "x_3.shape"
   ]
  },
  {
   "cell_type": "code",
   "execution_count": 58,
   "id": "a50b0a8f-cac4-42ea-9095-b20da1df177b",
   "metadata": {},
   "outputs": [],
   "source": [
    "from sklearn.model_selection import train_test_split\n",
    "X_train,X_test, Y_train,Y_test = train_test_split(x_3,y, test_size = 0.3, random_state = 0)"
   ]
  },
  {
   "cell_type": "code",
   "execution_count": 59,
   "id": "6203faa6-caf8-43d1-9452-15151eae5370",
   "metadata": {},
   "outputs": [
    {
     "name": "stderr",
     "output_type": "stream",
     "text": [
      "C:\\Users\\Ismat\\AppData\\Local\\Temp/ipykernel_14372/505371888.py:21: DataConversionWarning: A column-vector y was passed when a 1d array was expected. Please change the shape of y to (n_samples,), for example using ravel().\n",
      "  turbo_model.fit(X_train,Y_train)\n"
     ]
    },
    {
     "name": "stdout",
     "output_type": "stream",
     "text": [
      "0.7956188257158364 84462.1720625447\n"
     ]
    }
   ],
   "source": [
    "#  RandomForestRegressor\n",
    "from sklearn.ensemble import RandomForestRegressor\n",
    "turbo_model = RandomForestRegressor()\n",
    "    #n_estimators=400,\n",
    "    #criterion='poisson',\n",
    "    #max_depth=None,\n",
    "    #min_samples_split=2,\n",
    "    #min_samples_leaf=2,\n",
    "    #min_weight_fraction_leaf=0.0,\n",
    "    #max_features=1.0,\n",
    "    #max_leaf_nodes=None,\n",
    "    #min_impurity_decrease=0.8,\n",
    "    #bootstrap=True,\n",
    "    #oob_score=True,\n",
    "    #n_jobs=4,\n",
    "    #random_state=1,\n",
    "    #verbose=0,\n",
    "    #warm_start=True,\n",
    "    #ccp_alpha=0.9,\n",
    "    #max_samples=None)\n",
    "turbo_model.fit(X_train,Y_train)\n",
    "prediction = turbo_model.predict(X_test)\n",
    "\n",
    "from sklearn.metrics import r2_score, mean_squared_error\n",
    "#from ml_metrics import rmse_score \n",
    "score1 = r2_score(Y_test, prediction)\n",
    "score2 = np.sqrt(mean_squared_error(Y_test, prediction))\n",
    "print(score1,score2)"
   ]
  },
  {
   "cell_type": "code",
   "execution_count": 60,
   "id": "a1bb8e8b-5785-483d-86a3-e7ba4982359c",
   "metadata": {},
   "outputs": [
    {
     "name": "stdout",
     "output_type": "stream",
     "text": [
      "0.7956188257158364 84462.1720625447\n"
     ]
    }
   ],
   "source": [
    "# XGB\n",
    "from xgboost import XGBRegressor\n",
    "xgb_model = XGBRegressor()\n",
    "                           #n_estimators=90,\n",
    "                           #max_depth=90,\n",
    "                           #n_jobs =99,\n",
    "                           #max_leaves=0,\n",
    "                           #max_bin=99,\n",
    "                           #grow_policy='depthwise',\n",
    "                           #learning_rate=0,\n",
    "                           #verbosity=0,\n",
    "                           #booster='dart',\n",
    "                           #gamma=1,\n",
    "                           #min_child_weight= 1,\n",
    "                           #max_delta_step=1 ,\n",
    "                           #subsample=1 ,\n",
    "                           #sampling_method=1 ,\n",
    "                           #colsample_bytree= 1,\n",
    "                           #colsample_bylevel=1 ,\n",
    "                           #colsample_bynode=1 ,\n",
    "                           #reg_alpha= 1,\n",
    "                           #reg_lambda= 1,\n",
    "                           #scale_pos_weight=1 ,\n",
    "                           #base_score= 1,\n",
    "                           #random_state= 1,\n",
    "                           #missing= 1,\n",
    "                           #num_parallel_tree= 1,\n",
    "                           #monotone_constraints=1 ,\n",
    "                           #interaction_constraints= 1,\n",
    "                           #gpu_id=1,\n",
    "                           #validate_parameters=1 ,\n",
    "                           #predictor= 1,\n",
    "                           #enable_categorical= 1,\n",
    "                           #max_cat_to_onehot=1 ,\n",
    "                           #eval_metric= '',\n",
    "                           #early_stopping_rounds=1 ,\n",
    "                           #callbacks=None,\n",
    "                           #kwargs=1 ,\n",
    "                           #hess=0 )\n",
    "xgb_model.fit(X_train,Y_train)\n",
    "Y_pred = xgb_model.predict(X_test)\n",
    "\n",
    "from sklearn.metrics import mean_squared_error, r2_score\n",
    "score5 = r2_score(Y_test, prediction)\n",
    "score6 = np.sqrt(mean_squared_error(Y_test, prediction))\n",
    "print(score5,score6)"
   ]
  },
  {
   "cell_type": "code",
   "execution_count": 61,
   "id": "ca054bcd-3217-4005-a48e-9699ccae5a27",
   "metadata": {},
   "outputs": [
    {
     "name": "stdout",
     "output_type": "stream",
     "text": [
      "0.7956188257158364 84462.1720625447\n"
     ]
    }
   ],
   "source": [
    "# DecisionTreeRegressor\n",
    "from sklearn.model_selection import train_test_split\n",
    "X_train,X_test, Y_train,Y_test = train_test_split(x,y, test_size = 0.3, random_state = 1)\n",
    "from sklearn.tree import DecisionTreeRegressor\n",
    "dec_model = DecisionTreeRegressor()\n",
    "    #criterion='poisson',\n",
    "    #splitter='best',\n",
    "    #max_depth=None,\n",
    "    #min_samples_split=2,\n",
    "    #min_samples_leaf=2,\n",
    "    #min_weight_fraction_leaf=0.0,\n",
    "    #max_features=0.8,\n",
    "    #random_state=0,\n",
    "    #max_leaf_nodes=None,\n",
    "    #min_impurity_decrease=0.0,\n",
    "    #ccp_alpha=0.88)\n",
    "dec_model.fit(X_train,Y_train)\n",
    "prediction = dec_model.predict(X_test)\n",
    "prediction\n",
    "\n",
    "from sklearn.metrics import r2_score, mean_squared_error\n",
    "#from ml_metrics import rmse_score \n",
    "score3 = r2_score(Y_test, prediction)\n",
    "score4 = np.sqrt(mean_squared_error(Y_test, prediction))\n",
    "print(score1,score2)\n"
   ]
  },
  {
   "cell_type": "code",
   "execution_count": 62,
   "id": "88f47620-e596-47db-8334-d18836498cd3",
   "metadata": {},
   "outputs": [],
   "source": [
    "def price_prediction(make_model, engine, year, km):\n",
    "\n",
    "    encodevalue = turboaz[turboaz['Make_and_Model'] == make_model]['Make_Model_Encode'].values[0]\n",
    "\n",
    "    testdata = pd.DataFrame()\n",
    "\n",
    "    testdata = testdata.append({\n",
    "        'Make_Model_Encode':encodevalue,\n",
    "        'Engine':engine,\n",
    "        'Production_Year':year,\n",
    "        'km':km\n",
    "    },ignore_index=True)\n",
    "\n",
    "    X_train = turboaz.loc[:,['Make_Model_Encode','Production_Year','Engine_Power','KM_Driven']].values\n",
    "    Y_train = turboaz['Converted_Price'].values\n",
    "\n",
    "    regressor.fit(X_train,Y_train)\n",
    "\n",
    "    return turbo_model.predict(test.values)[0]"
   ]
  },
  {
   "cell_type": "code",
   "execution_count": null,
   "id": "a6587d60-d04e-4976-b5b1-8a1b7f6a3686",
   "metadata": {},
   "outputs": [],
   "source": [
    "price_prediction('Chevrolet Malibu', 1500, 2016, 61000)"
   ]
  },
  {
   "cell_type": "code",
   "execution_count": null,
   "id": "e88d0b28-473b-4cd7-a9f5-5f01dd9c9c72",
   "metadata": {},
   "outputs": [],
   "source": []
  },
  {
   "cell_type": "code",
   "execution_count": null,
   "id": "d618ab6d-070f-4071-9a31-56dbf04fe0c6",
   "metadata": {},
   "outputs": [],
   "source": []
  },
  {
   "cell_type": "code",
   "execution_count": null,
   "id": "2286e378-15e0-4bb3-8fa4-98affe15a9a2",
   "metadata": {},
   "outputs": [],
   "source": []
  },
  {
   "cell_type": "code",
   "execution_count": null,
   "id": "ca95eb66-7229-4461-a8e0-4d8e3d8c99d1",
   "metadata": {},
   "outputs": [],
   "source": [
    "def price (model,engine,year,km,city):\n",
    "   \n",
    "    test_data = pd.DataFrame()\n",
    "    \n",
    "     \n",
    "    \n",
    "    Make_and_Model_encoded = turboaz[turboaz['Make_and_Model'] == model]['Make_and_Model_Encode'].values[0]\n",
    "    \n",
    "    Engine_encoded = turboaz[turboaz['Engine'] == engine]['Engine_Encode'].values[0]\n",
    "    \n",
    "    Production_Year_Encoded=turboaz[turboaz['Production_Year'] == year]['Production_Year_Encode'].values[0]\n",
    "    \n",
    "    km_encoded = turboaz[turboaz['km'] == km]['km_Encode'].values[0]\n",
    "    \n",
    "    city_encoded = turboaz[turboaz['City'] == city]['City_Encode'].values[0]\n",
    "    \n",
    "    test_data = test_data.append({'Make_and_Model_Encode':Make_and_Model_encoded,\n",
    "                                  'Production_Year_Encode':Production_Year_Encoded,'Engine_Encode':Engine_encoded,'km_Encode':km_encoded,\n",
    "                                  'City_Encode':city_encoded},ignore_index = True)\n",
    "    \n",
    "    X_test = test_data.loc[:,['Make_and_Model_Encode','Production_Year_Encode','Engine_Encode','km_Encode','City_Encode']].values\n",
    "    \n",
    "    prediction = turbo_model.predict(X_test)\n",
    "    \n",
    "    return f'Price : {round(prediction[0])}';\n",
    "\n",
    "\n",
    "\n",
    "\n",
    "\n",
    "\n",
    "\n",
    "\n",
    "\n"
   ]
  },
  {
   "cell_type": "code",
   "execution_count": null,
   "id": "90780322-5d68-459f-b94c-4e9ff29ee07c",
   "metadata": {},
   "outputs": [],
   "source": [
    "price('Mercedes GLS 580','4.0',2022,'0','Bakı')"
   ]
  },
  {
   "cell_type": "code",
   "execution_count": null,
   "id": "198d7660-f6eb-416e-97d5-6963d7e5b3ef",
   "metadata": {},
   "outputs": [],
   "source": []
  }
 ],
 "metadata": {
  "kernelspec": {
   "display_name": "Python 3 (ipykernel)",
   "language": "python",
   "name": "python3"
  },
  "language_info": {
   "codemirror_mode": {
    "name": "ipython",
    "version": 3
   },
   "file_extension": ".py",
   "mimetype": "text/x-python",
   "name": "python",
   "nbconvert_exporter": "python",
   "pygments_lexer": "ipython3",
   "version": "3.9.7"
  }
 },
 "nbformat": 4,
 "nbformat_minor": 5
}
