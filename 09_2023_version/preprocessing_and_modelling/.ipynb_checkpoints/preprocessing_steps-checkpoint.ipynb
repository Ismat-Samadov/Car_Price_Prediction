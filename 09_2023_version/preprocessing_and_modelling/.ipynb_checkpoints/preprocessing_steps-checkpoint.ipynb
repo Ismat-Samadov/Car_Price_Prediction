{
 "cells": [
  {
   "cell_type": "markdown",
   "id": "067205d5-1864-404a-85aa-927471d8e190",
   "metadata": {
    "tags": []
   },
   "source": [
    "## libraries"
   ]
  },
  {
   "cell_type": "code",
   "execution_count": 2,
   "id": "8f2b1e41-138b-431d-b5b8-ead5fba2f32c",
   "metadata": {
    "tags": []
   },
   "outputs": [],
   "source": [
    "import pandas as pd\n",
    "import numpy as np\n",
    "\n",
    "# import cx_Oracle\n",
    "\n",
    "import matplotlib.pyplot as plt\n",
    "import seaborn as sns\n",
    "\n",
    "import xgboost as xgb\n",
    "from sklearn.model_selection import train_test_split\n",
    "from sklearn.metrics import mean_squared_error, r2_score, mean_absolute_error\n",
    "from xgboost import XGBRegressor\n",
    "\n",
    "\n",
    "import joblib\n",
    "from flask import Flask, request, jsonify\n",
    "\n",
    "\n",
    "import warnings\n",
    "warnings.filterwarnings(\"ignore\", category=FutureWarning)\n"
   ]
  },
  {
   "cell_type": "code",
   "execution_count": 2,
   "id": "a7055e0a-61fe-4dd0-b048-d15692e2a66f",
   "metadata": {
    "tags": []
   },
   "outputs": [],
   "source": [
    "data = pd.read_csv('turboaz_27_09_2023.csv')"
   ]
  },
  {
   "cell_type": "code",
   "execution_count": 3,
   "id": "c1c11f87-d0a8-451e-8972-77c8ebb53357",
   "metadata": {
    "tags": []
   },
   "outputs": [
    {
     "data": {
      "text/html": [
       "<div>\n",
       "<style scoped>\n",
       "    .dataframe tbody tr th:only-of-type {\n",
       "        vertical-align: middle;\n",
       "    }\n",
       "\n",
       "    .dataframe tbody tr th {\n",
       "        vertical-align: top;\n",
       "    }\n",
       "\n",
       "    .dataframe thead th {\n",
       "        text-align: right;\n",
       "    }\n",
       "</style>\n",
       "<table border=\"1\" class=\"dataframe\">\n",
       "  <thead>\n",
       "    <tr style=\"text-align: right;\">\n",
       "      <th></th>\n",
       "      <th>link</th>\n",
       "      <th>title</th>\n",
       "      <th>update</th>\n",
       "      <th>views</th>\n",
       "      <th>city</th>\n",
       "      <th>make</th>\n",
       "      <th>model</th>\n",
       "      <th>year</th>\n",
       "      <th>ban_type</th>\n",
       "      <th>colour</th>\n",
       "      <th>engine</th>\n",
       "      <th>ride</th>\n",
       "      <th>transmission</th>\n",
       "      <th>gear</th>\n",
       "      <th>is_new</th>\n",
       "      <th>price</th>\n",
       "    </tr>\n",
       "  </thead>\n",
       "  <tbody>\n",
       "    <tr>\n",
       "      <th>0</th>\n",
       "      <td>https://turbo.az/autos/6677912-jeep-wrangler</td>\n",
       "      <td>Jeep Wrangler,</td>\n",
       "      <td>Yeniləndi: 04.09.2023</td>\n",
       "      <td>Baxışların sayı: 45926</td>\n",
       "      <td>Bakı</td>\n",
       "      <td>Jeep</td>\n",
       "      <td>Wrangler</td>\n",
       "      <td>2022</td>\n",
       "      <td>Offroader / SUV</td>\n",
       "      <td>Boz</td>\n",
       "      <td>2.0 L/272 a.g./Benzin</td>\n",
       "      <td>0 km</td>\n",
       "      <td>Avtomat</td>\n",
       "      <td>Tam</td>\n",
       "      <td>Bəli</td>\n",
       "      <td>79 500 USD</td>\n",
       "    </tr>\n",
       "    <tr>\n",
       "      <th>1</th>\n",
       "      <td>https://turbo.az/autos/7751449-porsche-cayenne...</td>\n",
       "      <td>Porsche Cayenne GTS,</td>\n",
       "      <td>Yeniləndi: 27.09.2023</td>\n",
       "      <td>Baxışların sayı: 1393</td>\n",
       "      <td>Gəncə</td>\n",
       "      <td>Porsche</td>\n",
       "      <td>Cayenne GTS</td>\n",
       "      <td>2009</td>\n",
       "      <td>Offroader / SUV</td>\n",
       "      <td>Qara</td>\n",
       "      <td>4.8 L/405 a.g./Benzin</td>\n",
       "      <td>180 000 km</td>\n",
       "      <td>Avtomat</td>\n",
       "      <td>Tam</td>\n",
       "      <td>Xeyr</td>\n",
       "      <td>34 700 AZN</td>\n",
       "    </tr>\n",
       "    <tr>\n",
       "      <th>2</th>\n",
       "      <td>https://turbo.az/autos/7036596-land-rover-disc...</td>\n",
       "      <td>Land Rover Discovery,</td>\n",
       "      <td>Yeniləndi: 27.09.2023</td>\n",
       "      <td>Baxışların sayı: 5372</td>\n",
       "      <td>Bakı</td>\n",
       "      <td>Land Rover</td>\n",
       "      <td>Discovery</td>\n",
       "      <td>2017</td>\n",
       "      <td>Offroader / SUV</td>\n",
       "      <td>Yaş Asfalt</td>\n",
       "      <td>2.0 L/240 a.g./Dizel</td>\n",
       "      <td>83 300 km</td>\n",
       "      <td>Avtomat</td>\n",
       "      <td>Tam</td>\n",
       "      <td>Xeyr</td>\n",
       "      <td>54 500 USD</td>\n",
       "    </tr>\n",
       "    <tr>\n",
       "      <th>3</th>\n",
       "      <td>https://turbo.az/autos/7388272-chevrolet-cruze</td>\n",
       "      <td>Chevrolet Cruze,</td>\n",
       "      <td>Yeniləndi: 27.09.2023</td>\n",
       "      <td>Baxışların sayı: 3562</td>\n",
       "      <td>Sumqayıt</td>\n",
       "      <td>Chevrolet</td>\n",
       "      <td>Cruze</td>\n",
       "      <td>2013</td>\n",
       "      <td>Sedan</td>\n",
       "      <td>Bej</td>\n",
       "      <td>1.4 L/140 a.g./Benzin</td>\n",
       "      <td>172 985 km</td>\n",
       "      <td>Avtomat</td>\n",
       "      <td>Ön</td>\n",
       "      <td>Xeyr</td>\n",
       "      <td>14 900 AZN</td>\n",
       "    </tr>\n",
       "    <tr>\n",
       "      <th>4</th>\n",
       "      <td>https://turbo.az/autos/7771961-nissan-tiida</td>\n",
       "      <td>Nissan Tiida,</td>\n",
       "      <td>Yeniləndi: 27.09.2023</td>\n",
       "      <td>Baxışların sayı: 18</td>\n",
       "      <td>Bakı</td>\n",
       "      <td>Nissan</td>\n",
       "      <td>Tiida</td>\n",
       "      <td>2012</td>\n",
       "      <td>Sedan</td>\n",
       "      <td>Ağ</td>\n",
       "      <td>1.5 L/109 a.g./Benzin</td>\n",
       "      <td>67 800 km</td>\n",
       "      <td>Avtomat</td>\n",
       "      <td>Ön</td>\n",
       "      <td>Xeyr</td>\n",
       "      <td>15 500 AZN</td>\n",
       "    </tr>\n",
       "    <tr>\n",
       "      <th>...</th>\n",
       "      <td>...</td>\n",
       "      <td>...</td>\n",
       "      <td>...</td>\n",
       "      <td>...</td>\n",
       "      <td>...</td>\n",
       "      <td>...</td>\n",
       "      <td>...</td>\n",
       "      <td>...</td>\n",
       "      <td>...</td>\n",
       "      <td>...</td>\n",
       "      <td>...</td>\n",
       "      <td>...</td>\n",
       "      <td>...</td>\n",
       "      <td>...</td>\n",
       "      <td>...</td>\n",
       "      <td>...</td>\n",
       "    </tr>\n",
       "    <tr>\n",
       "      <th>11254</th>\n",
       "      <td>https://turbo.az/autos/7760624-bmw-328</td>\n",
       "      <td>BMW 328,</td>\n",
       "      <td>Yeniləndi: 26.09.2023</td>\n",
       "      <td>Baxışların sayı: 2561</td>\n",
       "      <td>Bakı</td>\n",
       "      <td>BMW</td>\n",
       "      <td>328</td>\n",
       "      <td>2012</td>\n",
       "      <td>Sedan</td>\n",
       "      <td>Ağ</td>\n",
       "      <td>2.0 L/245 a.g./Benzin</td>\n",
       "      <td>150 000 km</td>\n",
       "      <td>Avtomat</td>\n",
       "      <td>Arxa</td>\n",
       "      <td>Xeyr</td>\n",
       "      <td>25 500 AZN</td>\n",
       "    </tr>\n",
       "    <tr>\n",
       "      <th>11255</th>\n",
       "      <td>https://turbo.az/autos/7415906-land-rover-defe...</td>\n",
       "      <td>Land Rover Defender,</td>\n",
       "      <td>Yeniləndi: 23.09.2023</td>\n",
       "      <td>Baxışların sayı: 9901</td>\n",
       "      <td>Bakı</td>\n",
       "      <td>Land Rover</td>\n",
       "      <td>Defender</td>\n",
       "      <td>2023</td>\n",
       "      <td>Offroader / SUV</td>\n",
       "      <td>Boz</td>\n",
       "      <td>3.0 L/400 a.g./Benzin</td>\n",
       "      <td>0 km</td>\n",
       "      <td>Avtomat</td>\n",
       "      <td>Tam</td>\n",
       "      <td>Bəli</td>\n",
       "      <td>137 555 USD</td>\n",
       "    </tr>\n",
       "    <tr>\n",
       "      <th>11256</th>\n",
       "      <td>https://turbo.az/autos/7764075-mercedes-c-180</td>\n",
       "      <td>Mercedes C 180,</td>\n",
       "      <td>Yeniləndi: 24.09.2023</td>\n",
       "      <td>Baxışların sayı: 2504</td>\n",
       "      <td>Sumqayıt</td>\n",
       "      <td>Mercedes</td>\n",
       "      <td>C 180</td>\n",
       "      <td>1998</td>\n",
       "      <td>Sedan</td>\n",
       "      <td>Gümüşü</td>\n",
       "      <td>1.8 L/122 a.g./Benzin</td>\n",
       "      <td>36 000 km</td>\n",
       "      <td>Avtomat</td>\n",
       "      <td>Arxa</td>\n",
       "      <td>Xeyr</td>\n",
       "      <td>10 200 AZN</td>\n",
       "    </tr>\n",
       "    <tr>\n",
       "      <th>11257</th>\n",
       "      <td>https://turbo.az/autos/7740306-kia-stinger</td>\n",
       "      <td>Kia Stinger,</td>\n",
       "      <td>Yeniləndi: 23.09.2023</td>\n",
       "      <td>Baxışların sayı: 10015</td>\n",
       "      <td>Lənkəran</td>\n",
       "      <td>Kia</td>\n",
       "      <td>Stinger</td>\n",
       "      <td>2019</td>\n",
       "      <td>Liftbek</td>\n",
       "      <td>Narıncı</td>\n",
       "      <td>3.3 L/370 a.g./Benzin</td>\n",
       "      <td>97 000 km</td>\n",
       "      <td>Avtomat</td>\n",
       "      <td>Tam</td>\n",
       "      <td>Xeyr</td>\n",
       "      <td>28 000 USD</td>\n",
       "    </tr>\n",
       "    <tr>\n",
       "      <th>11258</th>\n",
       "      <td>https://turbo.az/autos/6986964-volkswagen-id-4</td>\n",
       "      <td>Volkswagen ID.4,</td>\n",
       "      <td>Yeniləndi: 27.09.2023</td>\n",
       "      <td>Baxışların sayı: 36253</td>\n",
       "      <td>Bakı</td>\n",
       "      <td>Volkswagen</td>\n",
       "      <td>ID.4</td>\n",
       "      <td>2022</td>\n",
       "      <td>Offroader / SUV</td>\n",
       "      <td>Boz</td>\n",
       "      <td>0.0 L/204 a.g./Elektro</td>\n",
       "      <td>0 km</td>\n",
       "      <td>Avtomat</td>\n",
       "      <td>Arxa</td>\n",
       "      <td>Bəli</td>\n",
       "      <td>59 500 AZN</td>\n",
       "    </tr>\n",
       "  </tbody>\n",
       "</table>\n",
       "<p>11259 rows × 16 columns</p>\n",
       "</div>"
      ],
      "text/plain": [
       "                                                    link  \\\n",
       "0           https://turbo.az/autos/6677912-jeep-wrangler   \n",
       "1      https://turbo.az/autos/7751449-porsche-cayenne...   \n",
       "2      https://turbo.az/autos/7036596-land-rover-disc...   \n",
       "3         https://turbo.az/autos/7388272-chevrolet-cruze   \n",
       "4            https://turbo.az/autos/7771961-nissan-tiida   \n",
       "...                                                  ...   \n",
       "11254             https://turbo.az/autos/7760624-bmw-328   \n",
       "11255  https://turbo.az/autos/7415906-land-rover-defe...   \n",
       "11256      https://turbo.az/autos/7764075-mercedes-c-180   \n",
       "11257         https://turbo.az/autos/7740306-kia-stinger   \n",
       "11258     https://turbo.az/autos/6986964-volkswagen-id-4   \n",
       "\n",
       "                        title                 update                   views  \\\n",
       "0             Jeep Wrangler,   Yeniləndi: 04.09.2023  Baxışların sayı: 45926   \n",
       "1       Porsche Cayenne GTS,   Yeniləndi: 27.09.2023   Baxışların sayı: 1393   \n",
       "2      Land Rover Discovery,   Yeniləndi: 27.09.2023   Baxışların sayı: 5372   \n",
       "3           Chevrolet Cruze,   Yeniləndi: 27.09.2023   Baxışların sayı: 3562   \n",
       "4              Nissan Tiida,   Yeniləndi: 27.09.2023     Baxışların sayı: 18   \n",
       "...                       ...                    ...                     ...   \n",
       "11254               BMW 328,   Yeniləndi: 26.09.2023   Baxışların sayı: 2561   \n",
       "11255   Land Rover Defender,   Yeniləndi: 23.09.2023   Baxışların sayı: 9901   \n",
       "11256        Mercedes C 180,   Yeniləndi: 24.09.2023   Baxışların sayı: 2504   \n",
       "11257           Kia Stinger,   Yeniləndi: 23.09.2023  Baxışların sayı: 10015   \n",
       "11258       Volkswagen ID.4,   Yeniləndi: 27.09.2023  Baxışların sayı: 36253   \n",
       "\n",
       "           city        make        model  year         ban_type      colour  \\\n",
       "0          Bakı        Jeep     Wrangler  2022  Offroader / SUV         Boz   \n",
       "1         Gəncə     Porsche  Cayenne GTS  2009  Offroader / SUV        Qara   \n",
       "2          Bakı  Land Rover    Discovery  2017  Offroader / SUV  Yaş Asfalt   \n",
       "3      Sumqayıt   Chevrolet        Cruze  2013            Sedan         Bej   \n",
       "4          Bakı      Nissan        Tiida  2012            Sedan          Ağ   \n",
       "...         ...         ...          ...   ...              ...         ...   \n",
       "11254      Bakı         BMW          328  2012            Sedan          Ağ   \n",
       "11255      Bakı  Land Rover     Defender  2023  Offroader / SUV         Boz   \n",
       "11256  Sumqayıt    Mercedes        C 180  1998            Sedan      Gümüşü   \n",
       "11257  Lənkəran         Kia      Stinger  2019          Liftbek     Narıncı   \n",
       "11258      Bakı  Volkswagen         ID.4  2022  Offroader / SUV         Boz   \n",
       "\n",
       "                       engine        ride transmission  gear is_new  \\\n",
       "0       2.0 L/272 a.g./Benzin        0 km      Avtomat   Tam   Bəli   \n",
       "1       4.8 L/405 a.g./Benzin  180 000 km      Avtomat   Tam   Xeyr   \n",
       "2        2.0 L/240 a.g./Dizel   83 300 km      Avtomat   Tam   Xeyr   \n",
       "3       1.4 L/140 a.g./Benzin  172 985 km      Avtomat    Ön   Xeyr   \n",
       "4       1.5 L/109 a.g./Benzin   67 800 km      Avtomat    Ön   Xeyr   \n",
       "...                       ...         ...          ...   ...    ...   \n",
       "11254   2.0 L/245 a.g./Benzin  150 000 km      Avtomat  Arxa   Xeyr   \n",
       "11255   3.0 L/400 a.g./Benzin        0 km      Avtomat   Tam   Bəli   \n",
       "11256   1.8 L/122 a.g./Benzin   36 000 km      Avtomat  Arxa   Xeyr   \n",
       "11257   3.3 L/370 a.g./Benzin   97 000 km      Avtomat   Tam   Xeyr   \n",
       "11258  0.0 L/204 a.g./Elektro        0 km      Avtomat  Arxa   Bəli   \n",
       "\n",
       "             price  \n",
       "0       79 500 USD  \n",
       "1       34 700 AZN  \n",
       "2       54 500 USD  \n",
       "3       14 900 AZN  \n",
       "4       15 500 AZN  \n",
       "...            ...  \n",
       "11254   25 500 AZN  \n",
       "11255  137 555 USD  \n",
       "11256   10 200 AZN  \n",
       "11257   28 000 USD  \n",
       "11258   59 500 AZN  \n",
       "\n",
       "[11259 rows x 16 columns]"
      ]
     },
     "execution_count": 3,
     "metadata": {},
     "output_type": "execute_result"
    }
   ],
   "source": [
    "data"
   ]
  },
  {
   "cell_type": "code",
   "execution_count": 4,
   "id": "65773e31-9639-4250-986c-f27b6b7fd0b0",
   "metadata": {
    "tags": []
   },
   "outputs": [
    {
     "data": {
      "text/plain": [
       "link            0\n",
       "title           0\n",
       "update          0\n",
       "views           0\n",
       "city            0\n",
       "make            0\n",
       "model           0\n",
       "year            0\n",
       "ban_type        0\n",
       "colour          0\n",
       "engine          0\n",
       "ride            0\n",
       "transmission    0\n",
       "gear            0\n",
       "is_new          0\n",
       "price           0\n",
       "dtype: int64"
      ]
     },
     "execution_count": 4,
     "metadata": {},
     "output_type": "execute_result"
    }
   ],
   "source": [
    "data.isna().sum()"
   ]
  },
  {
   "cell_type": "code",
   "execution_count": 5,
   "id": "45d13943-630a-4349-9e73-dd6eeefe2776",
   "metadata": {
    "tags": []
   },
   "outputs": [
    {
     "data": {
      "text/plain": [
       "0"
      ]
     },
     "execution_count": 5,
     "metadata": {},
     "output_type": "execute_result"
    }
   ],
   "source": [
    "data.duplicated().sum()"
   ]
  },
  {
   "cell_type": "code",
   "execution_count": 6,
   "id": "de9e9ed8-12c9-4c41-884c-bd9ffbe6acae",
   "metadata": {
    "tags": []
   },
   "outputs": [
    {
     "name": "stdout",
     "output_type": "stream",
     "text": [
      "<class 'pandas.core.frame.DataFrame'>\n",
      "RangeIndex: 11259 entries, 0 to 11258\n",
      "Data columns (total 16 columns):\n",
      " #   Column        Non-Null Count  Dtype \n",
      "---  ------        --------------  ----- \n",
      " 0   link          11259 non-null  object\n",
      " 1   title         11259 non-null  object\n",
      " 2   update        11259 non-null  object\n",
      " 3   views         11259 non-null  object\n",
      " 4   city          11259 non-null  object\n",
      " 5   make          11259 non-null  object\n",
      " 6   model         11259 non-null  object\n",
      " 7   year          11259 non-null  int64 \n",
      " 8   ban_type      11259 non-null  object\n",
      " 9   colour        11259 non-null  object\n",
      " 10  engine        11259 non-null  object\n",
      " 11  ride          11259 non-null  object\n",
      " 12  transmission  11259 non-null  object\n",
      " 13  gear          11259 non-null  object\n",
      " 14  is_new        11259 non-null  object\n",
      " 15  price         11259 non-null  object\n",
      "dtypes: int64(1), object(15)\n",
      "memory usage: 1.4+ MB\n"
     ]
    }
   ],
   "source": [
    "data.info()"
   ]
  },
  {
   "cell_type": "code",
   "execution_count": 7,
   "id": "6f6f8829-e39c-4f0f-a687-16a5e74199a9",
   "metadata": {
    "tags": []
   },
   "outputs": [
    {
     "data": {
      "text/plain": [
       "Index(['link', 'title', 'update', 'views', 'city', 'make', 'model', 'year',\n",
       "       'ban_type', 'colour', 'engine', 'ride', 'transmission', 'gear',\n",
       "       'is_new', 'price'],\n",
       "      dtype='object')"
      ]
     },
     "execution_count": 7,
     "metadata": {},
     "output_type": "execute_result"
    }
   ],
   "source": [
    "data.columns"
   ]
  },
  {
   "cell_type": "code",
   "execution_count": 8,
   "id": "5810fbc2-56b0-4b81-92f8-6944e01e8bf8",
   "metadata": {
    "tags": []
   },
   "outputs": [
    {
     "data": {
      "text/html": [
       "<div>\n",
       "<style scoped>\n",
       "    .dataframe tbody tr th:only-of-type {\n",
       "        vertical-align: middle;\n",
       "    }\n",
       "\n",
       "    .dataframe tbody tr th {\n",
       "        vertical-align: top;\n",
       "    }\n",
       "\n",
       "    .dataframe thead th {\n",
       "        text-align: right;\n",
       "    }\n",
       "</style>\n",
       "<table border=\"1\" class=\"dataframe\">\n",
       "  <thead>\n",
       "    <tr style=\"text-align: right;\">\n",
       "      <th></th>\n",
       "      <th>year</th>\n",
       "    </tr>\n",
       "  </thead>\n",
       "  <tbody>\n",
       "    <tr>\n",
       "      <th>count</th>\n",
       "      <td>11259.000000</td>\n",
       "    </tr>\n",
       "    <tr>\n",
       "      <th>mean</th>\n",
       "      <td>2010.992983</td>\n",
       "    </tr>\n",
       "    <tr>\n",
       "      <th>std</th>\n",
       "      <td>8.218051</td>\n",
       "    </tr>\n",
       "    <tr>\n",
       "      <th>min</th>\n",
       "      <td>1954.000000</td>\n",
       "    </tr>\n",
       "    <tr>\n",
       "      <th>25%</th>\n",
       "      <td>2007.000000</td>\n",
       "    </tr>\n",
       "    <tr>\n",
       "      <th>50%</th>\n",
       "      <td>2012.000000</td>\n",
       "    </tr>\n",
       "    <tr>\n",
       "      <th>75%</th>\n",
       "      <td>2016.000000</td>\n",
       "    </tr>\n",
       "    <tr>\n",
       "      <th>max</th>\n",
       "      <td>2023.000000</td>\n",
       "    </tr>\n",
       "  </tbody>\n",
       "</table>\n",
       "</div>"
      ],
      "text/plain": [
       "               year\n",
       "count  11259.000000\n",
       "mean    2010.992983\n",
       "std        8.218051\n",
       "min     1954.000000\n",
       "25%     2007.000000\n",
       "50%     2012.000000\n",
       "75%     2016.000000\n",
       "max     2023.000000"
      ]
     },
     "execution_count": 8,
     "metadata": {},
     "output_type": "execute_result"
    }
   ],
   "source": [
    "data.describe()"
   ]
  },
  {
   "cell_type": "code",
   "execution_count": null,
   "id": "9c25d9f0-6667-4297-9821-6b95e692e81d",
   "metadata": {
    "tags": []
   },
   "outputs": [],
   "source": []
  },
  {
   "cell_type": "code",
   "execution_count": null,
   "id": "ddc11ce4-a12a-4b28-b363-e0d13141302c",
   "metadata": {},
   "outputs": [],
   "source": []
  },
  {
   "cell_type": "code",
   "execution_count": null,
   "id": "bed1dcbb-2190-43b9-82be-98d0b9a2ee1d",
   "metadata": {},
   "outputs": [],
   "source": []
  },
  {
   "cell_type": "code",
   "execution_count": null,
   "id": "05b9cee4-8f77-41c1-a56b-ec0f03392e43",
   "metadata": {},
   "outputs": [],
   "source": []
  },
  {
   "cell_type": "code",
   "execution_count": null,
   "id": "23354578-c6a1-4cd3-bb80-f9d2f6b3f3bc",
   "metadata": {},
   "outputs": [],
   "source": []
  },
  {
   "cell_type": "code",
   "execution_count": null,
   "id": "979c86ca-50e2-4dab-86e5-0a38efe785e0",
   "metadata": {},
   "outputs": [],
   "source": []
  },
  {
   "cell_type": "code",
   "execution_count": null,
   "id": "3d6557c5-d2c4-4838-aaec-adf344c1f097",
   "metadata": {},
   "outputs": [],
   "source": []
  },
  {
   "cell_type": "code",
   "execution_count": null,
   "id": "a9ada671-1feb-4aa0-aa73-b96af561d215",
   "metadata": {},
   "outputs": [],
   "source": []
  },
  {
   "cell_type": "markdown",
   "id": "7f3b3ef2-2dd6-48f4-972c-502c334dbb93",
   "metadata": {},
   "source": [
    "## update column"
   ]
  },
  {
   "cell_type": "code",
   "execution_count": 9,
   "id": "1da9a7b2-ef2a-4d19-8b79-377dfe9533a3",
   "metadata": {},
   "outputs": [
    {
     "data": {
      "text/plain": [
       "array(['Yeniləndi: 04.09.2023', 'Yeniləndi: 27.09.2023',\n",
       "       'Yeniləndi: 22.09.2023', 'Yeniləndi: 26.09.2023',\n",
       "       'Yeniləndi: 25.09.2023', 'Yeniləndi: 20.09.2023',\n",
       "       'Yeniləndi: 24.09.2023', 'Yeniləndi: 17.09.2023',\n",
       "       'Yeniləndi: 29.08.2023', 'Yeniləndi: 08.09.2023',\n",
       "       'Yeniləndi: 15.09.2023', 'Yeniləndi: 14.09.2023',\n",
       "       'Yeniləndi: 13.09.2023', 'Yeniləndi: 30.08.2023',\n",
       "       'Yeniləndi: 02.09.2023', 'Yeniləndi: 21.09.2023',\n",
       "       'Yeniləndi: 03.09.2023', 'Yeniləndi: 19.09.2023',\n",
       "       'Yeniləndi: 23.09.2023', 'Yeniləndi: 10.09.2023',\n",
       "       'Yeniləndi: 18.09.2023', 'Yeniləndi: 16.09.2023',\n",
       "       'Yeniləndi: 28.08.2023', 'Yeniləndi: 12.09.2023',\n",
       "       'Yeniləndi: 01.09.2023', 'Yeniləndi: 06.09.2023',\n",
       "       'Yeniləndi: 11.09.2023', 'Yeniləndi: 05.09.2023',\n",
       "       'Yeniləndi: 31.08.2023', 'Yeniləndi: 09.09.2023',\n",
       "       'Yeniləndi: 07.09.2023'], dtype=object)"
      ]
     },
     "execution_count": 9,
     "metadata": {},
     "output_type": "execute_result"
    }
   ],
   "source": [
    "data['update'].unique()"
   ]
  },
  {
   "cell_type": "code",
   "execution_count": 10,
   "id": "3630489c-4a12-4549-839a-c5ee0a1c6614",
   "metadata": {},
   "outputs": [],
   "source": [
    "def convert_update_column_to_datetime(data, column_name ,new_column_name):\n",
    "    data[new_column_name] = pd.to_datetime(data[column_name].str.replace('Yeniləndi: ', '', regex=True), format='%d.%m.%Y')\n",
    "    return data\n",
    "data = convert_update_column_to_datetime(data, 'update', 'date')"
   ]
  },
  {
   "cell_type": "code",
   "execution_count": 11,
   "id": "8f557c34-4f27-49e1-a660-e5538df65577",
   "metadata": {},
   "outputs": [
    {
     "data": {
      "text/plain": [
       "<DatetimeArray>\n",
       "['2023-09-04 00:00:00', '2023-09-27 00:00:00', '2023-09-22 00:00:00',\n",
       " '2023-09-26 00:00:00', '2023-09-25 00:00:00', '2023-09-20 00:00:00',\n",
       " '2023-09-24 00:00:00', '2023-09-17 00:00:00', '2023-08-29 00:00:00',\n",
       " '2023-09-08 00:00:00', '2023-09-15 00:00:00', '2023-09-14 00:00:00',\n",
       " '2023-09-13 00:00:00', '2023-08-30 00:00:00', '2023-09-02 00:00:00',\n",
       " '2023-09-21 00:00:00', '2023-09-03 00:00:00', '2023-09-19 00:00:00',\n",
       " '2023-09-23 00:00:00', '2023-09-10 00:00:00', '2023-09-18 00:00:00',\n",
       " '2023-09-16 00:00:00', '2023-08-28 00:00:00', '2023-09-12 00:00:00',\n",
       " '2023-09-01 00:00:00', '2023-09-06 00:00:00', '2023-09-11 00:00:00',\n",
       " '2023-09-05 00:00:00', '2023-08-31 00:00:00', '2023-09-09 00:00:00',\n",
       " '2023-09-07 00:00:00']\n",
       "Length: 31, dtype: datetime64[ns]"
      ]
     },
     "execution_count": 11,
     "metadata": {},
     "output_type": "execute_result"
    }
   ],
   "source": [
    "data['date'].unique()"
   ]
  },
  {
   "cell_type": "code",
   "execution_count": null,
   "id": "c30272f0-fda8-4077-a4f0-684546cfe7de",
   "metadata": {},
   "outputs": [],
   "source": []
  },
  {
   "cell_type": "markdown",
   "id": "a34f6b3a-e301-4cbd-9f36-c8404d9cc910",
   "metadata": {},
   "source": [
    "## view column"
   ]
  },
  {
   "cell_type": "code",
   "execution_count": 12,
   "id": "e7109509-3877-43b1-991a-94f4c1c825b0",
   "metadata": {},
   "outputs": [],
   "source": [
    "def clean_view(data, column_name ,new_column_name):\n",
    "    data[new_column_name] = data[column_name].str.replace('Baxışların sayı: ', '', regex=True)\n",
    "    return data\n",
    "data = clean_view(data, 'views', 'views_cleaned')\n",
    "data['views_cleaned'] = pd.to_numeric(data['views_cleaned'].str.replace('[^\\d.]', '', regex=True), errors='coerce')"
   ]
  },
  {
   "cell_type": "code",
   "execution_count": null,
   "id": "871b366c-55e6-4971-bedf-513ff2dd3129",
   "metadata": {},
   "outputs": [],
   "source": []
  },
  {
   "cell_type": "markdown",
   "id": "0c202235-964f-425f-b544-3e1e2d62fef3",
   "metadata": {},
   "source": [
    "## city column"
   ]
  },
  {
   "cell_type": "code",
   "execution_count": 13,
   "id": "785d3980-4e5b-4fed-8ce2-4a1492235dce",
   "metadata": {},
   "outputs": [
    {
     "data": {
      "text/plain": [
       "array(['Bakı', 'Gəncə', 'Sumqayıt', 'Lənkəran', 'Şamaxı', 'Sabirabad',\n",
       "       'Salyan', 'Masallı', 'Şirvan', 'İsmayıllı', 'Biləsuvar', 'Ağdaş',\n",
       "       'Tovuz', 'Goranboy', 'Şəki', 'Xırdalan', 'Ağcabədi', 'Quba',\n",
       "       'Balakən', 'Şəmkir', 'Qazax', 'Mingəçevir', 'Bərdə', 'Saatlı',\n",
       "       'Xaçmaz', 'Kürdəmir', 'Göyçay', 'Neftçala', 'Ağsu', 'Qəbələ',\n",
       "       'Tərtər', 'Naxçıvan', 'Astara', 'Qax', 'Siyəzən', 'Lerik',\n",
       "       'Yevlax', 'Gədəbəy', 'İmişli', 'Zaqatala', 'Göygöl', 'Yardımlı',\n",
       "       'Şabran', 'Qusar', 'Beyləqan', 'Samux', 'Ağdam', 'Cəlilabad',\n",
       "       'Ağstafa', 'Hacıqabul', 'Ucar', 'Füzuli', 'Qobustan', 'Xudat',\n",
       "       'Oğuz', 'Zərdab', 'Babək', 'Göytəpə', 'Cəbrayıl', 'Daşkəsən',\n",
       "       'Naftalan', 'Dəliməmmədli'], dtype=object)"
      ]
     },
     "execution_count": 13,
     "metadata": {},
     "output_type": "execute_result"
    }
   ],
   "source": [
    "data['city'].unique()"
   ]
  },
  {
   "cell_type": "code",
   "execution_count": 14,
   "id": "12ee4a1d-f396-47d2-b561-1b3d3f92ebba",
   "metadata": {},
   "outputs": [
    {
     "data": {
      "text/plain": [
       "city\n",
       "Bakı            8858\n",
       "Sumqayıt         916\n",
       "Gəncə            294\n",
       "Lənkəran         106\n",
       "Xırdalan          99\n",
       "                ... \n",
       "Göytəpə            1\n",
       "Cəbrayıl           1\n",
       "Daşkəsən           1\n",
       "Naftalan           1\n",
       "Dəliməmmədli       1\n",
       "Name: count, Length: 62, dtype: int64"
      ]
     },
     "execution_count": 14,
     "metadata": {},
     "output_type": "execute_result"
    }
   ],
   "source": [
    "data['city'].value_counts()"
   ]
  },
  {
   "cell_type": "code",
   "execution_count": null,
   "id": "a7b4cb89-18bf-42b7-b05d-4d347cc138fd",
   "metadata": {},
   "outputs": [],
   "source": []
  },
  {
   "cell_type": "markdown",
   "id": "041ad76d-23e4-4fcc-89bf-6d1a3e45312c",
   "metadata": {},
   "source": [
    "## make column"
   ]
  },
  {
   "cell_type": "code",
   "execution_count": 15,
   "id": "cad1211f-fc3a-42ad-bc8b-8f5e60e780d0",
   "metadata": {},
   "outputs": [
    {
     "data": {
      "text/plain": [
       "array(['Jeep', 'Porsche', 'Land Rover', 'Chevrolet', 'Nissan', 'Hyundai',\n",
       "       'Toyota', 'LADA (VAZ)', 'Mercedes', 'Mazda', 'Kia', 'Infiniti',\n",
       "       'BMW', 'Opel', 'Ford', 'Daewoo', 'Mitsubishi', 'Volkswagen',\n",
       "       'Dodge', 'Audi', 'Renault', 'Tufan', 'Changan', 'Lexus', 'Honda',\n",
       "       'Cadillac', 'Khazar', 'Dacia', 'Ravon', 'Soueast', 'Suzuki', 'GAZ',\n",
       "       'Chery', 'Haval', 'HOWO', 'Bestune', 'Mini', 'Jaguar', 'MAN',\n",
       "       'BYD', 'Rover', 'VGV', 'Zeekr', 'DAF', 'Volvo', 'Vespa', 'Baic',\n",
       "       'Lincoln', 'Fiat', 'Tesla', 'KamAz', 'GMC', 'Haima', 'JAC',\n",
       "       'Citroen', 'Subaru', 'FAW', 'Great Wall', 'Bentley', 'IM',\n",
       "       'Mercedes-Maybach', 'IJ', 'Megelli', 'SEAT', 'Peugeot',\n",
       "       'Iran Khodro', 'MAZ', 'Polestar', 'Skoda', 'Togg', 'DFSK', 'Tofas',\n",
       "       'ZIL', 'ZAZ', 'Iveco', 'Shacman', 'UAZ', 'MG', 'Karry', 'Maserati',\n",
       "       'Leapmotor', 'KAIYI', 'Foton', 'Isuzu', 'Jetour', 'Saipa',\n",
       "       'Skywell', 'Mondial', 'Voyah', 'Moskvich', 'Scania', 'CFMOTO',\n",
       "       'Lifan', 'Setra', 'Yamaha', 'Geely', 'Alfa Romeo', 'GAC',\n",
       "       'Muravey', 'Polad', 'Kuba', 'Hongqi', 'Volta', 'Bajaj', 'Mack',\n",
       "       'Chrysler', 'Ural', 'Avatr', 'TVS', 'Shaolin', 'Harley-Davidson',\n",
       "       'Avia', 'Genesis', 'Ssang Yong', 'Minsk', 'Royal Enfield',\n",
       "       'Hummer', 'Dnepr', 'BMW Alpina', 'Rolls-Royce', 'Haojue',\n",
       "       'Li Auto', 'Aprilia', 'Jiangmen', 'Zongshen', 'Grandmoto',\n",
       "       'C.Moto', 'KrAZ', 'XPeng', 'Lamborghini', 'Maple', 'Acura', 'KTM',\n",
       "       'ZX Auto', 'DongFeng', 'Kawasaki', 'Wanfeng', 'Ferrari'],\n",
       "      dtype=object)"
      ]
     },
     "execution_count": 15,
     "metadata": {},
     "output_type": "execute_result"
    }
   ],
   "source": [
    "data['make'].unique()"
   ]
  },
  {
   "cell_type": "code",
   "execution_count": 16,
   "id": "104d9f3a-a4e5-4a98-894c-52e106dca957",
   "metadata": {},
   "outputs": [
    {
     "data": {
      "text/plain": [
       "make\n",
       "Mercedes      1668\n",
       "Hyundai       1428\n",
       "Kia           1180\n",
       "Toyota        1125\n",
       "LADA (VAZ)     839\n",
       "              ... \n",
       "Mondial          1\n",
       "Karry            1\n",
       "Megelli          1\n",
       "Rover            1\n",
       "Ferrari          1\n",
       "Name: count, Length: 138, dtype: int64"
      ]
     },
     "execution_count": 16,
     "metadata": {},
     "output_type": "execute_result"
    }
   ],
   "source": [
    "data['make'].value_counts()"
   ]
  },
  {
   "cell_type": "code",
   "execution_count": null,
   "id": "254b357b-8ae0-4870-97f6-ac9cb6150a0d",
   "metadata": {},
   "outputs": [],
   "source": []
  },
  {
   "cell_type": "markdown",
   "id": "79490c94-9621-406c-8776-b5770a0fb76a",
   "metadata": {},
   "source": [
    "## model column"
   ]
  },
  {
   "cell_type": "code",
   "execution_count": 17,
   "id": "7ec9b6e1-84fb-4e10-9d60-4e262f9e6c37",
   "metadata": {},
   "outputs": [
    {
     "data": {
      "text/plain": [
       "model\n",
       "Sorento     440\n",
       "Santa Fe    420\n",
       "Astra       315\n",
       "Elantra     293\n",
       "2107        264\n",
       "           ... \n",
       "R500          1\n",
       "CLS 300       1\n",
       "141           1\n",
       "NHR 55 E      1\n",
       "GLE 250       1\n",
       "Name: count, Length: 997, dtype: int64"
      ]
     },
     "execution_count": 17,
     "metadata": {},
     "output_type": "execute_result"
    }
   ],
   "source": [
    "data['model'].value_counts()"
   ]
  },
  {
   "cell_type": "code",
   "execution_count": null,
   "id": "2752ae0b-3b1f-4ccf-88bb-532d8754e820",
   "metadata": {},
   "outputs": [],
   "source": []
  },
  {
   "cell_type": "markdown",
   "id": "2ce59658-dc1d-4af2-b80d-eb18d29045cb",
   "metadata": {},
   "source": [
    "## year column"
   ]
  },
  {
   "cell_type": "code",
   "execution_count": 18,
   "id": "41c95b16-d56c-497e-9291-8732aa369616",
   "metadata": {},
   "outputs": [
    {
     "data": {
      "text/plain": [
       "array([2022, 2009, 2017, 2013, 2012, 1993, 2023, 2003, 2004, 2015, 2011,\n",
       "       1994, 2014, 2000, 2002, 2007, 2010, 1995, 2019, 2006, 2008, 2016,\n",
       "       2021, 1997, 2018, 2020, 2005, 1999, 1998, 1996, 2001, 1988, 1987,\n",
       "       1984, 1989, 1991, 1990, 1992, 1980, 1985, 1976, 1986, 1983, 1982,\n",
       "       1973, 1979, 1971, 1975, 1981, 1977, 1968, 1978, 1972, 1960, 1954,\n",
       "       1974], dtype=int64)"
      ]
     },
     "execution_count": 18,
     "metadata": {},
     "output_type": "execute_result"
    }
   ],
   "source": [
    "data['year'].unique()"
   ]
  },
  {
   "cell_type": "code",
   "execution_count": 19,
   "id": "edf355c7-8a83-47c2-b73c-c89b55b94bcc",
   "metadata": {},
   "outputs": [
    {
     "data": {
      "text/plain": [
       "year\n",
       "2014    915\n",
       "2013    763\n",
       "2015    729\n",
       "2023    709\n",
       "2012    685\n",
       "Name: count, dtype: int64"
      ]
     },
     "execution_count": 19,
     "metadata": {},
     "output_type": "execute_result"
    }
   ],
   "source": [
    "data['year'].value_counts().head()"
   ]
  },
  {
   "cell_type": "code",
   "execution_count": null,
   "id": "50c11cf3-9435-4e16-b326-7712bf747faa",
   "metadata": {},
   "outputs": [],
   "source": []
  },
  {
   "cell_type": "markdown",
   "id": "729ca782-6714-461c-b07d-d36409d0dfd4",
   "metadata": {},
   "source": [
    "## ban_type column"
   ]
  },
  {
   "cell_type": "code",
   "execution_count": 20,
   "id": "2dfdaca6-ed34-499b-b702-ebe5c83ff387",
   "metadata": {},
   "outputs": [
    {
     "data": {
      "text/plain": [
       "array(['Offroader / SUV', 'Sedan', 'Hetçbek', 'Furqon', 'Universal',\n",
       "       'Liftbek', 'Kupe', 'Moped', 'Minivan', 'Yük maşını', 'Pikap',\n",
       "       'Motosiklet', 'Dartqı', 'Mikroavtobus', 'Avtobus', 'Van',\n",
       "       'Kabriolet', 'Kvadrosikl', 'Rodster'], dtype=object)"
      ]
     },
     "execution_count": 20,
     "metadata": {},
     "output_type": "execute_result"
    }
   ],
   "source": [
    "data['ban_type'].unique()"
   ]
  },
  {
   "cell_type": "code",
   "execution_count": 21,
   "id": "87427a97-385a-4c53-923f-e19cfa145768",
   "metadata": {},
   "outputs": [
    {
     "data": {
      "text/plain": [
       "ban_type\n",
       "Sedan              4972\n",
       "Offroader / SUV    3733\n",
       "Hetçbek             875\n",
       "Universal           452\n",
       "Liftbek             297\n",
       "Yük maşını          215\n",
       "Furqon              212\n",
       "Minivan             203\n",
       "Kupe                 67\n",
       "Motosiklet           64\n",
       "Pikap                56\n",
       "Dartqı               54\n",
       "Mikroavtobus         25\n",
       "Moped                15\n",
       "Avtobus               7\n",
       "Kabriolet             5\n",
       "Van                   4\n",
       "Rodster               2\n",
       "Kvadrosikl            1\n",
       "Name: count, dtype: int64"
      ]
     },
     "execution_count": 21,
     "metadata": {},
     "output_type": "execute_result"
    }
   ],
   "source": [
    "data['ban_type'].value_counts()"
   ]
  },
  {
   "cell_type": "code",
   "execution_count": 22,
   "id": "f39cf078-9c43-4d29-a938-6ffeacf64a91",
   "metadata": {
    "tags": []
   },
   "outputs": [],
   "source": [
    "def map_ban_type(value):\n",
    "    mapping = {\n",
    "        'Offroader / SUV': 'SUV',\n",
    "        'Sedan': 'Sedan',\n",
    "        'Hetçbek': 'Hatchback',\n",
    "        'Universal': 'Station Wagon',\n",
    "        'Liftbek': 'Liftback',\n",
    "        'Yük maşını': 'Truck',\n",
    "        'Furqon': 'Van',\n",
    "        'Minivan': 'Minivan',\n",
    "        'Kupe': 'Coupe',\n",
    "        'Motosiklet': 'Motorcycle',\n",
    "        'Pikap': 'Pickup',\n",
    "        'Dartqı': 'Convertible',\n",
    "        'Mikroavtobus': 'Microbus',\n",
    "        'Moped': 'Moped',\n",
    "        'Avtobus': 'Bus',\n",
    "        'Kabriolet': 'Convertible',\n",
    "        'Van': 'Van',\n",
    "        'Rodster': 'Roadster',\n",
    "        'Kvadrosikl': 'Quad Bike'\n",
    "    }\n",
    "    return mapping.get(value, value)\n",
    "\n",
    "data['ban_type'] = data['ban_type'].apply(map_ban_type)"
   ]
  },
  {
   "cell_type": "code",
   "execution_count": null,
   "id": "f66e3f91-2ad4-4d47-be3c-7b0d1502f28f",
   "metadata": {},
   "outputs": [],
   "source": []
  },
  {
   "cell_type": "markdown",
   "id": "f7a6745f-9960-4676-90ff-1d0695958d10",
   "metadata": {},
   "source": [
    "## colour column"
   ]
  },
  {
   "cell_type": "code",
   "execution_count": 23,
   "id": "6e6f5dbd-a59c-4b1f-8264-a8ab7a20e5e2",
   "metadata": {},
   "outputs": [
    {
     "data": {
      "text/plain": [
       "array(['Boz', 'Qara', 'Yaş Asfalt', 'Bej', 'Ağ', 'Gümüşü', 'Qızılı',\n",
       "       'Qırmızı', 'Qəhvəyi', 'Göy', 'Mavi', 'Tünd qırmızı', 'Yaşıl',\n",
       "       'Çəhrayı', 'Narıncı', 'Bənövşəyi', 'Sarı'], dtype=object)"
      ]
     },
     "execution_count": 23,
     "metadata": {},
     "output_type": "execute_result"
    }
   ],
   "source": [
    "data['colour'].unique()"
   ]
  },
  {
   "cell_type": "code",
   "execution_count": 24,
   "id": "42cb0a67-2898-4b96-9e6d-fea4c38c35ef",
   "metadata": {},
   "outputs": [
    {
     "data": {
      "text/plain": [
       "colour\n",
       "Ağ              3338\n",
       "Qara            2995\n",
       "Gümüşü          1143\n",
       "Göy              927\n",
       "Yaş Asfalt       884\n",
       "Boz              696\n",
       "Tünd qırmızı     246\n",
       "Qırmızı          227\n",
       "Yaşıl            209\n",
       "Mavi             170\n",
       "Bej              118\n",
       "Qızılı           113\n",
       "Qəhvəyi           88\n",
       "Narıncı           46\n",
       "Sarı              30\n",
       "Bənövşəyi         22\n",
       "Çəhrayı            7\n",
       "Name: count, dtype: int64"
      ]
     },
     "execution_count": 24,
     "metadata": {},
     "output_type": "execute_result"
    }
   ],
   "source": [
    "data['colour'].value_counts()"
   ]
  },
  {
   "cell_type": "code",
   "execution_count": 25,
   "id": "c1ca0b19-2af6-4eb7-84b4-807b1b679f6a",
   "metadata": {
    "tags": []
   },
   "outputs": [],
   "source": [
    "def map_colour(value):\n",
    "    mapping = {\n",
    "        'Ağ': 'Silver',\n",
    "        'Qara': 'Black',\n",
    "        'Gümüşü': 'Silver',\n",
    "        'Göy': 'Blue',\n",
    "        'Yaş Asfalt': 'Gray',\n",
    "        'Boz': 'Brown',\n",
    "        'Tünd qırmızı': 'Dark_Red',\n",
    "        'Qırmızı': 'Red',\n",
    "        'Yaşıl': 'Green',\n",
    "        'Mavi': 'Blue',\n",
    "        'Bej': 'Beige',\n",
    "        'Qızılı': 'Gold',\n",
    "        'Qəhvəyi': 'Brown',\n",
    "        'Narıncı': 'Orange',\n",
    "        'Sarı': 'Yellow',\n",
    "        'Bənövşəyi': 'Purple',\n",
    "        'Çəhrayı': 'Pink'\n",
    "    }\n",
    "    return mapping.get(value, value)\n",
    "data['colour'] = data['colour'].apply(map_colour)"
   ]
  },
  {
   "cell_type": "code",
   "execution_count": null,
   "id": "aea0d762-4139-42c9-9d54-46e83c78f60b",
   "metadata": {},
   "outputs": [],
   "source": []
  },
  {
   "cell_type": "markdown",
   "id": "f552ed91-af89-40de-95a3-efcfa128bc11",
   "metadata": {},
   "source": [
    "## engine column"
   ]
  },
  {
   "cell_type": "code",
   "execution_count": 26,
   "id": "5c7a13c5-caff-455f-b2f6-f6ddab4504fd",
   "metadata": {},
   "outputs": [
    {
     "data": {
      "text/plain": [
       "0         2.0 L/272 a.g./Benzin\n",
       "1         4.8 L/405 a.g./Benzin\n",
       "2          2.0 L/240 a.g./Dizel\n",
       "3         1.4 L/140 a.g./Benzin\n",
       "4         1.5 L/109 a.g./Benzin\n",
       "                  ...          \n",
       "11254     2.0 L/245 a.g./Benzin\n",
       "11255     3.0 L/400 a.g./Benzin\n",
       "11256     1.8 L/122 a.g./Benzin\n",
       "11257     3.3 L/370 a.g./Benzin\n",
       "11258    0.0 L/204 a.g./Elektro\n",
       "Name: engine, Length: 11259, dtype: object"
      ]
     },
     "execution_count": 26,
     "metadata": {},
     "output_type": "execute_result"
    }
   ],
   "source": [
    "data['engine']"
   ]
  },
  {
   "cell_type": "code",
   "execution_count": 27,
   "id": "a358eeaa-1473-495f-8392-4a089c1e124d",
   "metadata": {},
   "outputs": [
    {
     "data": {
      "text/plain": [
       "array(['2.0 L/272 a.g./Benzin', '4.8 L/405 a.g./Benzin',\n",
       "       '2.0 L/240 a.g./Dizel', ..., '3.5 L/456 a.g./Benzin',\n",
       "       '1.6 L/177 a.g./Hibrid', '3.3 L/370 a.g./Benzin'], dtype=object)"
      ]
     },
     "execution_count": 27,
     "metadata": {},
     "output_type": "execute_result"
    }
   ],
   "source": [
    "data['engine'].unique()"
   ]
  },
  {
   "cell_type": "code",
   "execution_count": 28,
   "id": "20940380-716b-41d7-9dfb-b7b966614a6e",
   "metadata": {},
   "outputs": [
    {
     "data": {
      "text/plain": [
       "engine\n",
       "2.0 L/184 a.g./Dizel     636\n",
       "1.6 L/75 a.g./Benzin     366\n",
       "2.0 L/245 a.g./Benzin    334\n",
       "2.0 L/150 a.g./Benzin    215\n",
       "3.0 L/340 a.g./Benzin    180\n",
       "                        ... \n",
       "3.5 L/197 a.g./Benzin      1\n",
       "3.4 L/389 a.g./Benzin      1\n",
       "2.0 L/196 a.g./Hibrid      1\n",
       "4.5 L/315 a.g./Benzin      1\n",
       "3.3 L/370 a.g./Benzin      1\n",
       "Name: count, Length: 1473, dtype: int64"
      ]
     },
     "execution_count": 28,
     "metadata": {},
     "output_type": "execute_result"
    }
   ],
   "source": [
    "data['engine'].value_counts()"
   ]
  },
  {
   "cell_type": "code",
   "execution_count": 29,
   "id": "70cf1b28-804b-43e2-b3c4-ad3dc2492163",
   "metadata": {},
   "outputs": [],
   "source": [
    "def extract_engine_info(data):\n",
    "    data['engine_power'] = data['engine'].str.extract(r'(\\d+\\.\\d+)').astype(float)\n",
    "    return data\n",
    "\n",
    "data = extract_engine_info(data)"
   ]
  },
  {
   "cell_type": "code",
   "execution_count": null,
   "id": "49d26933-ddeb-4699-b496-0784f2adaff2",
   "metadata": {},
   "outputs": [],
   "source": []
  },
  {
   "cell_type": "markdown",
   "id": "e5a74906-382c-4f2a-88b5-21364e3ada04",
   "metadata": {},
   "source": [
    "## ride column"
   ]
  },
  {
   "cell_type": "code",
   "execution_count": 30,
   "id": "50ab97ff-f017-4779-a9b1-0e5b225ae539",
   "metadata": {},
   "outputs": [],
   "source": [
    "def clean_ride_column(df, column_name,new_column):\n",
    "    df[new_column] = df[column_name].str.replace('[^\\d]', '', regex=True)\n",
    "    df[new_column] = pd.to_numeric(df[new_column], errors='coerce')\n",
    "    return df\n",
    "data = clean_ride_column(data, 'ride','ride_km')"
   ]
  },
  {
   "cell_type": "code",
   "execution_count": 31,
   "id": "0f31f0b1-638c-413d-acca-282451ddebea",
   "metadata": {},
   "outputs": [
    {
     "data": {
      "text/plain": [
       "0             0\n",
       "1        180000\n",
       "2         83300\n",
       "3        172985\n",
       "4         67800\n",
       "          ...  \n",
       "11254    150000\n",
       "11255         0\n",
       "11256     36000\n",
       "11257     97000\n",
       "11258         0\n",
       "Name: ride_km, Length: 11259, dtype: int64"
      ]
     },
     "execution_count": 31,
     "metadata": {},
     "output_type": "execute_result"
    }
   ],
   "source": [
    "data['ride_km']"
   ]
  },
  {
   "cell_type": "code",
   "execution_count": null,
   "id": "70a3314d-9b7f-4bec-bc91-54e2a153dc66",
   "metadata": {},
   "outputs": [],
   "source": []
  },
  {
   "cell_type": "markdown",
   "id": "22e0653b-54e6-4856-bf2e-e7c4bf17377b",
   "metadata": {},
   "source": [
    "## transmission column"
   ]
  },
  {
   "cell_type": "code",
   "execution_count": 32,
   "id": "b070a18a-6b80-4122-867f-0a6a0beb1f8e",
   "metadata": {},
   "outputs": [
    {
     "data": {
      "text/plain": [
       "array(['Avtomat', 'Mexaniki', 'Variator', 'Robotlaşdırılmış'],\n",
       "      dtype=object)"
      ]
     },
     "execution_count": 32,
     "metadata": {},
     "output_type": "execute_result"
    }
   ],
   "source": [
    "data['transmission'].unique()"
   ]
  },
  {
   "cell_type": "code",
   "execution_count": 33,
   "id": "52d1079e-92a7-4e66-988b-f56edc773fd7",
   "metadata": {},
   "outputs": [
    {
     "data": {
      "text/plain": [
       "transmission\n",
       "Avtomat             8536\n",
       "Mexaniki            2593\n",
       "Variator              75\n",
       "Robotlaşdırılmış      55\n",
       "Name: count, dtype: int64"
      ]
     },
     "execution_count": 33,
     "metadata": {},
     "output_type": "execute_result"
    }
   ],
   "source": [
    "data['transmission'].value_counts()"
   ]
  },
  {
   "cell_type": "code",
   "execution_count": 34,
   "id": "b41f4f1e-32f5-4f5f-86bb-7221f6e56219",
   "metadata": {
    "tags": []
   },
   "outputs": [],
   "source": [
    "def map_transmission(value):\n",
    "    mapping = {\n",
    "        'Avtomat': 'Automatic',\n",
    "        'Mexaniki': 'Manual',\n",
    "        'Variator': 'CVT',\n",
    "        'Robotlaşdırılmış': 'Automated_Manual'\n",
    "    }\n",
    "    return mapping.get(value, value)\n",
    "\n",
    "data['transmission'] = data['transmission'].apply(map_transmission)"
   ]
  },
  {
   "cell_type": "code",
   "execution_count": null,
   "id": "6d1182a3-e147-448a-bebb-a6e857db5bc4",
   "metadata": {},
   "outputs": [],
   "source": []
  },
  {
   "cell_type": "markdown",
   "id": "1f48d781-1606-42c3-a657-19e69e62bcf6",
   "metadata": {},
   "source": [
    "## gear column"
   ]
  },
  {
   "cell_type": "code",
   "execution_count": 35,
   "id": "8d122022-9963-4815-9e7f-8c809c366027",
   "metadata": {},
   "outputs": [
    {
     "data": {
      "text/plain": [
       "array(['Tam', 'Ön', 'Arxa'], dtype=object)"
      ]
     },
     "execution_count": 35,
     "metadata": {},
     "output_type": "execute_result"
    }
   ],
   "source": [
    "data['gear'].unique()"
   ]
  },
  {
   "cell_type": "code",
   "execution_count": 36,
   "id": "d28af1de-80fa-4a01-9180-8159453c6dc4",
   "metadata": {},
   "outputs": [
    {
     "data": {
      "text/plain": [
       "gear\n",
       "Ön      5367\n",
       "Arxa    3066\n",
       "Tam     2826\n",
       "Name: count, dtype: int64"
      ]
     },
     "execution_count": 36,
     "metadata": {},
     "output_type": "execute_result"
    }
   ],
   "source": [
    "data['gear'].value_counts()"
   ]
  },
  {
   "cell_type": "code",
   "execution_count": 37,
   "id": "823ca93d-280b-4d00-858f-5cc64e33379e",
   "metadata": {
    "tags": []
   },
   "outputs": [],
   "source": [
    "def map_gear(value):\n",
    "    mapping = {\n",
    "        'Tam': 'Full',\n",
    "        'Ön': 'Front',\n",
    "        'Arxa': 'Rear'\n",
    "    }\n",
    "    return mapping.get(value, value)\n",
    "\n",
    "data['gear'] = data['gear'].apply(map_gear)"
   ]
  },
  {
   "cell_type": "code",
   "execution_count": null,
   "id": "434ba7a1-3c6a-4dbc-a160-1ed3c40a85a5",
   "metadata": {
    "tags": []
   },
   "outputs": [],
   "source": []
  },
  {
   "cell_type": "markdown",
   "id": "2c58f5fc-d69d-49ce-9eba-5b994895f5a1",
   "metadata": {},
   "source": [
    "## is_new column"
   ]
  },
  {
   "cell_type": "code",
   "execution_count": 38,
   "id": "b2c0f23e-8ac9-4da1-95c0-9958c95d9f1e",
   "metadata": {},
   "outputs": [
    {
     "data": {
      "text/plain": [
       "array(['Bəli', 'Xeyr'], dtype=object)"
      ]
     },
     "execution_count": 38,
     "metadata": {},
     "output_type": "execute_result"
    }
   ],
   "source": [
    "data['is_new'].unique()"
   ]
  },
  {
   "cell_type": "code",
   "execution_count": 39,
   "id": "80c5ee7b-0799-4d78-9f04-4ccfd0f78dbc",
   "metadata": {
    "tags": []
   },
   "outputs": [
    {
     "data": {
      "text/plain": [
       "is_new\n",
       "Xeyr    10279\n",
       "Bəli      980\n",
       "Name: count, dtype: int64"
      ]
     },
     "execution_count": 39,
     "metadata": {},
     "output_type": "execute_result"
    }
   ],
   "source": [
    "data['is_new'].value_counts()"
   ]
  },
  {
   "cell_type": "code",
   "execution_count": 40,
   "id": "17c81e1d-0de9-4043-b603-19a7377d55f5",
   "metadata": {
    "tags": []
   },
   "outputs": [],
   "source": [
    "def map_is_new(value):\n",
    "    mapping = {\n",
    "        'Bəli': 'Yes',\n",
    "        'Xeyr': 'No'\n",
    "    }\n",
    "    return mapping.get(value, value)\n",
    "\n",
    "data['is_new'] = data['is_new'].apply(map_is_new)"
   ]
  },
  {
   "cell_type": "code",
   "execution_count": null,
   "id": "94b12a80-1434-4ee1-bb14-548662f542d7",
   "metadata": {},
   "outputs": [],
   "source": []
  },
  {
   "cell_type": "markdown",
   "id": "c93e0bd9-d175-41ef-819c-b28736cefc81",
   "metadata": {
    "tags": []
   },
   "source": [
    "## price column"
   ]
  },
  {
   "cell_type": "code",
   "execution_count": 41,
   "id": "46956e3f-a6e3-4c43-af2a-b0cbe6cdc127",
   "metadata": {},
   "outputs": [
    {
     "data": {
      "text/plain": [
       "0    79 500 USD\n",
       "1    34 700 AZN\n",
       "2    54 500 USD\n",
       "3    14 900 AZN\n",
       "4    15 500 AZN\n",
       "Name: price, dtype: object"
      ]
     },
     "execution_count": 41,
     "metadata": {},
     "output_type": "execute_result"
    }
   ],
   "source": [
    "data['price'].head()"
   ]
  },
  {
   "cell_type": "code",
   "execution_count": 42,
   "id": "ee93638d-d948-464b-9a5f-86e30b953107",
   "metadata": {
    "tags": []
   },
   "outputs": [],
   "source": [
    "def separate_price_and_currency(price_str):\n",
    "    price_str = price_str.replace(',', '')\n",
    "    currency_codes = ['USD', 'EUR', 'GBP', 'AZN', 'JPY' , 'RUB'] \n",
    "    for code in currency_codes:\n",
    "        if code in price_str:\n",
    "            currency = code\n",
    "            price = price_str.replace(code, '').strip()\n",
    "            return price, currency\n",
    "    return price_str, 'AZN'\n",
    "data[['car_price', 'currency']] = data['price'].apply(separate_price_and_currency).apply(pd.Series)\n",
    "data['car_price'] = pd.to_numeric(data['car_price'].str.replace('[^\\d.]', '', regex=True), errors='coerce')\n",
    "data['car_price'] = data.apply(lambda row: row['car_price'] * 1.7 if row['currency'] == 'USD' else (row['car_price'] * 1.8 if row['currency'] == 'EUR' else row['car_price']), axis=1)"
   ]
  },
  {
   "cell_type": "code",
   "execution_count": 43,
   "id": "16812ea4-c9a4-4b49-9306-322131611bd6",
   "metadata": {},
   "outputs": [
    {
     "data": {
      "text/html": [
       "<div>\n",
       "<style scoped>\n",
       "    .dataframe tbody tr th:only-of-type {\n",
       "        vertical-align: middle;\n",
       "    }\n",
       "\n",
       "    .dataframe tbody tr th {\n",
       "        vertical-align: top;\n",
       "    }\n",
       "\n",
       "    .dataframe thead th {\n",
       "        text-align: right;\n",
       "    }\n",
       "</style>\n",
       "<table border=\"1\" class=\"dataframe\">\n",
       "  <thead>\n",
       "    <tr style=\"text-align: right;\">\n",
       "      <th></th>\n",
       "      <th>link</th>\n",
       "      <th>title</th>\n",
       "      <th>update</th>\n",
       "      <th>views</th>\n",
       "      <th>city</th>\n",
       "      <th>make</th>\n",
       "      <th>model</th>\n",
       "      <th>year</th>\n",
       "      <th>ban_type</th>\n",
       "      <th>colour</th>\n",
       "      <th>...</th>\n",
       "      <th>transmission</th>\n",
       "      <th>gear</th>\n",
       "      <th>is_new</th>\n",
       "      <th>price</th>\n",
       "      <th>date</th>\n",
       "      <th>views_cleaned</th>\n",
       "      <th>engine_power</th>\n",
       "      <th>ride_km</th>\n",
       "      <th>car_price</th>\n",
       "      <th>currency</th>\n",
       "    </tr>\n",
       "  </thead>\n",
       "  <tbody>\n",
       "    <tr>\n",
       "      <th>0</th>\n",
       "      <td>https://turbo.az/autos/6677912-jeep-wrangler</td>\n",
       "      <td>Jeep Wrangler,</td>\n",
       "      <td>Yeniləndi: 04.09.2023</td>\n",
       "      <td>Baxışların sayı: 45926</td>\n",
       "      <td>Bakı</td>\n",
       "      <td>Jeep</td>\n",
       "      <td>Wrangler</td>\n",
       "      <td>2022</td>\n",
       "      <td>SUV</td>\n",
       "      <td>Brown</td>\n",
       "      <td>...</td>\n",
       "      <td>Automatic</td>\n",
       "      <td>Full</td>\n",
       "      <td>Yes</td>\n",
       "      <td>79 500 USD</td>\n",
       "      <td>2023-09-04</td>\n",
       "      <td>45926</td>\n",
       "      <td>2.0</td>\n",
       "      <td>0</td>\n",
       "      <td>135150.0</td>\n",
       "      <td>USD</td>\n",
       "    </tr>\n",
       "    <tr>\n",
       "      <th>1</th>\n",
       "      <td>https://turbo.az/autos/7751449-porsche-cayenne...</td>\n",
       "      <td>Porsche Cayenne GTS,</td>\n",
       "      <td>Yeniləndi: 27.09.2023</td>\n",
       "      <td>Baxışların sayı: 1393</td>\n",
       "      <td>Gəncə</td>\n",
       "      <td>Porsche</td>\n",
       "      <td>Cayenne GTS</td>\n",
       "      <td>2009</td>\n",
       "      <td>SUV</td>\n",
       "      <td>Black</td>\n",
       "      <td>...</td>\n",
       "      <td>Automatic</td>\n",
       "      <td>Full</td>\n",
       "      <td>No</td>\n",
       "      <td>34 700 AZN</td>\n",
       "      <td>2023-09-27</td>\n",
       "      <td>1393</td>\n",
       "      <td>4.8</td>\n",
       "      <td>180000</td>\n",
       "      <td>34700.0</td>\n",
       "      <td>AZN</td>\n",
       "    </tr>\n",
       "    <tr>\n",
       "      <th>2</th>\n",
       "      <td>https://turbo.az/autos/7036596-land-rover-disc...</td>\n",
       "      <td>Land Rover Discovery,</td>\n",
       "      <td>Yeniləndi: 27.09.2023</td>\n",
       "      <td>Baxışların sayı: 5372</td>\n",
       "      <td>Bakı</td>\n",
       "      <td>Land Rover</td>\n",
       "      <td>Discovery</td>\n",
       "      <td>2017</td>\n",
       "      <td>SUV</td>\n",
       "      <td>Gray</td>\n",
       "      <td>...</td>\n",
       "      <td>Automatic</td>\n",
       "      <td>Full</td>\n",
       "      <td>No</td>\n",
       "      <td>54 500 USD</td>\n",
       "      <td>2023-09-27</td>\n",
       "      <td>5372</td>\n",
       "      <td>2.0</td>\n",
       "      <td>83300</td>\n",
       "      <td>92650.0</td>\n",
       "      <td>USD</td>\n",
       "    </tr>\n",
       "    <tr>\n",
       "      <th>3</th>\n",
       "      <td>https://turbo.az/autos/7388272-chevrolet-cruze</td>\n",
       "      <td>Chevrolet Cruze,</td>\n",
       "      <td>Yeniləndi: 27.09.2023</td>\n",
       "      <td>Baxışların sayı: 3562</td>\n",
       "      <td>Sumqayıt</td>\n",
       "      <td>Chevrolet</td>\n",
       "      <td>Cruze</td>\n",
       "      <td>2013</td>\n",
       "      <td>Sedan</td>\n",
       "      <td>Beige</td>\n",
       "      <td>...</td>\n",
       "      <td>Automatic</td>\n",
       "      <td>Front</td>\n",
       "      <td>No</td>\n",
       "      <td>14 900 AZN</td>\n",
       "      <td>2023-09-27</td>\n",
       "      <td>3562</td>\n",
       "      <td>1.4</td>\n",
       "      <td>172985</td>\n",
       "      <td>14900.0</td>\n",
       "      <td>AZN</td>\n",
       "    </tr>\n",
       "    <tr>\n",
       "      <th>4</th>\n",
       "      <td>https://turbo.az/autos/7771961-nissan-tiida</td>\n",
       "      <td>Nissan Tiida,</td>\n",
       "      <td>Yeniləndi: 27.09.2023</td>\n",
       "      <td>Baxışların sayı: 18</td>\n",
       "      <td>Bakı</td>\n",
       "      <td>Nissan</td>\n",
       "      <td>Tiida</td>\n",
       "      <td>2012</td>\n",
       "      <td>Sedan</td>\n",
       "      <td>Silver</td>\n",
       "      <td>...</td>\n",
       "      <td>Automatic</td>\n",
       "      <td>Front</td>\n",
       "      <td>No</td>\n",
       "      <td>15 500 AZN</td>\n",
       "      <td>2023-09-27</td>\n",
       "      <td>18</td>\n",
       "      <td>1.5</td>\n",
       "      <td>67800</td>\n",
       "      <td>15500.0</td>\n",
       "      <td>AZN</td>\n",
       "    </tr>\n",
       "    <tr>\n",
       "      <th>...</th>\n",
       "      <td>...</td>\n",
       "      <td>...</td>\n",
       "      <td>...</td>\n",
       "      <td>...</td>\n",
       "      <td>...</td>\n",
       "      <td>...</td>\n",
       "      <td>...</td>\n",
       "      <td>...</td>\n",
       "      <td>...</td>\n",
       "      <td>...</td>\n",
       "      <td>...</td>\n",
       "      <td>...</td>\n",
       "      <td>...</td>\n",
       "      <td>...</td>\n",
       "      <td>...</td>\n",
       "      <td>...</td>\n",
       "      <td>...</td>\n",
       "      <td>...</td>\n",
       "      <td>...</td>\n",
       "      <td>...</td>\n",
       "      <td>...</td>\n",
       "    </tr>\n",
       "    <tr>\n",
       "      <th>11254</th>\n",
       "      <td>https://turbo.az/autos/7760624-bmw-328</td>\n",
       "      <td>BMW 328,</td>\n",
       "      <td>Yeniləndi: 26.09.2023</td>\n",
       "      <td>Baxışların sayı: 2561</td>\n",
       "      <td>Bakı</td>\n",
       "      <td>BMW</td>\n",
       "      <td>328</td>\n",
       "      <td>2012</td>\n",
       "      <td>Sedan</td>\n",
       "      <td>Silver</td>\n",
       "      <td>...</td>\n",
       "      <td>Automatic</td>\n",
       "      <td>Rear</td>\n",
       "      <td>No</td>\n",
       "      <td>25 500 AZN</td>\n",
       "      <td>2023-09-26</td>\n",
       "      <td>2561</td>\n",
       "      <td>2.0</td>\n",
       "      <td>150000</td>\n",
       "      <td>25500.0</td>\n",
       "      <td>AZN</td>\n",
       "    </tr>\n",
       "    <tr>\n",
       "      <th>11255</th>\n",
       "      <td>https://turbo.az/autos/7415906-land-rover-defe...</td>\n",
       "      <td>Land Rover Defender,</td>\n",
       "      <td>Yeniləndi: 23.09.2023</td>\n",
       "      <td>Baxışların sayı: 9901</td>\n",
       "      <td>Bakı</td>\n",
       "      <td>Land Rover</td>\n",
       "      <td>Defender</td>\n",
       "      <td>2023</td>\n",
       "      <td>SUV</td>\n",
       "      <td>Brown</td>\n",
       "      <td>...</td>\n",
       "      <td>Automatic</td>\n",
       "      <td>Full</td>\n",
       "      <td>Yes</td>\n",
       "      <td>137 555 USD</td>\n",
       "      <td>2023-09-23</td>\n",
       "      <td>9901</td>\n",
       "      <td>3.0</td>\n",
       "      <td>0</td>\n",
       "      <td>233843.5</td>\n",
       "      <td>USD</td>\n",
       "    </tr>\n",
       "    <tr>\n",
       "      <th>11256</th>\n",
       "      <td>https://turbo.az/autos/7764075-mercedes-c-180</td>\n",
       "      <td>Mercedes C 180,</td>\n",
       "      <td>Yeniləndi: 24.09.2023</td>\n",
       "      <td>Baxışların sayı: 2504</td>\n",
       "      <td>Sumqayıt</td>\n",
       "      <td>Mercedes</td>\n",
       "      <td>C 180</td>\n",
       "      <td>1998</td>\n",
       "      <td>Sedan</td>\n",
       "      <td>Silver</td>\n",
       "      <td>...</td>\n",
       "      <td>Automatic</td>\n",
       "      <td>Rear</td>\n",
       "      <td>No</td>\n",
       "      <td>10 200 AZN</td>\n",
       "      <td>2023-09-24</td>\n",
       "      <td>2504</td>\n",
       "      <td>1.8</td>\n",
       "      <td>36000</td>\n",
       "      <td>10200.0</td>\n",
       "      <td>AZN</td>\n",
       "    </tr>\n",
       "    <tr>\n",
       "      <th>11257</th>\n",
       "      <td>https://turbo.az/autos/7740306-kia-stinger</td>\n",
       "      <td>Kia Stinger,</td>\n",
       "      <td>Yeniləndi: 23.09.2023</td>\n",
       "      <td>Baxışların sayı: 10015</td>\n",
       "      <td>Lənkəran</td>\n",
       "      <td>Kia</td>\n",
       "      <td>Stinger</td>\n",
       "      <td>2019</td>\n",
       "      <td>Liftback</td>\n",
       "      <td>Orange</td>\n",
       "      <td>...</td>\n",
       "      <td>Automatic</td>\n",
       "      <td>Full</td>\n",
       "      <td>No</td>\n",
       "      <td>28 000 USD</td>\n",
       "      <td>2023-09-23</td>\n",
       "      <td>10015</td>\n",
       "      <td>3.3</td>\n",
       "      <td>97000</td>\n",
       "      <td>47600.0</td>\n",
       "      <td>USD</td>\n",
       "    </tr>\n",
       "    <tr>\n",
       "      <th>11258</th>\n",
       "      <td>https://turbo.az/autos/6986964-volkswagen-id-4</td>\n",
       "      <td>Volkswagen ID.4,</td>\n",
       "      <td>Yeniləndi: 27.09.2023</td>\n",
       "      <td>Baxışların sayı: 36253</td>\n",
       "      <td>Bakı</td>\n",
       "      <td>Volkswagen</td>\n",
       "      <td>ID.4</td>\n",
       "      <td>2022</td>\n",
       "      <td>SUV</td>\n",
       "      <td>Brown</td>\n",
       "      <td>...</td>\n",
       "      <td>Automatic</td>\n",
       "      <td>Rear</td>\n",
       "      <td>Yes</td>\n",
       "      <td>59 500 AZN</td>\n",
       "      <td>2023-09-27</td>\n",
       "      <td>36253</td>\n",
       "      <td>0.0</td>\n",
       "      <td>0</td>\n",
       "      <td>59500.0</td>\n",
       "      <td>AZN</td>\n",
       "    </tr>\n",
       "  </tbody>\n",
       "</table>\n",
       "<p>11259 rows × 22 columns</p>\n",
       "</div>"
      ],
      "text/plain": [
       "                                                    link  \\\n",
       "0           https://turbo.az/autos/6677912-jeep-wrangler   \n",
       "1      https://turbo.az/autos/7751449-porsche-cayenne...   \n",
       "2      https://turbo.az/autos/7036596-land-rover-disc...   \n",
       "3         https://turbo.az/autos/7388272-chevrolet-cruze   \n",
       "4            https://turbo.az/autos/7771961-nissan-tiida   \n",
       "...                                                  ...   \n",
       "11254             https://turbo.az/autos/7760624-bmw-328   \n",
       "11255  https://turbo.az/autos/7415906-land-rover-defe...   \n",
       "11256      https://turbo.az/autos/7764075-mercedes-c-180   \n",
       "11257         https://turbo.az/autos/7740306-kia-stinger   \n",
       "11258     https://turbo.az/autos/6986964-volkswagen-id-4   \n",
       "\n",
       "                        title                 update                   views  \\\n",
       "0             Jeep Wrangler,   Yeniləndi: 04.09.2023  Baxışların sayı: 45926   \n",
       "1       Porsche Cayenne GTS,   Yeniləndi: 27.09.2023   Baxışların sayı: 1393   \n",
       "2      Land Rover Discovery,   Yeniləndi: 27.09.2023   Baxışların sayı: 5372   \n",
       "3           Chevrolet Cruze,   Yeniləndi: 27.09.2023   Baxışların sayı: 3562   \n",
       "4              Nissan Tiida,   Yeniləndi: 27.09.2023     Baxışların sayı: 18   \n",
       "...                       ...                    ...                     ...   \n",
       "11254               BMW 328,   Yeniləndi: 26.09.2023   Baxışların sayı: 2561   \n",
       "11255   Land Rover Defender,   Yeniləndi: 23.09.2023   Baxışların sayı: 9901   \n",
       "11256        Mercedes C 180,   Yeniləndi: 24.09.2023   Baxışların sayı: 2504   \n",
       "11257           Kia Stinger,   Yeniləndi: 23.09.2023  Baxışların sayı: 10015   \n",
       "11258       Volkswagen ID.4,   Yeniləndi: 27.09.2023  Baxışların sayı: 36253   \n",
       "\n",
       "           city        make        model  year  ban_type  colour  ...  \\\n",
       "0          Bakı        Jeep     Wrangler  2022       SUV   Brown  ...   \n",
       "1         Gəncə     Porsche  Cayenne GTS  2009       SUV   Black  ...   \n",
       "2          Bakı  Land Rover    Discovery  2017       SUV    Gray  ...   \n",
       "3      Sumqayıt   Chevrolet        Cruze  2013     Sedan   Beige  ...   \n",
       "4          Bakı      Nissan        Tiida  2012     Sedan  Silver  ...   \n",
       "...         ...         ...          ...   ...       ...     ...  ...   \n",
       "11254      Bakı         BMW          328  2012     Sedan  Silver  ...   \n",
       "11255      Bakı  Land Rover     Defender  2023       SUV   Brown  ...   \n",
       "11256  Sumqayıt    Mercedes        C 180  1998     Sedan  Silver  ...   \n",
       "11257  Lənkəran         Kia      Stinger  2019  Liftback  Orange  ...   \n",
       "11258      Bakı  Volkswagen         ID.4  2022       SUV   Brown  ...   \n",
       "\n",
       "      transmission   gear is_new        price       date views_cleaned  \\\n",
       "0        Automatic   Full    Yes   79 500 USD 2023-09-04         45926   \n",
       "1        Automatic   Full     No   34 700 AZN 2023-09-27          1393   \n",
       "2        Automatic   Full     No   54 500 USD 2023-09-27          5372   \n",
       "3        Automatic  Front     No   14 900 AZN 2023-09-27          3562   \n",
       "4        Automatic  Front     No   15 500 AZN 2023-09-27            18   \n",
       "...            ...    ...    ...          ...        ...           ...   \n",
       "11254    Automatic   Rear     No   25 500 AZN 2023-09-26          2561   \n",
       "11255    Automatic   Full    Yes  137 555 USD 2023-09-23          9901   \n",
       "11256    Automatic   Rear     No   10 200 AZN 2023-09-24          2504   \n",
       "11257    Automatic   Full     No   28 000 USD 2023-09-23         10015   \n",
       "11258    Automatic   Rear    Yes   59 500 AZN 2023-09-27         36253   \n",
       "\n",
       "      engine_power  ride_km  car_price  currency  \n",
       "0              2.0        0   135150.0       USD  \n",
       "1              4.8   180000    34700.0       AZN  \n",
       "2              2.0    83300    92650.0       USD  \n",
       "3              1.4   172985    14900.0       AZN  \n",
       "4              1.5    67800    15500.0       AZN  \n",
       "...            ...      ...        ...       ...  \n",
       "11254          2.0   150000    25500.0       AZN  \n",
       "11255          3.0        0   233843.5       USD  \n",
       "11256          1.8    36000    10200.0       AZN  \n",
       "11257          3.3    97000    47600.0       USD  \n",
       "11258          0.0        0    59500.0       AZN  \n",
       "\n",
       "[11259 rows x 22 columns]"
      ]
     },
     "execution_count": 43,
     "metadata": {},
     "output_type": "execute_result"
    }
   ],
   "source": [
    "data"
   ]
  },
  {
   "cell_type": "code",
   "execution_count": 44,
   "id": "fd5c23b2-b6d6-4927-a53e-d5994660301d",
   "metadata": {
    "tags": []
   },
   "outputs": [
    {
     "data": {
      "text/plain": [
       "array(['USD', 'AZN', 'EUR'], dtype=object)"
      ]
     },
     "execution_count": 44,
     "metadata": {},
     "output_type": "execute_result"
    }
   ],
   "source": [
    "data['currency'].unique()"
   ]
  },
  {
   "cell_type": "code",
   "execution_count": 45,
   "id": "7627ee8f-fb23-4bdf-9806-ac8a7ea94ac6",
   "metadata": {
    "tags": []
   },
   "outputs": [
    {
     "name": "stdout",
     "output_type": "stream",
     "text": [
      "<class 'pandas.core.series.Series'>\n",
      "RangeIndex: 11259 entries, 0 to 11258\n",
      "Series name: car_price\n",
      "Non-Null Count  Dtype  \n",
      "--------------  -----  \n",
      "11259 non-null  float64\n",
      "dtypes: float64(1)\n",
      "memory usage: 88.1 KB\n"
     ]
    }
   ],
   "source": [
    "data['car_price'].info()"
   ]
  },
  {
   "cell_type": "code",
   "execution_count": null,
   "id": "0fba1137-2567-4800-afe2-bc5c6d87d387",
   "metadata": {},
   "outputs": [],
   "source": []
  },
  {
   "cell_type": "markdown",
   "id": "cffcceab-e8e4-40bb-ad3a-8f978603cc04",
   "metadata": {
    "tags": []
   },
   "source": [
    "## EDA"
   ]
  },
  {
   "cell_type": "code",
   "execution_count": 46,
   "id": "d6c54f79-e6b3-4779-9259-98f486e724e3",
   "metadata": {
    "tags": []
   },
   "outputs": [],
   "source": [
    "main_columns = [ 'views_cleaned','city','make','model','year','ban_type','colour','engine_power','ride_km','transmission','gear','is_new' , 'car_price']"
   ]
  },
  {
   "cell_type": "code",
   "execution_count": 47,
   "id": "7865f375-d0b9-49af-a6eb-b8a303435ef0",
   "metadata": {
    "tags": []
   },
   "outputs": [
    {
     "data": {
      "text/html": [
       "<div>\n",
       "<style scoped>\n",
       "    .dataframe tbody tr th:only-of-type {\n",
       "        vertical-align: middle;\n",
       "    }\n",
       "\n",
       "    .dataframe tbody tr th {\n",
       "        vertical-align: top;\n",
       "    }\n",
       "\n",
       "    .dataframe thead th {\n",
       "        text-align: right;\n",
       "    }\n",
       "</style>\n",
       "<table border=\"1\" class=\"dataframe\">\n",
       "  <thead>\n",
       "    <tr style=\"text-align: right;\">\n",
       "      <th></th>\n",
       "      <th>views_cleaned</th>\n",
       "      <th>city</th>\n",
       "      <th>make</th>\n",
       "      <th>model</th>\n",
       "      <th>year</th>\n",
       "      <th>ban_type</th>\n",
       "      <th>colour</th>\n",
       "      <th>engine_power</th>\n",
       "      <th>ride_km</th>\n",
       "      <th>transmission</th>\n",
       "      <th>gear</th>\n",
       "      <th>is_new</th>\n",
       "      <th>car_price</th>\n",
       "    </tr>\n",
       "  </thead>\n",
       "  <tbody>\n",
       "    <tr>\n",
       "      <th>0</th>\n",
       "      <td>45926</td>\n",
       "      <td>Bakı</td>\n",
       "      <td>Jeep</td>\n",
       "      <td>Wrangler</td>\n",
       "      <td>2022</td>\n",
       "      <td>SUV</td>\n",
       "      <td>Brown</td>\n",
       "      <td>2.0</td>\n",
       "      <td>0</td>\n",
       "      <td>Automatic</td>\n",
       "      <td>Full</td>\n",
       "      <td>Yes</td>\n",
       "      <td>135150.0</td>\n",
       "    </tr>\n",
       "    <tr>\n",
       "      <th>1</th>\n",
       "      <td>1393</td>\n",
       "      <td>Gəncə</td>\n",
       "      <td>Porsche</td>\n",
       "      <td>Cayenne GTS</td>\n",
       "      <td>2009</td>\n",
       "      <td>SUV</td>\n",
       "      <td>Black</td>\n",
       "      <td>4.8</td>\n",
       "      <td>180000</td>\n",
       "      <td>Automatic</td>\n",
       "      <td>Full</td>\n",
       "      <td>No</td>\n",
       "      <td>34700.0</td>\n",
       "    </tr>\n",
       "    <tr>\n",
       "      <th>2</th>\n",
       "      <td>5372</td>\n",
       "      <td>Bakı</td>\n",
       "      <td>Land Rover</td>\n",
       "      <td>Discovery</td>\n",
       "      <td>2017</td>\n",
       "      <td>SUV</td>\n",
       "      <td>Gray</td>\n",
       "      <td>2.0</td>\n",
       "      <td>83300</td>\n",
       "      <td>Automatic</td>\n",
       "      <td>Full</td>\n",
       "      <td>No</td>\n",
       "      <td>92650.0</td>\n",
       "    </tr>\n",
       "    <tr>\n",
       "      <th>3</th>\n",
       "      <td>3562</td>\n",
       "      <td>Sumqayıt</td>\n",
       "      <td>Chevrolet</td>\n",
       "      <td>Cruze</td>\n",
       "      <td>2013</td>\n",
       "      <td>Sedan</td>\n",
       "      <td>Beige</td>\n",
       "      <td>1.4</td>\n",
       "      <td>172985</td>\n",
       "      <td>Automatic</td>\n",
       "      <td>Front</td>\n",
       "      <td>No</td>\n",
       "      <td>14900.0</td>\n",
       "    </tr>\n",
       "    <tr>\n",
       "      <th>4</th>\n",
       "      <td>18</td>\n",
       "      <td>Bakı</td>\n",
       "      <td>Nissan</td>\n",
       "      <td>Tiida</td>\n",
       "      <td>2012</td>\n",
       "      <td>Sedan</td>\n",
       "      <td>Silver</td>\n",
       "      <td>1.5</td>\n",
       "      <td>67800</td>\n",
       "      <td>Automatic</td>\n",
       "      <td>Front</td>\n",
       "      <td>No</td>\n",
       "      <td>15500.0</td>\n",
       "    </tr>\n",
       "    <tr>\n",
       "      <th>...</th>\n",
       "      <td>...</td>\n",
       "      <td>...</td>\n",
       "      <td>...</td>\n",
       "      <td>...</td>\n",
       "      <td>...</td>\n",
       "      <td>...</td>\n",
       "      <td>...</td>\n",
       "      <td>...</td>\n",
       "      <td>...</td>\n",
       "      <td>...</td>\n",
       "      <td>...</td>\n",
       "      <td>...</td>\n",
       "      <td>...</td>\n",
       "    </tr>\n",
       "    <tr>\n",
       "      <th>11254</th>\n",
       "      <td>2561</td>\n",
       "      <td>Bakı</td>\n",
       "      <td>BMW</td>\n",
       "      <td>328</td>\n",
       "      <td>2012</td>\n",
       "      <td>Sedan</td>\n",
       "      <td>Silver</td>\n",
       "      <td>2.0</td>\n",
       "      <td>150000</td>\n",
       "      <td>Automatic</td>\n",
       "      <td>Rear</td>\n",
       "      <td>No</td>\n",
       "      <td>25500.0</td>\n",
       "    </tr>\n",
       "    <tr>\n",
       "      <th>11255</th>\n",
       "      <td>9901</td>\n",
       "      <td>Bakı</td>\n",
       "      <td>Land Rover</td>\n",
       "      <td>Defender</td>\n",
       "      <td>2023</td>\n",
       "      <td>SUV</td>\n",
       "      <td>Brown</td>\n",
       "      <td>3.0</td>\n",
       "      <td>0</td>\n",
       "      <td>Automatic</td>\n",
       "      <td>Full</td>\n",
       "      <td>Yes</td>\n",
       "      <td>233843.5</td>\n",
       "    </tr>\n",
       "    <tr>\n",
       "      <th>11256</th>\n",
       "      <td>2504</td>\n",
       "      <td>Sumqayıt</td>\n",
       "      <td>Mercedes</td>\n",
       "      <td>C 180</td>\n",
       "      <td>1998</td>\n",
       "      <td>Sedan</td>\n",
       "      <td>Silver</td>\n",
       "      <td>1.8</td>\n",
       "      <td>36000</td>\n",
       "      <td>Automatic</td>\n",
       "      <td>Rear</td>\n",
       "      <td>No</td>\n",
       "      <td>10200.0</td>\n",
       "    </tr>\n",
       "    <tr>\n",
       "      <th>11257</th>\n",
       "      <td>10015</td>\n",
       "      <td>Lənkəran</td>\n",
       "      <td>Kia</td>\n",
       "      <td>Stinger</td>\n",
       "      <td>2019</td>\n",
       "      <td>Liftback</td>\n",
       "      <td>Orange</td>\n",
       "      <td>3.3</td>\n",
       "      <td>97000</td>\n",
       "      <td>Automatic</td>\n",
       "      <td>Full</td>\n",
       "      <td>No</td>\n",
       "      <td>47600.0</td>\n",
       "    </tr>\n",
       "    <tr>\n",
       "      <th>11258</th>\n",
       "      <td>36253</td>\n",
       "      <td>Bakı</td>\n",
       "      <td>Volkswagen</td>\n",
       "      <td>ID.4</td>\n",
       "      <td>2022</td>\n",
       "      <td>SUV</td>\n",
       "      <td>Brown</td>\n",
       "      <td>0.0</td>\n",
       "      <td>0</td>\n",
       "      <td>Automatic</td>\n",
       "      <td>Rear</td>\n",
       "      <td>Yes</td>\n",
       "      <td>59500.0</td>\n",
       "    </tr>\n",
       "  </tbody>\n",
       "</table>\n",
       "<p>11259 rows × 13 columns</p>\n",
       "</div>"
      ],
      "text/plain": [
       "       views_cleaned      city        make        model  year  ban_type  \\\n",
       "0              45926      Bakı        Jeep     Wrangler  2022       SUV   \n",
       "1               1393     Gəncə     Porsche  Cayenne GTS  2009       SUV   \n",
       "2               5372      Bakı  Land Rover    Discovery  2017       SUV   \n",
       "3               3562  Sumqayıt   Chevrolet        Cruze  2013     Sedan   \n",
       "4                 18      Bakı      Nissan        Tiida  2012     Sedan   \n",
       "...              ...       ...         ...          ...   ...       ...   \n",
       "11254           2561      Bakı         BMW          328  2012     Sedan   \n",
       "11255           9901      Bakı  Land Rover     Defender  2023       SUV   \n",
       "11256           2504  Sumqayıt    Mercedes        C 180  1998     Sedan   \n",
       "11257          10015  Lənkəran         Kia      Stinger  2019  Liftback   \n",
       "11258          36253      Bakı  Volkswagen         ID.4  2022       SUV   \n",
       "\n",
       "       colour  engine_power  ride_km transmission   gear is_new  car_price  \n",
       "0       Brown           2.0        0    Automatic   Full    Yes   135150.0  \n",
       "1       Black           4.8   180000    Automatic   Full     No    34700.0  \n",
       "2        Gray           2.0    83300    Automatic   Full     No    92650.0  \n",
       "3       Beige           1.4   172985    Automatic  Front     No    14900.0  \n",
       "4      Silver           1.5    67800    Automatic  Front     No    15500.0  \n",
       "...       ...           ...      ...          ...    ...    ...        ...  \n",
       "11254  Silver           2.0   150000    Automatic   Rear     No    25500.0  \n",
       "11255   Brown           3.0        0    Automatic   Full    Yes   233843.5  \n",
       "11256  Silver           1.8    36000    Automatic   Rear     No    10200.0  \n",
       "11257  Orange           3.3    97000    Automatic   Full     No    47600.0  \n",
       "11258   Brown           0.0        0    Automatic   Rear    Yes    59500.0  \n",
       "\n",
       "[11259 rows x 13 columns]"
      ]
     },
     "execution_count": 47,
     "metadata": {},
     "output_type": "execute_result"
    }
   ],
   "source": [
    "data[main_columns]"
   ]
  },
  {
   "cell_type": "code",
   "execution_count": null,
   "id": "96fbcc8a-ceea-4e0d-999f-b39c3754dcf8",
   "metadata": {},
   "outputs": [],
   "source": []
  },
  {
   "cell_type": "code",
   "execution_count": 48,
   "id": "9e6df544-dcee-4406-9e35-60cfeddaddf8",
   "metadata": {
    "tags": []
   },
   "outputs": [],
   "source": [
    "data = pd.DataFrame(data[main_columns])"
   ]
  },
  {
   "cell_type": "code",
   "execution_count": 49,
   "id": "97f5e8c0-116b-4f37-88fa-19e348ae3ea7",
   "metadata": {
    "tags": []
   },
   "outputs": [
    {
     "data": {
      "image/png": "[encoded data removed]",
      "text/plain": [
       "<Figure size 1000x600 with 1 Axes>"
      ]
     },
     "metadata": {},
     "output_type": "display_data"
    }
   ],
   "source": [
    "plt.figure(figsize=(10, 6))\n",
    "sns.histplot(data['car_price'], kde=True)\n",
    "plt.title(\"Distribution of Car Prices\")\n",
    "plt.xlabel(\"Car Price\")\n",
    "plt.ylabel(\"Frequency\")\n",
    "plt.show()"
   ]
  },
  {
   "cell_type": "code",
   "execution_count": 50,
   "id": "e3660478-45a7-4010-abae-7c4a7b7c2a65",
   "metadata": {},
   "outputs": [
    {
     "data": {
      "image/png": "[encoded data removed]",
      "text/plain": [
       "<Figure size 1200x600 with 1 Axes>"
      ]
     },
     "metadata": {},
     "output_type": "display_data"
    }
   ],
   "source": [
    "top_10_makes = data['make'].value_counts().head(10).index\n",
    "\n",
    "plt.figure(figsize=(12, 6))\n",
    "sns.countplot(data=data, x='make', order=top_10_makes)\n",
    "plt.title(\"Top 10 Most Common Car Makes\")\n",
    "plt.xlabel(\"Car Make\")\n",
    "plt.ylabel(\"Count\")\n",
    "plt.xticks(rotation=90)\n",
    "plt.show()"
   ]
  },
  {
   "cell_type": "code",
   "execution_count": 51,
   "id": "9d5fa895-9dbd-4014-917d-d08cb7c58efc",
   "metadata": {
    "tags": []
   },
   "outputs": [
    {
     "data": {
      "image/png": "[encoded data removed]",
      "text/plain": [
       "<Figure size 1000x600 with 1 Axes>"
      ]
     },
     "metadata": {},
     "output_type": "display_data"
    }
   ],
   "source": [
    "plt.figure(figsize=(10, 6))\n",
    "sns.scatterplot(x='engine_power', y='car_price', data=data)\n",
    "plt.title(\"Engine Power vs. Car Price\")\n",
    "plt.xlabel(\"Engine Power\")\n",
    "plt.ylabel(\"Car Price\")\n",
    "plt.show()"
   ]
  },
  {
   "cell_type": "code",
   "execution_count": 52,
   "id": "043f8f0d-9254-4d52-be4e-36c542f76d99",
   "metadata": {
    "tags": []
   },
   "outputs": [
    {
     "data": {
      "image/png": "[encoded data removed]",
      "text/plain": [
       "<Figure size 1000x600 with 1 Axes>"
      ]
     },
     "metadata": {},
     "output_type": "display_data"
    }
   ],
   "source": [
    "plt.figure(figsize=(10, 6))\n",
    "sns.barplot(data=data, x=data['ban_type'].value_counts().index, y=data['ban_type'].value_counts())\n",
    "plt.title(\"Car Type Distribution\")\n",
    "plt.xlabel(\"Car Type\")\n",
    "plt.ylabel(\"Count\")\n",
    "plt.xticks(rotation=90)\n",
    "plt.show()"
   ]
  },
  {
   "cell_type": "code",
   "execution_count": 53,
   "id": "6c95c7f3-8cde-4087-a3c4-4600a40238e1",
   "metadata": {
    "tags": []
   },
   "outputs": [
    {
     "data": {
      "image/png": "[encoded data removed]",
      "text/plain": [
       "<Figure size 1200x600 with 1 Axes>"
      ]
     },
     "metadata": {},
     "output_type": "display_data"
    }
   ],
   "source": [
    "plt.figure(figsize=(12, 6))\n",
    "sns.boxplot(x='year', y='car_price', data=data)\n",
    "plt.title(\"Car Price Distribution by Manufacturing Year\")\n",
    "plt.xlabel(\"Year\")\n",
    "plt.ylabel(\"Car Price\")\n",
    "plt.xticks(rotation=90)\n",
    "plt.show()"
   ]
  },
  {
   "cell_type": "code",
   "execution_count": 54,
   "id": "0dca4698-f907-4ace-befc-23d2d3878e1b",
   "metadata": {
    "tags": []
   },
   "outputs": [
    {
     "data": {
      "image/png": "[encoded data removed]",
      "text/plain": [
       "<Figure size 1200x600 with 1 Axes>"
      ]
     },
     "metadata": {},
     "output_type": "display_data"
    }
   ],
   "source": [
    "color_counts = data['colour'].value_counts().reset_index()\n",
    "color_counts.columns = ['index', 'colour']\n",
    "plt.figure(figsize=(12, 6))\n",
    "sns.barplot(data=color_counts, x='index', y='colour')\n",
    "plt.title(\"Most Popular Car Colors\")\n",
    "plt.xlabel(\"Car Color\")\n",
    "plt.ylabel(\"Count\")\n",
    "plt.xticks(rotation=90)\n",
    "plt.show()"
   ]
  },
  {
   "cell_type": "code",
   "execution_count": 55,
   "id": "0c9e1862-2ecc-45fb-a810-7de73cd65f8d",
   "metadata": {
    "tags": []
   },
   "outputs": [
    {
     "data": {
      "image/png": "[encoded data removed]",
      "text/plain": [
       "<Figure size 1000x600 with 1 Axes>"
      ]
     },
     "metadata": {},
     "output_type": "display_data"
    }
   ],
   "source": [
    "plt.figure(figsize=(10, 6))\n",
    "sns.histplot(data['ride_km'], kde=True)\n",
    "plt.title(\"Distribution of Kilometers Driven\")\n",
    "plt.xlabel(\"Kilometers Driven\")\n",
    "plt.ylabel(\"Frequency\")\n",
    "plt.show()"
   ]
  },
  {
   "cell_type": "code",
   "execution_count": 56,
   "id": "5b32e4d1-e078-4934-a886-2330bf3ac9aa",
   "metadata": {
    "tags": []
   },
   "outputs": [
    {
     "data": {
      "image/png": "[encoded data removed]",
      "text/plain": [
       "<Figure size 800x800 with 1 Axes>"
      ]
     },
     "metadata": {},
     "output_type": "display_data"
    }
   ],
   "source": [
    "plt.figure(figsize=(8, 8))\n",
    "data['is_new'].value_counts().plot(kind='pie', autopct='%1.1f%%')\n",
    "plt.title(\"Proportion of New and Used Cars\")\n",
    "plt.show()"
   ]
  },
  {
   "cell_type": "code",
   "execution_count": 57,
   "id": "91ad28f6-06ba-452f-9b19-b7864ad140ef",
   "metadata": {
    "tags": []
   },
   "outputs": [
    {
     "data": {
      "image/png": "[encoded data removed]",
      "text/plain": [
       "<Figure size 1000x600 with 1 Axes>"
      ]
     },
     "metadata": {},
     "output_type": "display_data"
    }
   ],
   "source": [
    "plt.figure(figsize=(10, 6))\n",
    "transmission_counts = data['transmission'].value_counts().reset_index()\n",
    "transmission_counts.columns = ['Transmission Type', 'Count']\n",
    "sns.barplot(data=transmission_counts, x='Transmission Type', y='Count')\n",
    "plt.title(\"Distribution of Transmission Types\")\n",
    "plt.xlabel(\"Transmission Type\")\n",
    "plt.ylabel(\"Count\")\n",
    "plt.xticks(rotation=90) \n",
    "plt.show()"
   ]
  },
  {
   "cell_type": "code",
   "execution_count": 58,
   "id": "a1c2bb96-a59f-4a62-a76b-afb1024bc97e",
   "metadata": {
    "tags": []
   },
   "outputs": [
    {
     "data": {
      "image/png": "[encoded data removed]",
      "text/plain": [
       "<Figure size 1200x600 with 1 Axes>"
      ]
     },
     "metadata": {},
     "output_type": "display_data"
    }
   ],
   "source": [
    "mean_car_prices = data.groupby('city')['car_price'].mean().reset_index()\n",
    "top_10_cities = mean_car_prices.nlargest(10, 'car_price')\n",
    "data_top_10_cities = data[data['city'].isin(top_10_cities['city'])]\n",
    "plt.figure(figsize=(12, 6))\n",
    "sns.boxplot(x='city', y='car_price', data=data_top_10_cities)\n",
    "plt.title(\"Top 10 Cities with Highest Car Prices\")\n",
    "plt.xlabel(\"City\")\n",
    "plt.ylabel(\"Car Price\")\n",
    "plt.xticks(rotation=90)\n",
    "plt.show()"
   ]
  },
  {
   "cell_type": "code",
   "execution_count": null,
   "id": "07c54d43-04bb-4541-a255-501bd3076c26",
   "metadata": {},
   "outputs": [],
   "source": []
  },
  {
   "cell_type": "markdown",
   "id": "2f1e9cc1-735e-40d2-8d48-83a1dba6a5f3",
   "metadata": {},
   "source": [
    "## Modelling"
   ]
  },
  {
   "cell_type": "code",
   "execution_count": 59,
   "id": "4c31332b-f95c-4d43-8a9c-e2cf45e9e208",
   "metadata": {
    "tags": []
   },
   "outputs": [
    {
     "name": "stdout",
     "output_type": "stream",
     "text": [
      "Model perforamnce metrics\n",
      "-----------------------\n",
      "R-squared: 0.93\n",
      "Root Mean Squared Error: 13130.69\n",
      "Mean Absolute Error: 5343.52\n",
      "-----------------------\n",
      "-----------------------\n",
      "{'city': 'Bakı', 'make': 'Jeep', 'model': 'Wrangler', 'year': 2022, 'ban_type': 'SUV', 'colour': 'Brown', 'engine_power': 2.0, 'ride_km': 0, 'transmission': 'Automatic', 'gear': 'Full', 'is_new': 'Yes'}\n",
      "                       \n",
      "Predicted Car Price: 123111.34\n",
      "-----------------------\n"
     ]
    }
   ],
   "source": [
    "original_features = ['city', 'make', 'model', 'year', 'ban_type', 'colour', 'engine_power', 'ride_km', 'transmission',\n",
    "                     'gear', 'is_new']\n",
    "target = 'car_price'\n",
    "data_copy = pd.get_dummies(data[original_features + [target]])\n",
    "X = data_copy.drop(columns=[target])\n",
    "y = data_copy[target]\n",
    "X_train, X_test, y_train, y_test = train_test_split(X, y, test_size=0.2, random_state=47)\n",
    "model = XGBRegressor()\n",
    "model.fit(X_train, y_train)\n",
    "y_pred = model.predict(X_test)\n",
    "r2 = r2_score(y_test, y_pred)\n",
    "rmse = mean_squared_error(y_test, y_pred, squared=False)\n",
    "mae = mean_absolute_error(y_test, y_pred)\n",
    "print(\"Model perforamnce metrics\")\n",
    "print(\"-----------------------\")\n",
    "print(f\"R-squared: {r2:.2f}\")\n",
    "print(f\"Root Mean Squared Error: {rmse:.2f}\")\n",
    "print(f\"Mean Absolute Error: {mae:.2f}\")\n",
    "print(\"-----------------------\")\n",
    "joblib.dump(model, 'xgboost_model.pkl')\n",
    "loaded_model = joblib.load('xgboost_model.pkl')\n",
    "new_data_point = {\n",
    "    'city': 'Bakı',\n",
    "    'make': 'Jeep',\n",
    "    'model': 'Wrangler',\n",
    "    'year': 2022,\n",
    "    'ban_type': 'SUV',\n",
    "    'colour': 'Brown',\n",
    "    'engine_power': 2.0,\n",
    "    'ride_km': 0,\n",
    "    'transmission': 'Automatic',\n",
    "    'gear': 'Full',\n",
    "    'is_new': 'Yes'}\n",
    "new_data_df = pd.DataFrame([new_data_point])\n",
    "categorical_columns = ['city', 'make', 'model', 'ban_type', 'colour', 'transmission', 'gear', 'is_new']\n",
    "new_data_df = pd.get_dummies(new_data_df, columns=categorical_columns)\n",
    "missing_columns = set(data_copy) - set(new_data_df.columns)\n",
    "missing_columns_list = list(missing_columns)\n",
    "zeros_df = pd.DataFrame(0, index=new_data_df.index, columns=missing_columns_list)\n",
    "new_data_df = pd.concat([new_data_df, zeros_df], axis=1)\n",
    "new_data_df = new_data_df[data_copy.columns].drop(columns=['car_price'])\n",
    "predictions = loaded_model.predict(new_data_df)\n",
    "print(\"-----------------------\")\n",
    "print(new_data_point)\n",
    "print(\"                       \")\n",
    "print(\"Predicted Car Price:\", predictions[0])\n",
    "print(\"-----------------------\")"
   ]
  },
  {
   "cell_type": "code",
   "execution_count": 61,
   "id": "8cd03ea9-20be-489d-a6fe-180ab28ba14b",
   "metadata": {},
   "outputs": [
    {
     "data": {
      "image/png": "[encoded data removed]",
      "text/plain": [
       "<Figure size 1000x600 with 1 Axes>"
      ]
     },
     "metadata": {},
     "output_type": "display_data"
    }
   ],
   "source": [
    "feature_importances = model.feature_importances_\n",
    "feature_importance_df = pd.DataFrame({'Feature': X.columns, 'Importance': feature_importances})\n",
    "sorted_feature_importance = feature_importance_df.sort_values(by='Importance', ascending=False)\n",
    "top_10_feature_importance = sorted_feature_importance.head(10)\n",
    "plt.figure(figsize=(10, 6))\n",
    "plt.barh(top_10_feature_importance['Feature'], top_10_feature_importance['Importance'])\n",
    "plt.xlabel('Feature Importance')\n",
    "plt.ylabel('Feature')\n",
    "plt.title('Feature Importance in XGBoost Model')\n",
    "plt.show()"
   ]
  },
  {
   "cell_type": "code",
   "execution_count": null,
   "id": "87683087-6e81-438e-b231-84c1fca26c3f",
   "metadata": {
    "tags": []
   },
   "outputs": [],
   "source": []
  },
  {
   "cell_type": "code",
   "execution_count": null,
   "id": "54514214-d4e2-47da-855c-e3b3bf4425e3",
   "metadata": {},
   "outputs": [],
   "source": []
  },
  {
   "cell_type": "code",
   "execution_count": 63,
   "id": "210d738a-fb40-414b-9494-00db9743c45d",
   "metadata": {},
   "outputs": [],
   "source": []
  },
  {
   "cell_type": "code",
   "execution_count": null,
   "id": "5d3eb79b-71b3-4dd3-852c-21296bc2df72",
   "metadata": {},
   "outputs": [],
   "source": []
  },
  {
   "cell_type": "code",
   "execution_count": null,
   "id": "5256e83f-6adb-4b93-b8cb-deab6534bd83",
   "metadata": {},
   "outputs": [],
   "source": []
  },
  {
   "cell_type": "code",
   "execution_count": null,
   "id": "255da2ba-6ba4-46b1-8a53-2fb84e1ca10d",
   "metadata": {},
   "outputs": [],
   "source": []
  }
 ],
 "metadata": {
  "kernelspec": {
   "display_name": "Python 3 (ipykernel)",
   "language": "python",
   "name": "python3"
  },
  "language_info": {
   "codemirror_mode": {
    "name": "ipython",
    "version": 3
   },
   "file_extension": ".py",
   "mimetype": "text/x-python",
   "name": "python",
   "nbconvert_exporter": "python",
   "pygments_lexer": "ipython3",
   "version": "3.10.12"
  }
 },
 "nbformat": 4,
 "nbformat_minor": 5
}
