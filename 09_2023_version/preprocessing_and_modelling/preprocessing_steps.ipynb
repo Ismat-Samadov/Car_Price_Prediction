{
 "cells": [
  {
   "cell_type": "markdown",
   "id": "067205d5-1864-404a-85aa-927471d8e190",
   "metadata": {
    "tags": []
   },
   "source": [
    "## libraries"
   ]
  },
  {
   "cell_type": "code",
   "execution_count": 1,
   "id": "8f2b1e41-138b-431d-b5b8-ead5fba2f32c",
   "metadata": {
    "tags": []
   },
   "outputs": [],
   "source": [
    "import pandas as pd\n",
    "\n",
    "import matplotlib.pyplot as plt\n"
   ]
  },
  {
   "cell_type": "markdown",
   "id": "4cff3c1b-6a90-4ac4-baf2-9e6eda03f577",
   "metadata": {},
   "source": [
    "## EDA"
   ]
  },
  {
   "cell_type": "code",
   "execution_count": 2,
   "id": "a7055e0a-61fe-4dd0-b048-d15692e2a66f",
   "metadata": {
    "tags": []
   },
   "outputs": [],
   "source": [
    "data = pd.read_csv('turboaz_27092023.csv')"
   ]
  },
  {
   "cell_type": "code",
   "execution_count": 3,
   "id": "c1c11f87-d0a8-451e-8972-77c8ebb53357",
   "metadata": {
    "tags": []
   },
   "outputs": [
    {
     "data": {
      "text/html": [
       "<div>\n",
       "<style scoped>\n",
       "    .dataframe tbody tr th:only-of-type {\n",
       "        vertical-align: middle;\n",
       "    }\n",
       "\n",
       "    .dataframe tbody tr th {\n",
       "        vertical-align: top;\n",
       "    }\n",
       "\n",
       "    .dataframe thead th {\n",
       "        text-align: right;\n",
       "    }\n",
       "</style>\n",
       "<table border=\"1\" class=\"dataframe\">\n",
       "  <thead>\n",
       "    <tr style=\"text-align: right;\">\n",
       "      <th></th>\n",
       "      <th>link</th>\n",
       "      <th>title</th>\n",
       "      <th>update</th>\n",
       "      <th>views</th>\n",
       "      <th>city</th>\n",
       "      <th>make</th>\n",
       "      <th>model</th>\n",
       "      <th>year</th>\n",
       "      <th>ban_type</th>\n",
       "      <th>colour</th>\n",
       "      <th>engine</th>\n",
       "      <th>ride</th>\n",
       "      <th>transmission</th>\n",
       "      <th>gear</th>\n",
       "      <th>is_new</th>\n",
       "      <th>price</th>\n",
       "    </tr>\n",
       "  </thead>\n",
       "  <tbody>\n",
       "    <tr>\n",
       "      <th>0</th>\n",
       "      <td>https://turbo.az/autos/7622056-mercedes-g-63-amg</td>\n",
       "      <td>Mercedes G 63 AMG,</td>\n",
       "      <td>Yeniləndi: 26.09.2023</td>\n",
       "      <td>Baxışların sayı: 57162</td>\n",
       "      <td>Bakı</td>\n",
       "      <td>Mercedes</td>\n",
       "      <td>G 63 AMG</td>\n",
       "      <td>2023</td>\n",
       "      <td>Offroader / SUV</td>\n",
       "      <td>Yaşıl</td>\n",
       "      <td>4.0 L/585 a.g./Benzin</td>\n",
       "      <td>0 km</td>\n",
       "      <td>Avtomat</td>\n",
       "      <td>Tam</td>\n",
       "      <td>Avtomat</td>\n",
       "      <td>481 500 AZN</td>\n",
       "    </tr>\n",
       "    <tr>\n",
       "      <th>1</th>\n",
       "      <td>https://turbo.az/autos/7709986-hyundai-grandeur</td>\n",
       "      <td>Hyundai Grandeur,</td>\n",
       "      <td>Yeniləndi: 26.09.2023</td>\n",
       "      <td>Baxışların sayı: 2722</td>\n",
       "      <td>Bakı</td>\n",
       "      <td>Hyundai</td>\n",
       "      <td>Grandeur</td>\n",
       "      <td>2014</td>\n",
       "      <td>Sedan</td>\n",
       "      <td>Ağ</td>\n",
       "      <td>2.2 L/202 a.g./Dizel</td>\n",
       "      <td>280 000 km</td>\n",
       "      <td>Avtomat</td>\n",
       "      <td>Ön</td>\n",
       "      <td>Avtomat</td>\n",
       "      <td>31 600 AZN</td>\n",
       "    </tr>\n",
       "    <tr>\n",
       "      <th>2</th>\n",
       "      <td>https://turbo.az/autos/7611714-bmw-x5</td>\n",
       "      <td>BMW X5,</td>\n",
       "      <td>Yeniləndi: 26.09.2023</td>\n",
       "      <td>Baxışların sayı: 9612</td>\n",
       "      <td>Bakı</td>\n",
       "      <td>BMW</td>\n",
       "      <td>X5</td>\n",
       "      <td>2013</td>\n",
       "      <td>Offroader / SUV</td>\n",
       "      <td>Ağ</td>\n",
       "      <td>3.0 L/306 a.g./Benzin</td>\n",
       "      <td>265 000 km</td>\n",
       "      <td>Avtomat</td>\n",
       "      <td>Tam</td>\n",
       "      <td>Avtomat</td>\n",
       "      <td>21 000 USD</td>\n",
       "    </tr>\n",
       "    <tr>\n",
       "      <th>3</th>\n",
       "      <td>https://turbo.az/autos/7771332-hyundai-accent</td>\n",
       "      <td>Hyundai Accent,</td>\n",
       "      <td>Yeniləndi: 26.09.2023</td>\n",
       "      <td>Baxışların sayı: 89</td>\n",
       "      <td>Bakı</td>\n",
       "      <td>Hyundai</td>\n",
       "      <td>Accent</td>\n",
       "      <td>2011</td>\n",
       "      <td>Sedan</td>\n",
       "      <td>Ağ</td>\n",
       "      <td>1.4 L/108 a.g./Benzin</td>\n",
       "      <td>245 000 km</td>\n",
       "      <td>Avtomat</td>\n",
       "      <td>Ön</td>\n",
       "      <td>Avtomat</td>\n",
       "      <td>15 500 AZN</td>\n",
       "    </tr>\n",
       "    <tr>\n",
       "      <th>4</th>\n",
       "      <td>https://turbo.az/autos/7771337-ford-fusion</td>\n",
       "      <td>Ford Fusion,</td>\n",
       "      <td>Yeniləndi: 26.09.2023</td>\n",
       "      <td>Baxışların sayı: 52</td>\n",
       "      <td>Bakı</td>\n",
       "      <td>Ford</td>\n",
       "      <td>Fusion</td>\n",
       "      <td>2019</td>\n",
       "      <td>Sedan</td>\n",
       "      <td>Qara</td>\n",
       "      <td>2.0 L/190 a.g./Benzin</td>\n",
       "      <td>100 000 km</td>\n",
       "      <td>Avtomat</td>\n",
       "      <td>Ön</td>\n",
       "      <td>Avtomat</td>\n",
       "      <td>35 000 AZN</td>\n",
       "    </tr>\n",
       "    <tr>\n",
       "      <th>...</th>\n",
       "      <td>...</td>\n",
       "      <td>...</td>\n",
       "      <td>...</td>\n",
       "      <td>...</td>\n",
       "      <td>...</td>\n",
       "      <td>...</td>\n",
       "      <td>...</td>\n",
       "      <td>...</td>\n",
       "      <td>...</td>\n",
       "      <td>...</td>\n",
       "      <td>...</td>\n",
       "      <td>...</td>\n",
       "      <td>...</td>\n",
       "      <td>...</td>\n",
       "      <td>...</td>\n",
       "      <td>...</td>\n",
       "    </tr>\n",
       "    <tr>\n",
       "      <th>11336</th>\n",
       "      <td>https://turbo.az/autos/7658115-land-rover-rang...</td>\n",
       "      <td>Land Rover Range Rover,</td>\n",
       "      <td>Yeniləndi: 26.09.2023</td>\n",
       "      <td>Baxışların sayı: 1637</td>\n",
       "      <td>Bakı</td>\n",
       "      <td>Land Rover</td>\n",
       "      <td>Range Rover</td>\n",
       "      <td>2017</td>\n",
       "      <td>Offroader / SUV</td>\n",
       "      <td>Boz</td>\n",
       "      <td>3.0 L/340 a.g./Benzin</td>\n",
       "      <td>102 998 km</td>\n",
       "      <td>Avtomat</td>\n",
       "      <td>Tam</td>\n",
       "      <td>Avtomat</td>\n",
       "      <td>55 900 USD</td>\n",
       "    </tr>\n",
       "    <tr>\n",
       "      <th>11337</th>\n",
       "      <td>https://turbo.az/autos/7257130-geely-monjaro</td>\n",
       "      <td>Geely Monjaro,</td>\n",
       "      <td>Yeniləndi: 20.09.2023</td>\n",
       "      <td>Baxışların sayı: 35660</td>\n",
       "      <td>Bakı</td>\n",
       "      <td>Geely</td>\n",
       "      <td>Monjaro</td>\n",
       "      <td>2023</td>\n",
       "      <td>Offroader / SUV</td>\n",
       "      <td>Göy</td>\n",
       "      <td>2.0 L/238 a.g./Benzin</td>\n",
       "      <td>0 km</td>\n",
       "      <td>Avtomat</td>\n",
       "      <td>Tam</td>\n",
       "      <td>Avtomat</td>\n",
       "      <td>77 000 AZN</td>\n",
       "    </tr>\n",
       "    <tr>\n",
       "      <th>11338</th>\n",
       "      <td>https://turbo.az/autos/7736486-hyundai-i30</td>\n",
       "      <td>Hyundai i30,</td>\n",
       "      <td>Yeniləndi: 18.09.2023</td>\n",
       "      <td>Baxışların sayı: 3281</td>\n",
       "      <td>Bakı</td>\n",
       "      <td>Hyundai</td>\n",
       "      <td>i30</td>\n",
       "      <td>2012</td>\n",
       "      <td>Hetçbek</td>\n",
       "      <td>Ağ</td>\n",
       "      <td>1.6 L/128 a.g./Dizel</td>\n",
       "      <td>168 000 km</td>\n",
       "      <td>Avtomat</td>\n",
       "      <td>Ön</td>\n",
       "      <td>Avtomat</td>\n",
       "      <td>22 900 AZN</td>\n",
       "    </tr>\n",
       "    <tr>\n",
       "      <th>11339</th>\n",
       "      <td>https://turbo.az/autos/7656462-land-rover-rr-v...</td>\n",
       "      <td>Land Rover RR Velar,</td>\n",
       "      <td>Yeniləndi: 26.09.2023</td>\n",
       "      <td>Baxışların sayı: 11204</td>\n",
       "      <td>Bakı</td>\n",
       "      <td>Land Rover</td>\n",
       "      <td>RR Velar</td>\n",
       "      <td>2022</td>\n",
       "      <td>Offroader / SUV</td>\n",
       "      <td>Qırmızı</td>\n",
       "      <td>2.0 L/250 a.g./Benzin</td>\n",
       "      <td>0 km</td>\n",
       "      <td>Avtomat</td>\n",
       "      <td>Tam</td>\n",
       "      <td>Avtomat</td>\n",
       "      <td>95 100 USD</td>\n",
       "    </tr>\n",
       "    <tr>\n",
       "      <th>11340</th>\n",
       "      <td>https://turbo.az/autos/7756873-bmw-328</td>\n",
       "      <td>BMW 328,</td>\n",
       "      <td>Yeniləndi: 26.09.2023</td>\n",
       "      <td>Baxışların sayı: 1668</td>\n",
       "      <td>Bakı</td>\n",
       "      <td>BMW</td>\n",
       "      <td>328</td>\n",
       "      <td>2014</td>\n",
       "      <td>Sedan</td>\n",
       "      <td>Qara</td>\n",
       "      <td>2.0 L/245 a.g./Benzin</td>\n",
       "      <td>114 775 km</td>\n",
       "      <td>Avtomat</td>\n",
       "      <td>Arxa</td>\n",
       "      <td>Avtomat</td>\n",
       "      <td>31 700 AZN</td>\n",
       "    </tr>\n",
       "  </tbody>\n",
       "</table>\n",
       "<p>11341 rows × 16 columns</p>\n",
       "</div>"
      ],
      "text/plain": [
       "                                                    link  \\\n",
       "0       https://turbo.az/autos/7622056-mercedes-g-63-amg   \n",
       "1        https://turbo.az/autos/7709986-hyundai-grandeur   \n",
       "2                  https://turbo.az/autos/7611714-bmw-x5   \n",
       "3          https://turbo.az/autos/7771332-hyundai-accent   \n",
       "4             https://turbo.az/autos/7771337-ford-fusion   \n",
       "...                                                  ...   \n",
       "11336  https://turbo.az/autos/7658115-land-rover-rang...   \n",
       "11337       https://turbo.az/autos/7257130-geely-monjaro   \n",
       "11338         https://turbo.az/autos/7736486-hyundai-i30   \n",
       "11339  https://turbo.az/autos/7656462-land-rover-rr-v...   \n",
       "11340             https://turbo.az/autos/7756873-bmw-328   \n",
       "\n",
       "                          title                 update  \\\n",
       "0           Mercedes G 63 AMG,   Yeniləndi: 26.09.2023   \n",
       "1            Hyundai Grandeur,   Yeniləndi: 26.09.2023   \n",
       "2                      BMW X5,   Yeniləndi: 26.09.2023   \n",
       "3              Hyundai Accent,   Yeniləndi: 26.09.2023   \n",
       "4                 Ford Fusion,   Yeniləndi: 26.09.2023   \n",
       "...                         ...                    ...   \n",
       "11336  Land Rover Range Rover,   Yeniləndi: 26.09.2023   \n",
       "11337           Geely Monjaro,   Yeniləndi: 20.09.2023   \n",
       "11338             Hyundai i30,   Yeniləndi: 18.09.2023   \n",
       "11339     Land Rover RR Velar,   Yeniləndi: 26.09.2023   \n",
       "11340                 BMW 328,   Yeniləndi: 26.09.2023   \n",
       "\n",
       "                        views  city        make        model  year  \\\n",
       "0      Baxışların sayı: 57162  Bakı    Mercedes     G 63 AMG  2023   \n",
       "1       Baxışların sayı: 2722  Bakı     Hyundai     Grandeur  2014   \n",
       "2       Baxışların sayı: 9612  Bakı         BMW           X5  2013   \n",
       "3         Baxışların sayı: 89  Bakı     Hyundai       Accent  2011   \n",
       "4         Baxışların sayı: 52  Bakı        Ford       Fusion  2019   \n",
       "...                       ...   ...         ...          ...   ...   \n",
       "11336   Baxışların sayı: 1637  Bakı  Land Rover  Range Rover  2017   \n",
       "11337  Baxışların sayı: 35660  Bakı       Geely      Monjaro  2023   \n",
       "11338   Baxışların sayı: 3281  Bakı     Hyundai          i30  2012   \n",
       "11339  Baxışların sayı: 11204  Bakı  Land Rover     RR Velar  2022   \n",
       "11340   Baxışların sayı: 1668  Bakı         BMW          328  2014   \n",
       "\n",
       "              ban_type   colour                 engine        ride  \\\n",
       "0      Offroader / SUV    Yaşıl  4.0 L/585 a.g./Benzin        0 km   \n",
       "1                Sedan       Ağ   2.2 L/202 a.g./Dizel  280 000 km   \n",
       "2      Offroader / SUV       Ağ  3.0 L/306 a.g./Benzin  265 000 km   \n",
       "3                Sedan       Ağ  1.4 L/108 a.g./Benzin  245 000 km   \n",
       "4                Sedan     Qara  2.0 L/190 a.g./Benzin  100 000 km   \n",
       "...                ...      ...                    ...         ...   \n",
       "11336  Offroader / SUV      Boz  3.0 L/340 a.g./Benzin  102 998 km   \n",
       "11337  Offroader / SUV      Göy  2.0 L/238 a.g./Benzin        0 km   \n",
       "11338          Hetçbek       Ağ   1.6 L/128 a.g./Dizel  168 000 km   \n",
       "11339  Offroader / SUV  Qırmızı  2.0 L/250 a.g./Benzin        0 km   \n",
       "11340            Sedan     Qara  2.0 L/245 a.g./Benzin  114 775 km   \n",
       "\n",
       "      transmission  gear   is_new        price  \n",
       "0          Avtomat   Tam  Avtomat  481 500 AZN  \n",
       "1          Avtomat    Ön  Avtomat   31 600 AZN  \n",
       "2          Avtomat   Tam  Avtomat   21 000 USD  \n",
       "3          Avtomat    Ön  Avtomat   15 500 AZN  \n",
       "4          Avtomat    Ön  Avtomat   35 000 AZN  \n",
       "...            ...   ...      ...          ...  \n",
       "11336      Avtomat   Tam  Avtomat   55 900 USD  \n",
       "11337      Avtomat   Tam  Avtomat   77 000 AZN  \n",
       "11338      Avtomat    Ön  Avtomat   22 900 AZN  \n",
       "11339      Avtomat   Tam  Avtomat   95 100 USD  \n",
       "11340      Avtomat  Arxa  Avtomat   31 700 AZN  \n",
       "\n",
       "[11341 rows x 16 columns]"
      ]
     },
     "execution_count": 3,
     "metadata": {},
     "output_type": "execute_result"
    }
   ],
   "source": [
    "data"
   ]
  },
  {
   "cell_type": "code",
   "execution_count": 4,
   "id": "65773e31-9639-4250-986c-f27b6b7fd0b0",
   "metadata": {
    "tags": []
   },
   "outputs": [
    {
     "data": {
      "text/plain": [
       "link            0\n",
       "title           0\n",
       "update          0\n",
       "views           0\n",
       "city            0\n",
       "make            0\n",
       "model           0\n",
       "year            0\n",
       "ban_type        0\n",
       "colour          0\n",
       "engine          0\n",
       "ride            0\n",
       "transmission    0\n",
       "gear            0\n",
       "is_new          0\n",
       "price           0\n",
       "dtype: int64"
      ]
     },
     "execution_count": 4,
     "metadata": {},
     "output_type": "execute_result"
    }
   ],
   "source": [
    "data.isna().sum()"
   ]
  },
  {
   "cell_type": "code",
   "execution_count": 5,
   "id": "45d13943-630a-4349-9e73-dd6eeefe2776",
   "metadata": {
    "tags": []
   },
   "outputs": [
    {
     "data": {
      "text/plain": [
       "0"
      ]
     },
     "execution_count": 5,
     "metadata": {},
     "output_type": "execute_result"
    }
   ],
   "source": [
    "data.duplicated().sum()"
   ]
  },
  {
   "cell_type": "code",
   "execution_count": 6,
   "id": "de9e9ed8-12c9-4c41-884c-bd9ffbe6acae",
   "metadata": {
    "tags": []
   },
   "outputs": [
    {
     "name": "stdout",
     "output_type": "stream",
     "text": [
      "<class 'pandas.core.frame.DataFrame'>\n",
      "RangeIndex: 11341 entries, 0 to 11340\n",
      "Data columns (total 16 columns):\n",
      " #   Column        Non-Null Count  Dtype \n",
      "---  ------        --------------  ----- \n",
      " 0   link          11341 non-null  object\n",
      " 1   title         11341 non-null  object\n",
      " 2   update        11341 non-null  object\n",
      " 3   views         11341 non-null  object\n",
      " 4   city          11341 non-null  object\n",
      " 5   make          11341 non-null  object\n",
      " 6   model         11341 non-null  object\n",
      " 7   year          11341 non-null  int64 \n",
      " 8   ban_type      11341 non-null  object\n",
      " 9   colour        11341 non-null  object\n",
      " 10  engine        11341 non-null  object\n",
      " 11  ride          11341 non-null  object\n",
      " 12  transmission  11341 non-null  object\n",
      " 13  gear          11341 non-null  object\n",
      " 14  is_new        11341 non-null  object\n",
      " 15  price         11341 non-null  object\n",
      "dtypes: int64(1), object(15)\n",
      "memory usage: 1.4+ MB\n"
     ]
    }
   ],
   "source": [
    "data.info()"
   ]
  },
  {
   "cell_type": "code",
   "execution_count": 7,
   "id": "6f6f8829-e39c-4f0f-a687-16a5e74199a9",
   "metadata": {
    "tags": []
   },
   "outputs": [
    {
     "data": {
      "text/plain": [
       "Index(['link', 'title', 'update', 'views', 'city', 'make', 'model', 'year',\n",
       "       'ban_type', 'colour', 'engine', 'ride', 'transmission', 'gear',\n",
       "       'is_new', 'price'],\n",
       "      dtype='object')"
      ]
     },
     "execution_count": 7,
     "metadata": {},
     "output_type": "execute_result"
    }
   ],
   "source": [
    "data.columns"
   ]
  },
  {
   "cell_type": "code",
   "execution_count": 8,
   "id": "5810fbc2-56b0-4b81-92f8-6944e01e8bf8",
   "metadata": {
    "tags": []
   },
   "outputs": [
    {
     "data": {
      "text/html": [
       "<div>\n",
       "<style scoped>\n",
       "    .dataframe tbody tr th:only-of-type {\n",
       "        vertical-align: middle;\n",
       "    }\n",
       "\n",
       "    .dataframe tbody tr th {\n",
       "        vertical-align: top;\n",
       "    }\n",
       "\n",
       "    .dataframe thead th {\n",
       "        text-align: right;\n",
       "    }\n",
       "</style>\n",
       "<table border=\"1\" class=\"dataframe\">\n",
       "  <thead>\n",
       "    <tr style=\"text-align: right;\">\n",
       "      <th></th>\n",
       "      <th>year</th>\n",
       "    </tr>\n",
       "  </thead>\n",
       "  <tbody>\n",
       "    <tr>\n",
       "      <th>count</th>\n",
       "      <td>11341.000000</td>\n",
       "    </tr>\n",
       "    <tr>\n",
       "      <th>mean</th>\n",
       "      <td>2010.922758</td>\n",
       "    </tr>\n",
       "    <tr>\n",
       "      <th>std</th>\n",
       "      <td>8.271764</td>\n",
       "    </tr>\n",
       "    <tr>\n",
       "      <th>min</th>\n",
       "      <td>1954.000000</td>\n",
       "    </tr>\n",
       "    <tr>\n",
       "      <th>25%</th>\n",
       "      <td>2007.000000</td>\n",
       "    </tr>\n",
       "    <tr>\n",
       "      <th>50%</th>\n",
       "      <td>2012.000000</td>\n",
       "    </tr>\n",
       "    <tr>\n",
       "      <th>75%</th>\n",
       "      <td>2016.000000</td>\n",
       "    </tr>\n",
       "    <tr>\n",
       "      <th>max</th>\n",
       "      <td>2023.000000</td>\n",
       "    </tr>\n",
       "  </tbody>\n",
       "</table>\n",
       "</div>"
      ],
      "text/plain": [
       "               year\n",
       "count  11341.000000\n",
       "mean    2010.922758\n",
       "std        8.271764\n",
       "min     1954.000000\n",
       "25%     2007.000000\n",
       "50%     2012.000000\n",
       "75%     2016.000000\n",
       "max     2023.000000"
      ]
     },
     "execution_count": 8,
     "metadata": {},
     "output_type": "execute_result"
    }
   ],
   "source": [
    "data.describe()"
   ]
  },
  {
   "cell_type": "code",
   "execution_count": null,
   "id": "9c25d9f0-6667-4297-9821-6b95e692e81d",
   "metadata": {
    "tags": []
   },
   "outputs": [],
   "source": []
  },
  {
   "cell_type": "code",
   "execution_count": null,
   "id": "ddc11ce4-a12a-4b28-b363-e0d13141302c",
   "metadata": {},
   "outputs": [],
   "source": []
  },
  {
   "cell_type": "code",
   "execution_count": null,
   "id": "bed1dcbb-2190-43b9-82be-98d0b9a2ee1d",
   "metadata": {},
   "outputs": [],
   "source": []
  },
  {
   "cell_type": "markdown",
   "id": "604744dd-f1a6-402c-9b25-30246fefcd2d",
   "metadata": {},
   "source": [
    "## Preprocessing"
   ]
  },
  {
   "cell_type": "code",
   "execution_count": 9,
   "id": "43683837-fbfc-4dac-8647-96273f8d6e62",
   "metadata": {
    "tags": []
   },
   "outputs": [
    {
     "data": {
      "text/plain": [
       "0    481 500 AZN\n",
       "1     31 600 AZN\n",
       "2     21 000 USD\n",
       "3     15 500 AZN\n",
       "4     35 000 AZN\n",
       "Name: price, dtype: object"
      ]
     },
     "execution_count": 9,
     "metadata": {},
     "output_type": "execute_result"
    }
   ],
   "source": [
    "data['price'].head()"
   ]
  },
  {
   "cell_type": "markdown",
   "id": "c93e0bd9-d175-41ef-819c-b28736cefc81",
   "metadata": {
    "tags": []
   },
   "source": [
    "## price column"
   ]
  },
  {
   "cell_type": "code",
   "execution_count": 10,
   "id": "ee93638d-d948-464b-9a5f-86e30b953107",
   "metadata": {
    "tags": []
   },
   "outputs": [],
   "source": [
    "def separate_price_and_currency(price_str):\n",
    "    price_str = price_str.replace(',', '')\n",
    "    currency_codes = ['USD', 'EUR', 'GBP', 'AZN', 'JPY' , 'RUB'] \n",
    "    for code in currency_codes:\n",
    "        if code in price_str:\n",
    "            currency = code\n",
    "            price = price_str.replace(code, '').strip()\n",
    "            return price, currency\n",
    "    \n",
    "    return price_str, 'AZN'"
   ]
  },
  {
   "cell_type": "code",
   "execution_count": 11,
   "id": "0d0c896e-2adf-4564-a997-8947d10c30fd",
   "metadata": {
    "tags": []
   },
   "outputs": [
    {
     "name": "stderr",
     "output_type": "stream",
     "text": [
      "C:\\Users\\Ismat\\AppData\\Local\\Temp\\ipykernel_8816\\917775358.py:1: FutureWarning: Returning a DataFrame from Series.apply when the supplied function returns a Series is deprecated and will be removed in a future version.\n",
      "  data[['car_price', 'currency']] = data['price'].apply(separate_price_and_currency).apply(pd.Series)\n"
     ]
    }
   ],
   "source": [
    "data[['car_price', 'currency']] = data['price'].apply(separate_price_and_currency).apply(pd.Series)\n",
    "data['car_price'] = pd.to_numeric(data['car_price'].str.replace('[^\\d.]', '', regex=True), errors='coerce')"
   ]
  },
  {
   "cell_type": "code",
   "execution_count": 12,
   "id": "fd5c23b2-b6d6-4927-a53e-d5994660301d",
   "metadata": {
    "tags": []
   },
   "outputs": [
    {
     "data": {
      "text/plain": [
       "array(['AZN', 'USD', 'EUR'], dtype=object)"
      ]
     },
     "execution_count": 12,
     "metadata": {},
     "output_type": "execute_result"
    }
   ],
   "source": [
    "data['currency'].unique()"
   ]
  },
  {
   "cell_type": "code",
   "execution_count": 13,
   "id": "7627ee8f-fb23-4bdf-9806-ac8a7ea94ac6",
   "metadata": {
    "tags": []
   },
   "outputs": [
    {
     "name": "stdout",
     "output_type": "stream",
     "text": [
      "<class 'pandas.core.series.Series'>\n",
      "RangeIndex: 11341 entries, 0 to 11340\n",
      "Series name: car_price\n",
      "Non-Null Count  Dtype\n",
      "--------------  -----\n",
      "11341 non-null  int64\n",
      "dtypes: int64(1)\n",
      "memory usage: 88.7 KB\n"
     ]
    }
   ],
   "source": [
    "data['car_price'].info()"
   ]
  },
  {
   "cell_type": "code",
   "execution_count": 14,
   "id": "db26c0d0-8a6b-4d5d-9401-cf62ccb17663",
   "metadata": {
    "tags": []
   },
   "outputs": [
    {
     "data": {
      "text/html": [
       "<div>\n",
       "<style scoped>\n",
       "    .dataframe tbody tr th:only-of-type {\n",
       "        vertical-align: middle;\n",
       "    }\n",
       "\n",
       "    .dataframe tbody tr th {\n",
       "        vertical-align: top;\n",
       "    }\n",
       "\n",
       "    .dataframe thead th {\n",
       "        text-align: right;\n",
       "    }\n",
       "</style>\n",
       "<table border=\"1\" class=\"dataframe\">\n",
       "  <thead>\n",
       "    <tr style=\"text-align: right;\">\n",
       "      <th></th>\n",
       "      <th>link</th>\n",
       "      <th>title</th>\n",
       "      <th>update</th>\n",
       "      <th>views</th>\n",
       "      <th>city</th>\n",
       "      <th>make</th>\n",
       "      <th>model</th>\n",
       "      <th>year</th>\n",
       "      <th>ban_type</th>\n",
       "      <th>colour</th>\n",
       "      <th>engine</th>\n",
       "      <th>ride</th>\n",
       "      <th>transmission</th>\n",
       "      <th>gear</th>\n",
       "      <th>is_new</th>\n",
       "      <th>price</th>\n",
       "      <th>car_price</th>\n",
       "      <th>currency</th>\n",
       "    </tr>\n",
       "  </thead>\n",
       "  <tbody>\n",
       "    <tr>\n",
       "      <th>0</th>\n",
       "      <td>https://turbo.az/autos/7622056-mercedes-g-63-amg</td>\n",
       "      <td>Mercedes G 63 AMG,</td>\n",
       "      <td>Yeniləndi: 26.09.2023</td>\n",
       "      <td>Baxışların sayı: 57162</td>\n",
       "      <td>Bakı</td>\n",
       "      <td>Mercedes</td>\n",
       "      <td>G 63 AMG</td>\n",
       "      <td>2023</td>\n",
       "      <td>Offroader / SUV</td>\n",
       "      <td>Yaşıl</td>\n",
       "      <td>4.0 L/585 a.g./Benzin</td>\n",
       "      <td>0 km</td>\n",
       "      <td>Avtomat</td>\n",
       "      <td>Tam</td>\n",
       "      <td>Avtomat</td>\n",
       "      <td>481 500 AZN</td>\n",
       "      <td>481500</td>\n",
       "      <td>AZN</td>\n",
       "    </tr>\n",
       "    <tr>\n",
       "      <th>1</th>\n",
       "      <td>https://turbo.az/autos/7709986-hyundai-grandeur</td>\n",
       "      <td>Hyundai Grandeur,</td>\n",
       "      <td>Yeniləndi: 26.09.2023</td>\n",
       "      <td>Baxışların sayı: 2722</td>\n",
       "      <td>Bakı</td>\n",
       "      <td>Hyundai</td>\n",
       "      <td>Grandeur</td>\n",
       "      <td>2014</td>\n",
       "      <td>Sedan</td>\n",
       "      <td>Ağ</td>\n",
       "      <td>2.2 L/202 a.g./Dizel</td>\n",
       "      <td>280 000 km</td>\n",
       "      <td>Avtomat</td>\n",
       "      <td>Ön</td>\n",
       "      <td>Avtomat</td>\n",
       "      <td>31 600 AZN</td>\n",
       "      <td>31600</td>\n",
       "      <td>AZN</td>\n",
       "    </tr>\n",
       "    <tr>\n",
       "      <th>2</th>\n",
       "      <td>https://turbo.az/autos/7611714-bmw-x5</td>\n",
       "      <td>BMW X5,</td>\n",
       "      <td>Yeniləndi: 26.09.2023</td>\n",
       "      <td>Baxışların sayı: 9612</td>\n",
       "      <td>Bakı</td>\n",
       "      <td>BMW</td>\n",
       "      <td>X5</td>\n",
       "      <td>2013</td>\n",
       "      <td>Offroader / SUV</td>\n",
       "      <td>Ağ</td>\n",
       "      <td>3.0 L/306 a.g./Benzin</td>\n",
       "      <td>265 000 km</td>\n",
       "      <td>Avtomat</td>\n",
       "      <td>Tam</td>\n",
       "      <td>Avtomat</td>\n",
       "      <td>21 000 USD</td>\n",
       "      <td>21000</td>\n",
       "      <td>USD</td>\n",
       "    </tr>\n",
       "    <tr>\n",
       "      <th>3</th>\n",
       "      <td>https://turbo.az/autos/7771332-hyundai-accent</td>\n",
       "      <td>Hyundai Accent,</td>\n",
       "      <td>Yeniləndi: 26.09.2023</td>\n",
       "      <td>Baxışların sayı: 89</td>\n",
       "      <td>Bakı</td>\n",
       "      <td>Hyundai</td>\n",
       "      <td>Accent</td>\n",
       "      <td>2011</td>\n",
       "      <td>Sedan</td>\n",
       "      <td>Ağ</td>\n",
       "      <td>1.4 L/108 a.g./Benzin</td>\n",
       "      <td>245 000 km</td>\n",
       "      <td>Avtomat</td>\n",
       "      <td>Ön</td>\n",
       "      <td>Avtomat</td>\n",
       "      <td>15 500 AZN</td>\n",
       "      <td>15500</td>\n",
       "      <td>AZN</td>\n",
       "    </tr>\n",
       "    <tr>\n",
       "      <th>4</th>\n",
       "      <td>https://turbo.az/autos/7771337-ford-fusion</td>\n",
       "      <td>Ford Fusion,</td>\n",
       "      <td>Yeniləndi: 26.09.2023</td>\n",
       "      <td>Baxışların sayı: 52</td>\n",
       "      <td>Bakı</td>\n",
       "      <td>Ford</td>\n",
       "      <td>Fusion</td>\n",
       "      <td>2019</td>\n",
       "      <td>Sedan</td>\n",
       "      <td>Qara</td>\n",
       "      <td>2.0 L/190 a.g./Benzin</td>\n",
       "      <td>100 000 km</td>\n",
       "      <td>Avtomat</td>\n",
       "      <td>Ön</td>\n",
       "      <td>Avtomat</td>\n",
       "      <td>35 000 AZN</td>\n",
       "      <td>35000</td>\n",
       "      <td>AZN</td>\n",
       "    </tr>\n",
       "    <tr>\n",
       "      <th>...</th>\n",
       "      <td>...</td>\n",
       "      <td>...</td>\n",
       "      <td>...</td>\n",
       "      <td>...</td>\n",
       "      <td>...</td>\n",
       "      <td>...</td>\n",
       "      <td>...</td>\n",
       "      <td>...</td>\n",
       "      <td>...</td>\n",
       "      <td>...</td>\n",
       "      <td>...</td>\n",
       "      <td>...</td>\n",
       "      <td>...</td>\n",
       "      <td>...</td>\n",
       "      <td>...</td>\n",
       "      <td>...</td>\n",
       "      <td>...</td>\n",
       "      <td>...</td>\n",
       "    </tr>\n",
       "    <tr>\n",
       "      <th>11336</th>\n",
       "      <td>https://turbo.az/autos/7658115-land-rover-rang...</td>\n",
       "      <td>Land Rover Range Rover,</td>\n",
       "      <td>Yeniləndi: 26.09.2023</td>\n",
       "      <td>Baxışların sayı: 1637</td>\n",
       "      <td>Bakı</td>\n",
       "      <td>Land Rover</td>\n",
       "      <td>Range Rover</td>\n",
       "      <td>2017</td>\n",
       "      <td>Offroader / SUV</td>\n",
       "      <td>Boz</td>\n",
       "      <td>3.0 L/340 a.g./Benzin</td>\n",
       "      <td>102 998 km</td>\n",
       "      <td>Avtomat</td>\n",
       "      <td>Tam</td>\n",
       "      <td>Avtomat</td>\n",
       "      <td>55 900 USD</td>\n",
       "      <td>55900</td>\n",
       "      <td>USD</td>\n",
       "    </tr>\n",
       "    <tr>\n",
       "      <th>11337</th>\n",
       "      <td>https://turbo.az/autos/7257130-geely-monjaro</td>\n",
       "      <td>Geely Monjaro,</td>\n",
       "      <td>Yeniləndi: 20.09.2023</td>\n",
       "      <td>Baxışların sayı: 35660</td>\n",
       "      <td>Bakı</td>\n",
       "      <td>Geely</td>\n",
       "      <td>Monjaro</td>\n",
       "      <td>2023</td>\n",
       "      <td>Offroader / SUV</td>\n",
       "      <td>Göy</td>\n",
       "      <td>2.0 L/238 a.g./Benzin</td>\n",
       "      <td>0 km</td>\n",
       "      <td>Avtomat</td>\n",
       "      <td>Tam</td>\n",
       "      <td>Avtomat</td>\n",
       "      <td>77 000 AZN</td>\n",
       "      <td>77000</td>\n",
       "      <td>AZN</td>\n",
       "    </tr>\n",
       "    <tr>\n",
       "      <th>11338</th>\n",
       "      <td>https://turbo.az/autos/7736486-hyundai-i30</td>\n",
       "      <td>Hyundai i30,</td>\n",
       "      <td>Yeniləndi: 18.09.2023</td>\n",
       "      <td>Baxışların sayı: 3281</td>\n",
       "      <td>Bakı</td>\n",
       "      <td>Hyundai</td>\n",
       "      <td>i30</td>\n",
       "      <td>2012</td>\n",
       "      <td>Hetçbek</td>\n",
       "      <td>Ağ</td>\n",
       "      <td>1.6 L/128 a.g./Dizel</td>\n",
       "      <td>168 000 km</td>\n",
       "      <td>Avtomat</td>\n",
       "      <td>Ön</td>\n",
       "      <td>Avtomat</td>\n",
       "      <td>22 900 AZN</td>\n",
       "      <td>22900</td>\n",
       "      <td>AZN</td>\n",
       "    </tr>\n",
       "    <tr>\n",
       "      <th>11339</th>\n",
       "      <td>https://turbo.az/autos/7656462-land-rover-rr-v...</td>\n",
       "      <td>Land Rover RR Velar,</td>\n",
       "      <td>Yeniləndi: 26.09.2023</td>\n",
       "      <td>Baxışların sayı: 11204</td>\n",
       "      <td>Bakı</td>\n",
       "      <td>Land Rover</td>\n",
       "      <td>RR Velar</td>\n",
       "      <td>2022</td>\n",
       "      <td>Offroader / SUV</td>\n",
       "      <td>Qırmızı</td>\n",
       "      <td>2.0 L/250 a.g./Benzin</td>\n",
       "      <td>0 km</td>\n",
       "      <td>Avtomat</td>\n",
       "      <td>Tam</td>\n",
       "      <td>Avtomat</td>\n",
       "      <td>95 100 USD</td>\n",
       "      <td>95100</td>\n",
       "      <td>USD</td>\n",
       "    </tr>\n",
       "    <tr>\n",
       "      <th>11340</th>\n",
       "      <td>https://turbo.az/autos/7756873-bmw-328</td>\n",
       "      <td>BMW 328,</td>\n",
       "      <td>Yeniləndi: 26.09.2023</td>\n",
       "      <td>Baxışların sayı: 1668</td>\n",
       "      <td>Bakı</td>\n",
       "      <td>BMW</td>\n",
       "      <td>328</td>\n",
       "      <td>2014</td>\n",
       "      <td>Sedan</td>\n",
       "      <td>Qara</td>\n",
       "      <td>2.0 L/245 a.g./Benzin</td>\n",
       "      <td>114 775 km</td>\n",
       "      <td>Avtomat</td>\n",
       "      <td>Arxa</td>\n",
       "      <td>Avtomat</td>\n",
       "      <td>31 700 AZN</td>\n",
       "      <td>31700</td>\n",
       "      <td>AZN</td>\n",
       "    </tr>\n",
       "  </tbody>\n",
       "</table>\n",
       "<p>11341 rows × 18 columns</p>\n",
       "</div>"
      ],
      "text/plain": [
       "                                                    link  \\\n",
       "0       https://turbo.az/autos/7622056-mercedes-g-63-amg   \n",
       "1        https://turbo.az/autos/7709986-hyundai-grandeur   \n",
       "2                  https://turbo.az/autos/7611714-bmw-x5   \n",
       "3          https://turbo.az/autos/7771332-hyundai-accent   \n",
       "4             https://turbo.az/autos/7771337-ford-fusion   \n",
       "...                                                  ...   \n",
       "11336  https://turbo.az/autos/7658115-land-rover-rang...   \n",
       "11337       https://turbo.az/autos/7257130-geely-monjaro   \n",
       "11338         https://turbo.az/autos/7736486-hyundai-i30   \n",
       "11339  https://turbo.az/autos/7656462-land-rover-rr-v...   \n",
       "11340             https://turbo.az/autos/7756873-bmw-328   \n",
       "\n",
       "                          title                 update  \\\n",
       "0           Mercedes G 63 AMG,   Yeniləndi: 26.09.2023   \n",
       "1            Hyundai Grandeur,   Yeniləndi: 26.09.2023   \n",
       "2                      BMW X5,   Yeniləndi: 26.09.2023   \n",
       "3              Hyundai Accent,   Yeniləndi: 26.09.2023   \n",
       "4                 Ford Fusion,   Yeniləndi: 26.09.2023   \n",
       "...                         ...                    ...   \n",
       "11336  Land Rover Range Rover,   Yeniləndi: 26.09.2023   \n",
       "11337           Geely Monjaro,   Yeniləndi: 20.09.2023   \n",
       "11338             Hyundai i30,   Yeniləndi: 18.09.2023   \n",
       "11339     Land Rover RR Velar,   Yeniləndi: 26.09.2023   \n",
       "11340                 BMW 328,   Yeniləndi: 26.09.2023   \n",
       "\n",
       "                        views  city        make        model  year  \\\n",
       "0      Baxışların sayı: 57162  Bakı    Mercedes     G 63 AMG  2023   \n",
       "1       Baxışların sayı: 2722  Bakı     Hyundai     Grandeur  2014   \n",
       "2       Baxışların sayı: 9612  Bakı         BMW           X5  2013   \n",
       "3         Baxışların sayı: 89  Bakı     Hyundai       Accent  2011   \n",
       "4         Baxışların sayı: 52  Bakı        Ford       Fusion  2019   \n",
       "...                       ...   ...         ...          ...   ...   \n",
       "11336   Baxışların sayı: 1637  Bakı  Land Rover  Range Rover  2017   \n",
       "11337  Baxışların sayı: 35660  Bakı       Geely      Monjaro  2023   \n",
       "11338   Baxışların sayı: 3281  Bakı     Hyundai          i30  2012   \n",
       "11339  Baxışların sayı: 11204  Bakı  Land Rover     RR Velar  2022   \n",
       "11340   Baxışların sayı: 1668  Bakı         BMW          328  2014   \n",
       "\n",
       "              ban_type   colour                 engine        ride  \\\n",
       "0      Offroader / SUV    Yaşıl  4.0 L/585 a.g./Benzin        0 km   \n",
       "1                Sedan       Ağ   2.2 L/202 a.g./Dizel  280 000 km   \n",
       "2      Offroader / SUV       Ağ  3.0 L/306 a.g./Benzin  265 000 km   \n",
       "3                Sedan       Ağ  1.4 L/108 a.g./Benzin  245 000 km   \n",
       "4                Sedan     Qara  2.0 L/190 a.g./Benzin  100 000 km   \n",
       "...                ...      ...                    ...         ...   \n",
       "11336  Offroader / SUV      Boz  3.0 L/340 a.g./Benzin  102 998 km   \n",
       "11337  Offroader / SUV      Göy  2.0 L/238 a.g./Benzin        0 km   \n",
       "11338          Hetçbek       Ağ   1.6 L/128 a.g./Dizel  168 000 km   \n",
       "11339  Offroader / SUV  Qırmızı  2.0 L/250 a.g./Benzin        0 km   \n",
       "11340            Sedan     Qara  2.0 L/245 a.g./Benzin  114 775 km   \n",
       "\n",
       "      transmission  gear   is_new        price  car_price currency  \n",
       "0          Avtomat   Tam  Avtomat  481 500 AZN     481500      AZN  \n",
       "1          Avtomat    Ön  Avtomat   31 600 AZN      31600      AZN  \n",
       "2          Avtomat   Tam  Avtomat   21 000 USD      21000      USD  \n",
       "3          Avtomat    Ön  Avtomat   15 500 AZN      15500      AZN  \n",
       "4          Avtomat    Ön  Avtomat   35 000 AZN      35000      AZN  \n",
       "...            ...   ...      ...          ...        ...      ...  \n",
       "11336      Avtomat   Tam  Avtomat   55 900 USD      55900      USD  \n",
       "11337      Avtomat   Tam  Avtomat   77 000 AZN      77000      AZN  \n",
       "11338      Avtomat    Ön  Avtomat   22 900 AZN      22900      AZN  \n",
       "11339      Avtomat   Tam  Avtomat   95 100 USD      95100      USD  \n",
       "11340      Avtomat  Arxa  Avtomat   31 700 AZN      31700      AZN  \n",
       "\n",
       "[11341 rows x 18 columns]"
      ]
     },
     "execution_count": 14,
     "metadata": {},
     "output_type": "execute_result"
    }
   ],
   "source": [
    "data"
   ]
  },
  {
   "cell_type": "markdown",
   "id": "dbc0537d-df30-4611-b136-8dbdab52767f",
   "metadata": {},
   "source": [
    "## city column"
   ]
  },
  {
   "cell_type": "code",
   "execution_count": 15,
   "id": "97f5e8c0-116b-4f37-88fa-19e348ae3ea7",
   "metadata": {
    "tags": []
   },
   "outputs": [
    {
     "data": {
      "text/plain": [
       "array(['Bakı', 'Siyəzən', 'Qəbələ', 'Sumqayıt', 'Yevlax', 'Lənkəran',\n",
       "       'Quba', 'Gədəbəy', 'Sabirabad', 'Şirvan', 'Gəncə', 'İmişli',\n",
       "       'Şəmkir', 'Mingəçevir', 'Astara', 'Salyan', 'Qax', 'Biləsuvar',\n",
       "       'Zaqatala', 'Balakən', 'Göygöl', 'Xırdalan', 'Yardımlı',\n",
       "       'Naxçıvan', 'Masallı', 'Ağdaş', 'Şəki', 'İsmayıllı', 'Qazax',\n",
       "       'Ağsu', 'Ağcabədi', 'Xaçmaz', 'Lerik', 'Kürdəmir', 'Qusar',\n",
       "       'Bərdə', 'Şabran', 'Beyləqan', 'Goranboy', 'Tovuz', 'Samux',\n",
       "       'Ağdam', 'Göyçay', 'Cəlilabad', 'Ağstafa', 'Şamaxı', 'Füzuli',\n",
       "       'Hacıqabul', 'Saatlı', 'Tərtər', 'Zərdab', 'Oğuz', 'Ucar',\n",
       "       'Qobustan', 'Xudat', 'Neftçala', 'Cəbrayıl', 'Daşkəsən',\n",
       "       'Naftalan', 'Dəliməmmədli', 'Göytəpə'], dtype=object)"
      ]
     },
     "execution_count": 15,
     "metadata": {},
     "output_type": "execute_result"
    }
   ],
   "source": [
    "data['city'].unique()"
   ]
  },
  {
   "cell_type": "code",
   "execution_count": null,
   "id": "e3660478-45a7-4010-abae-7c4a7b7c2a65",
   "metadata": {},
   "outputs": [],
   "source": []
  },
  {
   "cell_type": "markdown",
   "id": "180905a9-aaa7-462b-893f-5856991179d2",
   "metadata": {},
   "source": [
    "## brand column"
   ]
  },
  {
   "cell_type": "code",
   "execution_count": 16,
   "id": "9c685b38-9dc4-4456-9306-862e3780f59a",
   "metadata": {
    "tags": []
   },
   "outputs": [
    {
     "data": {
      "text/plain": [
       "array(['Mercedes', 'Hyundai', 'BMW', 'Ford', 'LADA (VAZ)', 'Nissan',\n",
       "       'Land Rover', 'Porsche', 'Toyota', 'Kia', 'Opel', 'Honda',\n",
       "       'Renault', 'Chevrolet', 'Jaguar', 'Volkswagen', 'Audi', 'Chery',\n",
       "       'Jeep', 'Peugeot', 'Mitsubishi', 'Iran Khodro', 'MAZ', 'Lexus',\n",
       "       'Polestar', 'Skoda', 'Tesla', 'Bentley', 'Subaru', 'Khazar',\n",
       "       'KamAz', 'Fiat', 'GAZ', 'Infiniti', 'Ravon', 'Togg', 'Great Wall',\n",
       "       'Isuzu', 'Vespa', 'Yamaha', 'Mazda', 'Mercedes-Maybach', 'Wanfeng',\n",
       "       'HOWO', 'Tofas', 'ZAZ', 'Daewoo', 'Changan', 'Mini', 'BYD', 'IM',\n",
       "       'DAF', 'Volvo', 'Iveco', 'Li Auto', 'Shacman', 'UAZ', 'MG', 'ZIL',\n",
       "       'CFMOTO', 'Zeekr', 'Avatr', 'Haval', 'Dacia', 'DongFeng',\n",
       "       'Leapmotor', 'Tufan', 'Baic', 'Maserati', 'KAIYI', 'Foton',\n",
       "       'Jetour', 'GMC', 'IJ', 'Hummer', 'Aprilia', 'Saipa', 'Skywell',\n",
       "       'Mondial', 'Voyah', 'Moskvich', 'Scania', 'Suzuki', 'Dodge',\n",
       "       'Bestune', 'Cadillac', 'SEAT', 'MAN', 'Lifan', 'KTM', 'Setra',\n",
       "       'Lamborghini', 'Hongqi', 'VGV', 'Geely', 'GAC', 'Citroen', 'FAW',\n",
       "       'Muravey', 'Polad', 'Volta', 'Kuba', 'Ssang Yong', 'Bajaj', 'Mack',\n",
       "       'Chrysler', 'Ural', 'C.Moto', 'Shaolin', 'Harley-Davidson', 'DFSK',\n",
       "       'Avia', 'Genesis', 'Soueast', 'Alfa Romeo', 'Minsk',\n",
       "       'Royal Enfield', 'Haima', 'Zongshen', 'Kawasaki', 'Dnepr',\n",
       "       'BMW Alpina', 'KrAZ', 'Rolls-Royce', 'Haojue', 'Nama', 'Karry',\n",
       "       'ZX Auto', 'Maple', 'Grandmoto', 'Jiangmen', 'JAC', 'Lincoln',\n",
       "       'Acura', 'Ferrari', 'TVS'], dtype=object)"
      ]
     },
     "execution_count": 16,
     "metadata": {},
     "output_type": "execute_result"
    }
   ],
   "source": [
    "data['make'].unique()"
   ]
  },
  {
   "cell_type": "code",
   "execution_count": null,
   "id": "8cd03ea9-20be-489d-a6fe-180ab28ba14b",
   "metadata": {},
   "outputs": [],
   "source": []
  },
  {
   "cell_type": "markdown",
   "id": "7d72354f-6705-4a1f-a18b-47f90275833b",
   "metadata": {},
   "source": [
    "## update column"
   ]
  },
  {
   "cell_type": "code",
   "execution_count": 17,
   "id": "33fc6d46-fcd1-454d-9022-8f5599969542",
   "metadata": {
    "tags": []
   },
   "outputs": [
    {
     "data": {
      "text/plain": [
       "array(['Yeniləndi: 26.09.2023', 'Yeniləndi: 23.09.2023',\n",
       "       'Yeniləndi: 22.09.2023', 'Yeniləndi: 05.09.2023',\n",
       "       'Yeniləndi: 15.09.2023', 'Yeniləndi: 21.09.2023',\n",
       "       'Yeniləndi: 25.09.2023', 'Yeniləndi: 12.09.2023',\n",
       "       'Yeniləndi: 24.09.2023', 'Yeniləndi: 20.09.2023',\n",
       "       'Yeniləndi: 13.09.2023', 'Yeniləndi: 18.09.2023',\n",
       "       'Yeniləndi: 19.09.2023', 'Yeniləndi: 16.09.2023',\n",
       "       'Yeniləndi: 10.09.2023', 'Yeniləndi: 17.09.2023',\n",
       "       'Yeniləndi: 28.08.2023', 'Yeniləndi: 11.09.2023',\n",
       "       'Yeniləndi: 14.09.2023', 'Yeniləndi: 07.09.2023',\n",
       "       'Yeniləndi: 09.09.2023', 'Yeniləndi: 29.08.2023',\n",
       "       'Yeniləndi: 08.09.2023', 'Yeniləndi: 04.09.2023',\n",
       "       'Yeniləndi: 30.08.2023', 'Yeniləndi: 03.09.2023',\n",
       "       'Yeniləndi: 31.08.2023', 'Yeniləndi: 06.09.2023',\n",
       "       'Yeniləndi: 01.09.2023', 'Yeniləndi: 02.09.2023'], dtype=object)"
      ]
     },
     "execution_count": 17,
     "metadata": {},
     "output_type": "execute_result"
    }
   ],
   "source": [
    "data['update'].unique()"
   ]
  },
  {
   "cell_type": "code",
   "execution_count": 18,
   "id": "6bac82e3-9cc1-4739-976b-abe21f48d5d5",
   "metadata": {
    "tags": []
   },
   "outputs": [],
   "source": [
    "def convert_update_column_to_datetime(data, column_name ,new_column_name):\n",
    "    data[new_column_name] = pd.to_datetime(data[column_name].str.replace('Yeniləndi: ', '', regex=True), format='%d.%m.%Y')\n",
    "    return data"
   ]
  },
  {
   "cell_type": "code",
   "execution_count": 19,
   "id": "7e8914b9-b5b2-486d-8721-36b99fe0ae00",
   "metadata": {
    "tags": []
   },
   "outputs": [],
   "source": [
    "data = convert_update_column_to_datetime(data, 'update', 'date')"
   ]
  },
  {
   "cell_type": "code",
   "execution_count": 20,
   "id": "93a5bb92-60af-443f-819c-c7297d5ba7ce",
   "metadata": {
    "tags": []
   },
   "outputs": [
    {
     "data": {
      "text/plain": [
       "<DatetimeArray>\n",
       "['2023-09-26 00:00:00', '2023-09-23 00:00:00', '2023-09-22 00:00:00',\n",
       " '2023-09-05 00:00:00', '2023-09-15 00:00:00', '2023-09-21 00:00:00',\n",
       " '2023-09-25 00:00:00', '2023-09-12 00:00:00', '2023-09-24 00:00:00',\n",
       " '2023-09-20 00:00:00', '2023-09-13 00:00:00', '2023-09-18 00:00:00',\n",
       " '2023-09-19 00:00:00', '2023-09-16 00:00:00', '2023-09-10 00:00:00',\n",
       " '2023-09-17 00:00:00', '2023-08-28 00:00:00', '2023-09-11 00:00:00',\n",
       " '2023-09-14 00:00:00', '2023-09-07 00:00:00', '2023-09-09 00:00:00',\n",
       " '2023-08-29 00:00:00', '2023-09-08 00:00:00', '2023-09-04 00:00:00',\n",
       " '2023-08-30 00:00:00', '2023-09-03 00:00:00', '2023-08-31 00:00:00',\n",
       " '2023-09-06 00:00:00', '2023-09-01 00:00:00', '2023-09-02 00:00:00']\n",
       "Length: 30, dtype: datetime64[ns]"
      ]
     },
     "execution_count": 20,
     "metadata": {},
     "output_type": "execute_result"
    }
   ],
   "source": [
    "data['date'].unique()"
   ]
  },
  {
   "cell_type": "code",
   "execution_count": null,
   "id": "6d6c5a69-5527-4d93-9ede-265035dbe17a",
   "metadata": {},
   "outputs": [],
   "source": []
  },
  {
   "cell_type": "markdown",
   "id": "85658457-32cb-4d10-8378-f30555ad900f",
   "metadata": {},
   "source": [
    "## views"
   ]
  },
  {
   "cell_type": "code",
   "execution_count": 21,
   "id": "87683087-6e81-438e-b231-84c1fca26c3f",
   "metadata": {
    "tags": []
   },
   "outputs": [
    {
     "data": {
      "text/html": [
       "<div>\n",
       "<style scoped>\n",
       "    .dataframe tbody tr th:only-of-type {\n",
       "        vertical-align: middle;\n",
       "    }\n",
       "\n",
       "    .dataframe tbody tr th {\n",
       "        vertical-align: top;\n",
       "    }\n",
       "\n",
       "    .dataframe thead th {\n",
       "        text-align: right;\n",
       "    }\n",
       "</style>\n",
       "<table border=\"1\" class=\"dataframe\">\n",
       "  <thead>\n",
       "    <tr style=\"text-align: right;\">\n",
       "      <th></th>\n",
       "      <th>link</th>\n",
       "      <th>title</th>\n",
       "      <th>update</th>\n",
       "      <th>views</th>\n",
       "      <th>city</th>\n",
       "      <th>make</th>\n",
       "      <th>model</th>\n",
       "      <th>year</th>\n",
       "      <th>ban_type</th>\n",
       "      <th>colour</th>\n",
       "      <th>engine</th>\n",
       "      <th>ride</th>\n",
       "      <th>transmission</th>\n",
       "      <th>gear</th>\n",
       "      <th>is_new</th>\n",
       "      <th>price</th>\n",
       "      <th>car_price</th>\n",
       "      <th>currency</th>\n",
       "      <th>date</th>\n",
       "    </tr>\n",
       "  </thead>\n",
       "  <tbody>\n",
       "    <tr>\n",
       "      <th>0</th>\n",
       "      <td>https://turbo.az/autos/7622056-mercedes-g-63-amg</td>\n",
       "      <td>Mercedes G 63 AMG,</td>\n",
       "      <td>Yeniləndi: 26.09.2023</td>\n",
       "      <td>Baxışların sayı: 57162</td>\n",
       "      <td>Bakı</td>\n",
       "      <td>Mercedes</td>\n",
       "      <td>G 63 AMG</td>\n",
       "      <td>2023</td>\n",
       "      <td>Offroader / SUV</td>\n",
       "      <td>Yaşıl</td>\n",
       "      <td>4.0 L/585 a.g./Benzin</td>\n",
       "      <td>0 km</td>\n",
       "      <td>Avtomat</td>\n",
       "      <td>Tam</td>\n",
       "      <td>Avtomat</td>\n",
       "      <td>481 500 AZN</td>\n",
       "      <td>481500</td>\n",
       "      <td>AZN</td>\n",
       "      <td>2023-09-26</td>\n",
       "    </tr>\n",
       "    <tr>\n",
       "      <th>1</th>\n",
       "      <td>https://turbo.az/autos/7709986-hyundai-grandeur</td>\n",
       "      <td>Hyundai Grandeur,</td>\n",
       "      <td>Yeniləndi: 26.09.2023</td>\n",
       "      <td>Baxışların sayı: 2722</td>\n",
       "      <td>Bakı</td>\n",
       "      <td>Hyundai</td>\n",
       "      <td>Grandeur</td>\n",
       "      <td>2014</td>\n",
       "      <td>Sedan</td>\n",
       "      <td>Ağ</td>\n",
       "      <td>2.2 L/202 a.g./Dizel</td>\n",
       "      <td>280 000 km</td>\n",
       "      <td>Avtomat</td>\n",
       "      <td>Ön</td>\n",
       "      <td>Avtomat</td>\n",
       "      <td>31 600 AZN</td>\n",
       "      <td>31600</td>\n",
       "      <td>AZN</td>\n",
       "      <td>2023-09-26</td>\n",
       "    </tr>\n",
       "    <tr>\n",
       "      <th>2</th>\n",
       "      <td>https://turbo.az/autos/7611714-bmw-x5</td>\n",
       "      <td>BMW X5,</td>\n",
       "      <td>Yeniləndi: 26.09.2023</td>\n",
       "      <td>Baxışların sayı: 9612</td>\n",
       "      <td>Bakı</td>\n",
       "      <td>BMW</td>\n",
       "      <td>X5</td>\n",
       "      <td>2013</td>\n",
       "      <td>Offroader / SUV</td>\n",
       "      <td>Ağ</td>\n",
       "      <td>3.0 L/306 a.g./Benzin</td>\n",
       "      <td>265 000 km</td>\n",
       "      <td>Avtomat</td>\n",
       "      <td>Tam</td>\n",
       "      <td>Avtomat</td>\n",
       "      <td>21 000 USD</td>\n",
       "      <td>21000</td>\n",
       "      <td>USD</td>\n",
       "      <td>2023-09-26</td>\n",
       "    </tr>\n",
       "    <tr>\n",
       "      <th>3</th>\n",
       "      <td>https://turbo.az/autos/7771332-hyundai-accent</td>\n",
       "      <td>Hyundai Accent,</td>\n",
       "      <td>Yeniləndi: 26.09.2023</td>\n",
       "      <td>Baxışların sayı: 89</td>\n",
       "      <td>Bakı</td>\n",
       "      <td>Hyundai</td>\n",
       "      <td>Accent</td>\n",
       "      <td>2011</td>\n",
       "      <td>Sedan</td>\n",
       "      <td>Ağ</td>\n",
       "      <td>1.4 L/108 a.g./Benzin</td>\n",
       "      <td>245 000 km</td>\n",
       "      <td>Avtomat</td>\n",
       "      <td>Ön</td>\n",
       "      <td>Avtomat</td>\n",
       "      <td>15 500 AZN</td>\n",
       "      <td>15500</td>\n",
       "      <td>AZN</td>\n",
       "      <td>2023-09-26</td>\n",
       "    </tr>\n",
       "    <tr>\n",
       "      <th>4</th>\n",
       "      <td>https://turbo.az/autos/7771337-ford-fusion</td>\n",
       "      <td>Ford Fusion,</td>\n",
       "      <td>Yeniləndi: 26.09.2023</td>\n",
       "      <td>Baxışların sayı: 52</td>\n",
       "      <td>Bakı</td>\n",
       "      <td>Ford</td>\n",
       "      <td>Fusion</td>\n",
       "      <td>2019</td>\n",
       "      <td>Sedan</td>\n",
       "      <td>Qara</td>\n",
       "      <td>2.0 L/190 a.g./Benzin</td>\n",
       "      <td>100 000 km</td>\n",
       "      <td>Avtomat</td>\n",
       "      <td>Ön</td>\n",
       "      <td>Avtomat</td>\n",
       "      <td>35 000 AZN</td>\n",
       "      <td>35000</td>\n",
       "      <td>AZN</td>\n",
       "      <td>2023-09-26</td>\n",
       "    </tr>\n",
       "  </tbody>\n",
       "</table>\n",
       "</div>"
      ],
      "text/plain": [
       "                                               link                title  \\\n",
       "0  https://turbo.az/autos/7622056-mercedes-g-63-amg  Mercedes G 63 AMG,    \n",
       "1   https://turbo.az/autos/7709986-hyundai-grandeur   Hyundai Grandeur,    \n",
       "2             https://turbo.az/autos/7611714-bmw-x5             BMW X5,    \n",
       "3     https://turbo.az/autos/7771332-hyundai-accent     Hyundai Accent,    \n",
       "4        https://turbo.az/autos/7771337-ford-fusion        Ford Fusion,    \n",
       "\n",
       "                  update                   views  city      make     model  \\\n",
       "0  Yeniləndi: 26.09.2023  Baxışların sayı: 57162  Bakı  Mercedes  G 63 AMG   \n",
       "1  Yeniləndi: 26.09.2023   Baxışların sayı: 2722  Bakı   Hyundai  Grandeur   \n",
       "2  Yeniləndi: 26.09.2023   Baxışların sayı: 9612  Bakı       BMW        X5   \n",
       "3  Yeniləndi: 26.09.2023     Baxışların sayı: 89  Bakı   Hyundai    Accent   \n",
       "4  Yeniləndi: 26.09.2023     Baxışların sayı: 52  Bakı      Ford    Fusion   \n",
       "\n",
       "   year         ban_type colour                 engine        ride  \\\n",
       "0  2023  Offroader / SUV  Yaşıl  4.0 L/585 a.g./Benzin        0 km   \n",
       "1  2014            Sedan     Ağ   2.2 L/202 a.g./Dizel  280 000 km   \n",
       "2  2013  Offroader / SUV     Ağ  3.0 L/306 a.g./Benzin  265 000 km   \n",
       "3  2011            Sedan     Ağ  1.4 L/108 a.g./Benzin  245 000 km   \n",
       "4  2019            Sedan   Qara  2.0 L/190 a.g./Benzin  100 000 km   \n",
       "\n",
       "  transmission gear   is_new        price  car_price currency       date  \n",
       "0      Avtomat  Tam  Avtomat  481 500 AZN     481500      AZN 2023-09-26  \n",
       "1      Avtomat   Ön  Avtomat   31 600 AZN      31600      AZN 2023-09-26  \n",
       "2      Avtomat  Tam  Avtomat   21 000 USD      21000      USD 2023-09-26  \n",
       "3      Avtomat   Ön  Avtomat   15 500 AZN      15500      AZN 2023-09-26  \n",
       "4      Avtomat   Ön  Avtomat   35 000 AZN      35000      AZN 2023-09-26  "
      ]
     },
     "execution_count": 21,
     "metadata": {},
     "output_type": "execute_result"
    }
   ],
   "source": [
    "data.head()"
   ]
  },
  {
   "cell_type": "code",
   "execution_count": 22,
   "id": "54514214-d4e2-47da-855c-e3b3bf4425e3",
   "metadata": {},
   "outputs": [],
   "source": [
    "def clean_view(data, column_name ,new_column_name):\n",
    "    data[new_column_name] = data[column_name].str.replace('Baxışların sayı: ', '', regex=True)\n",
    "    return data"
   ]
  },
  {
   "cell_type": "code",
   "execution_count": 23,
   "id": "210d738a-fb40-414b-9494-00db9743c45d",
   "metadata": {},
   "outputs": [],
   "source": [
    "data = clean_view(data, 'views', 'views_cleaned')\n",
    "data['views_cleaned'] = pd.to_numeric(data['views_cleaned'].str.replace('[^\\d.]', '', regex=True), errors='coerce')"
   ]
  },
  {
   "cell_type": "code",
   "execution_count": null,
   "id": "8017a081-a854-4271-bbcd-d844ec2b99ec",
   "metadata": {},
   "outputs": [],
   "source": []
  },
  {
   "cell_type": "code",
   "execution_count": null,
   "id": "95c21fdf-83cb-4a27-bcae-0234985647a1",
   "metadata": {},
   "outputs": [],
   "source": []
  }
 ],
 "metadata": {
  "kernelspec": {
   "display_name": "Python 3 (ipykernel)",
   "language": "python",
   "name": "python3"
  },
  "language_info": {
   "codemirror_mode": {
    "name": "ipython",
    "version": 3
   },
   "file_extension": ".py",
   "mimetype": "text/x-python",
   "name": "python",
   "nbconvert_exporter": "python",
   "pygments_lexer": "ipython3",
   "version": "3.10.12"
  }
 },
 "nbformat": 4,
 "nbformat_minor": 5
}
